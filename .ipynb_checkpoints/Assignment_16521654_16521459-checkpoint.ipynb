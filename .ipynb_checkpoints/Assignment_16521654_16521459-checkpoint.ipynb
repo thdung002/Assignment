{
 "cells": [
  {
   "cell_type": "markdown",
   "metadata": {},
   "source": [
    "## Part 1"
   ]
  },
  {
   "cell_type": "markdown",
   "metadata": {},
   "source": [
    "2. Implementation"
   ]
  },
  {
   "cell_type": "code",
   "execution_count": 32,
   "metadata": {},
   "outputs": [],
   "source": [
    "import pandas as pd\n",
    "import numpy as np\n",
    "import sklearn as sk\n",
    "from IPython.display import display\n",
    "from sklearn import preprocessing\n"
   ]
  },
  {
   "cell_type": "code",
   "execution_count": 33,
   "metadata": {},
   "outputs": [
    {
     "name": "stderr",
     "output_type": "stream",
     "text": [
      "C:\\ProgramData\\Anaconda3\\lib\\site-packages\\IPython\\core\\interactiveshell.py:2728: DtypeWarning: Columns (0,4,5,6,7) have mixed types. Specify dtype option on import or set low_memory=False.\n",
      "  interactivity=interactivity, compiler=compiler, result=result)\n"
     ]
    },
    {
     "data": {
      "text/html": [
       "<div>\n",
       "<style scoped>\n",
       "    .dataframe tbody tr th:only-of-type {\n",
       "        vertical-align: middle;\n",
       "    }\n",
       "\n",
       "    .dataframe tbody tr th {\n",
       "        vertical-align: top;\n",
       "    }\n",
       "\n",
       "    .dataframe thead th {\n",
       "        text-align: right;\n",
       "    }\n",
       "</style>\n",
       "<table border=\"1\" class=\"dataframe\">\n",
       "  <thead>\n",
       "    <tr style=\"text-align: right;\">\n",
       "      <th></th>\n",
       "      <th>Id</th>\n",
       "      <th>Title</th>\n",
       "      <th>Company</th>\n",
       "      <th>Date</th>\n",
       "      <th>Location</th>\n",
       "      <th>Area</th>\n",
       "      <th>Classification</th>\n",
       "      <th>SubClassification</th>\n",
       "      <th>Requirement</th>\n",
       "      <th>FullDescription</th>\n",
       "      <th>LowestSalary</th>\n",
       "      <th>HighestSalary</th>\n",
       "      <th>JobType</th>\n",
       "    </tr>\n",
       "  </thead>\n",
       "  <tbody>\n",
       "    <tr>\n",
       "      <th>0</th>\n",
       "      <td>37404348</td>\n",
       "      <td>Casual Stock Replenisher</td>\n",
       "      <td>Aldi Stores</td>\n",
       "      <td>2018-10-07T00:00:00.000Z</td>\n",
       "      <td>Sydney</td>\n",
       "      <td>North West &amp; Hills District</td>\n",
       "      <td>Retail &amp; Consumer Products</td>\n",
       "      <td>Retail Assistants</td>\n",
       "      <td>Our Casual Stock Replenishers pride themselves...</td>\n",
       "      <td>NaN</td>\n",
       "      <td>0</td>\n",
       "      <td>30</td>\n",
       "      <td>NaN</td>\n",
       "    </tr>\n",
       "    <tr>\n",
       "      <th>1</th>\n",
       "      <td>37404337</td>\n",
       "      <td>Casual Stock Replenisher</td>\n",
       "      <td>Aldi Stores</td>\n",
       "      <td>2018-10-07T00:00:00.000Z</td>\n",
       "      <td>Richmond &amp; Hawkesbury</td>\n",
       "      <td>NaN</td>\n",
       "      <td>Retail &amp; Consumer Products</td>\n",
       "      <td>Retail Assistants</td>\n",
       "      <td>Our Casual Stock Replenishers pride themselves...</td>\n",
       "      <td>NaN</td>\n",
       "      <td>0</td>\n",
       "      <td>30</td>\n",
       "      <td>NaN</td>\n",
       "    </tr>\n",
       "    <tr>\n",
       "      <th>2</th>\n",
       "      <td>37404356</td>\n",
       "      <td>RETAIL SALES SUPERSTARS and STYLISTS Wanted - ...</td>\n",
       "      <td>LB Creative Pty Ltd</td>\n",
       "      <td>2018-10-07T00:00:00.000Z</td>\n",
       "      <td>Brisbane</td>\n",
       "      <td>CBD &amp; Inner Suburbs</td>\n",
       "      <td>Retail &amp; Consumer Products</td>\n",
       "      <td>Retail Assistants</td>\n",
       "      <td>BRAND NEW FLAGSHIP STORE OPENING - SUNSHINE PLAZA</td>\n",
       "      <td>NaN</td>\n",
       "      <td>0</td>\n",
       "      <td>30</td>\n",
       "      <td>NaN</td>\n",
       "    </tr>\n",
       "    <tr>\n",
       "      <th>3</th>\n",
       "      <td>37404330</td>\n",
       "      <td>Team member - Belrose</td>\n",
       "      <td>Anaconda Group Pty Ltd</td>\n",
       "      <td>2018-10-07T00:00:00.000Z</td>\n",
       "      <td>Gosford &amp; Central Coast</td>\n",
       "      <td>NaN</td>\n",
       "      <td>Retail &amp; Consumer Products</td>\n",
       "      <td>Retail Assistants</td>\n",
       "      <td>Bring it on - do you love the great outdoors a...</td>\n",
       "      <td>NaN</td>\n",
       "      <td>0</td>\n",
       "      <td>30</td>\n",
       "      <td>NaN</td>\n",
       "    </tr>\n",
       "    <tr>\n",
       "      <th>4</th>\n",
       "      <td>37404308</td>\n",
       "      <td>Business Banking Contact Centre Specialist, Ni...</td>\n",
       "      <td>Commonwealth Bank - Business &amp; Private Banking</td>\n",
       "      <td>2018-10-07T00:00:00.000Z</td>\n",
       "      <td>Sydney</td>\n",
       "      <td>Ryde &amp; Macquarie Park</td>\n",
       "      <td>Call Centre &amp; Customer Service</td>\n",
       "      <td>Sales - Inbound</td>\n",
       "      <td>We are seeking highly articulate, enthusiastic...</td>\n",
       "      <td>NaN</td>\n",
       "      <td>0</td>\n",
       "      <td>30</td>\n",
       "      <td>NaN</td>\n",
       "    </tr>\n",
       "  </tbody>\n",
       "</table>\n",
       "</div>"
      ],
      "text/plain": [
       "         Id                                              Title  \\\n",
       "0  37404348                           Casual Stock Replenisher   \n",
       "1  37404337                           Casual Stock Replenisher   \n",
       "2  37404356  RETAIL SALES SUPERSTARS and STYLISTS Wanted - ...   \n",
       "3  37404330                              Team member - Belrose   \n",
       "4  37404308  Business Banking Contact Centre Specialist, Ni...   \n",
       "\n",
       "                                          Company                      Date  \\\n",
       "0                                     Aldi Stores  2018-10-07T00:00:00.000Z   \n",
       "1                                     Aldi Stores  2018-10-07T00:00:00.000Z   \n",
       "2                             LB Creative Pty Ltd  2018-10-07T00:00:00.000Z   \n",
       "3                          Anaconda Group Pty Ltd  2018-10-07T00:00:00.000Z   \n",
       "4  Commonwealth Bank - Business & Private Banking  2018-10-07T00:00:00.000Z   \n",
       "\n",
       "                  Location                         Area  \\\n",
       "0                   Sydney  North West & Hills District   \n",
       "1    Richmond & Hawkesbury                          NaN   \n",
       "2                 Brisbane          CBD & Inner Suburbs   \n",
       "3  Gosford & Central Coast                          NaN   \n",
       "4                   Sydney        Ryde & Macquarie Park   \n",
       "\n",
       "                   Classification  SubClassification  \\\n",
       "0      Retail & Consumer Products  Retail Assistants   \n",
       "1      Retail & Consumer Products  Retail Assistants   \n",
       "2      Retail & Consumer Products  Retail Assistants   \n",
       "3      Retail & Consumer Products  Retail Assistants   \n",
       "4  Call Centre & Customer Service    Sales - Inbound   \n",
       "\n",
       "                                         Requirement FullDescription  \\\n",
       "0  Our Casual Stock Replenishers pride themselves...             NaN   \n",
       "1  Our Casual Stock Replenishers pride themselves...             NaN   \n",
       "2  BRAND NEW FLAGSHIP STORE OPENING - SUNSHINE PLAZA             NaN   \n",
       "3  Bring it on - do you love the great outdoors a...             NaN   \n",
       "4  We are seeking highly articulate, enthusiastic...             NaN   \n",
       "\n",
       "   LowestSalary  HighestSalary JobType  \n",
       "0             0             30     NaN  \n",
       "1             0             30     NaN  \n",
       "2             0             30     NaN  \n",
       "3             0             30     NaN  \n",
       "4             0             30     NaN  "
      ]
     },
     "execution_count": 33,
     "metadata": {},
     "output_type": "execute_result"
    }
   ],
   "source": [
    "%matplotlib inline\n",
    "data = pd.read_csv(\"data.csv\")\n",
    "(data.head())"
   ]
  },
  {
   "cell_type": "markdown",
   "metadata": {},
   "source": [
    "## 1. Describe the dataset"
   ]
  },
  {
   "cell_type": "markdown",
   "metadata": {},
   "source": [
    "## Categories/domains"
   ]
  },
  {
   "cell_type": "code",
   "execution_count": 34,
   "metadata": {},
   "outputs": [
    {
     "data": {
      "text/plain": [
       "['Id',\n",
       " 'Title',\n",
       " 'Company',\n",
       " 'Date',\n",
       " 'Location',\n",
       " 'Area',\n",
       " 'Classification',\n",
       " 'SubClassification',\n",
       " 'Requirement',\n",
       " 'FullDescription',\n",
       " 'LowestSalary',\n",
       " 'HighestSalary',\n",
       " 'JobType']"
      ]
     },
     "execution_count": 34,
     "metadata": {},
     "output_type": "execute_result"
    }
   ],
   "source": [
    "list(data)"
   ]
  },
  {
   "cell_type": "markdown",
   "metadata": {},
   "source": [
    "## Size of each variation (318477)"
   ]
  },
  {
   "cell_type": "code",
   "execution_count": 35,
   "metadata": {},
   "outputs": [
    {
     "data": {
      "text/plain": [
       "(318477, 13)"
      ]
     },
     "execution_count": 35,
     "metadata": {},
     "output_type": "execute_result"
    }
   ],
   "source": [
    "data.shape"
   ]
  },
  {
   "cell_type": "markdown",
   "metadata": {},
   "source": [
    "## Structure/format"
   ]
  },
  {
   "cell_type": "code",
   "execution_count": 36,
   "metadata": {},
   "outputs": [
    {
     "data": {
      "text/plain": [
       "Id                   object\n",
       "Title                object\n",
       "Company              object\n",
       "Date                 object\n",
       "Location             object\n",
       "Area                 object\n",
       "Classification       object\n",
       "SubClassification    object\n",
       "Requirement          object\n",
       "FullDescription      object\n",
       "LowestSalary          int64\n",
       "HighestSalary         int64\n",
       "JobType              object\n",
       "dtype: object"
      ]
     },
     "execution_count": 36,
     "metadata": {},
     "output_type": "execute_result"
    }
   ],
   "source": [
    "data.dtypes"
   ]
  },
  {
   "cell_type": "code",
   "execution_count": 37,
   "metadata": {},
   "outputs": [
    {
     "name": "stdout",
     "output_type": "stream",
     "text": [
      "<class 'pandas.core.frame.DataFrame'>\n",
      "RangeIndex: 318477 entries, 0 to 318476\n",
      "Data columns (total 13 columns):\n",
      "Id                   318477 non-null object\n",
      "Title                318477 non-null object\n",
      "Company              306473 non-null object\n",
      "Date                 318477 non-null object\n",
      "Location             197229 non-null object\n",
      "Area                 122658 non-null object\n",
      "Classification       197229 non-null object\n",
      "SubClassification    197229 non-null object\n",
      "Requirement          318470 non-null object\n",
      "FullDescription      302302 non-null object\n",
      "LowestSalary         318477 non-null int64\n",
      "HighestSalary        318477 non-null int64\n",
      "JobType              302379 non-null object\n",
      "dtypes: int64(2), object(11)\n",
      "memory usage: 31.6+ MB\n"
     ]
    }
   ],
   "source": [
    "data.info()"
   ]
  },
  {
   "cell_type": "markdown",
   "metadata": {},
   "source": [
    "## attributes/features of review data "
   ]
  },
  {
   "cell_type": "markdown",
   "metadata": {},
   "source": [
    "For the purpost of this analysis, we are going to need to look at all the countries except for id"
   ]
  },
  {
   "cell_type": "markdown",
   "metadata": {},
   "source": [
    "This is because we will be examining how the job market at different location changes over time. This period over which the data were collected rages from 2018-10-01 to 2010-03-13"
   ]
  },
  {
   "cell_type": "markdown",
   "metadata": {},
   "source": [
    "Other features such as job classification and requirements will also be used to support out analysis"
   ]
  },
  {
   "cell_type": "markdown",
   "metadata": {},
   "source": [
    "Lowest and Highest Salary is going to tell us the relationship between job classicication and the amount of pay"
   ]
  },
  {
   "cell_type": "markdown",
   "metadata": {},
   "source": [
    "## 2.Steps used for data preparation and preprocessing "
   ]
  },
  {
   "cell_type": "markdown",
   "metadata": {},
   "source": [
    "Load data"
   ]
  },
  {
   "cell_type": "code",
   "execution_count": 38,
   "metadata": {},
   "outputs": [
    {
     "name": "stderr",
     "output_type": "stream",
     "text": [
      "C:\\ProgramData\\Anaconda3\\lib\\site-packages\\IPython\\core\\interactiveshell.py:2728: DtypeWarning: Columns (0,4,5,6,7) have mixed types. Specify dtype option on import or set low_memory=False.\n",
      "  interactivity=interactivity, compiler=compiler, result=result)\n"
     ]
    }
   ],
   "source": [
    "data = pd.read_csv(\"data.csv\")"
   ]
  },
  {
   "cell_type": "markdown",
   "metadata": {},
   "source": [
    "Normalize the data"
   ]
  },
  {
   "cell_type": "code",
   "execution_count": 39,
   "metadata": {},
   "outputs": [
    {
     "data": {
      "text/plain": [
       "0          0.0\n",
       "1          0.0\n",
       "2          0.0\n",
       "3          0.0\n",
       "4          0.0\n",
       "5          0.0\n",
       "6          0.0\n",
       "7          0.0\n",
       "8          0.0\n",
       "9          0.0\n",
       "10         0.0\n",
       "11         0.0\n",
       "12         0.0\n",
       "13         0.0\n",
       "14         0.0\n",
       "15         0.0\n",
       "16         0.0\n",
       "17         0.0\n",
       "18         0.0\n",
       "19         0.0\n",
       "20         0.0\n",
       "21         0.0\n",
       "22         0.0\n",
       "23         0.0\n",
       "24         0.0\n",
       "25         0.0\n",
       "26         0.0\n",
       "27         0.0\n",
       "28         0.0\n",
       "29         0.0\n",
       "          ... \n",
       "318447    12.0\n",
       "318448    12.0\n",
       "318449    12.0\n",
       "318450    12.0\n",
       "318451    12.0\n",
       "318452    12.0\n",
       "318453    12.0\n",
       "318454    12.0\n",
       "318455    12.0\n",
       "318456    12.0\n",
       "318457    12.0\n",
       "318458    15.0\n",
       "318459    15.0\n",
       "318460    15.0\n",
       "318461    15.0\n",
       "318462    15.0\n",
       "318463    15.0\n",
       "318464    15.0\n",
       "318465    15.0\n",
       "318466    15.0\n",
       "318467    15.0\n",
       "318468    15.0\n",
       "318469    20.0\n",
       "318470    20.0\n",
       "318471    20.0\n",
       "318472    20.0\n",
       "318473    20.0\n",
       "318474    20.0\n",
       "318475    20.0\n",
       "318476    20.0\n",
       "Name: LowestSalary, Length: 318477, dtype: float64"
      ]
     },
     "execution_count": 39,
     "metadata": {},
     "output_type": "execute_result"
    }
   ],
   "source": [
    "data_norm = (data[\"LowestSalary\"] - data[\"LowestSalary\"].min()) / (data[\"LowestSalary\"].max() - data[\"LowestSalary\"].min())*20\n",
    "data_norm"
   ]
  },
  {
   "cell_type": "code",
   "execution_count": 40,
   "metadata": {},
   "outputs": [
    {
     "data": {
      "text/plain": [
       "0          0.000000\n",
       "1          0.000000\n",
       "2          0.000000\n",
       "3          0.000000\n",
       "4          0.000000\n",
       "5          0.000000\n",
       "6          0.000000\n",
       "7          0.000000\n",
       "8          0.000000\n",
       "9          0.000000\n",
       "10         0.000000\n",
       "11         0.000000\n",
       "12         0.000000\n",
       "13         0.000000\n",
       "14         0.000000\n",
       "15         0.000000\n",
       "16         0.000000\n",
       "17         0.000000\n",
       "18         0.000000\n",
       "19         0.000000\n",
       "20         0.000000\n",
       "21         0.000000\n",
       "22         0.000000\n",
       "23         0.000000\n",
       "24         0.000000\n",
       "25         0.000000\n",
       "26         0.000000\n",
       "27         0.000000\n",
       "28         0.000000\n",
       "29         0.000000\n",
       "            ...    \n",
       "318447     2.476780\n",
       "318448     2.476780\n",
       "318449     2.476780\n",
       "318450     2.476780\n",
       "318451     2.476780\n",
       "318452     2.476780\n",
       "318453     2.476780\n",
       "318454     2.476780\n",
       "318455     2.476780\n",
       "318456     2.476780\n",
       "318457     2.476780\n",
       "318458     3.508772\n",
       "318459     3.508772\n",
       "318460     3.508772\n",
       "318461     3.508772\n",
       "318462     3.508772\n",
       "318463     3.508772\n",
       "318464     3.508772\n",
       "318465     3.508772\n",
       "318466     3.508772\n",
       "318467     3.508772\n",
       "318468     3.508772\n",
       "318469    20.000000\n",
       "318470    20.000000\n",
       "318471    20.000000\n",
       "318472    20.000000\n",
       "318473    20.000000\n",
       "318474    20.000000\n",
       "318475    20.000000\n",
       "318476    20.000000\n",
       "Name: HighestSalary, Length: 318477, dtype: float64"
      ]
     },
     "execution_count": 40,
     "metadata": {},
     "output_type": "execute_result"
    }
   ],
   "source": [
    "data_norm = (data[\"HighestSalary\"] - data[\"HighestSalary\"].min()) / (data[\"HighestSalary\"].max() - data[\"HighestSalary\"].min())*20\n",
    "data_norm"
   ]
  },
  {
   "cell_type": "code",
   "execution_count": 41,
   "metadata": {},
   "outputs": [
    {
     "data": {
      "text/plain": [
       "array([nan, 'Full Time', 'Contract/Temp', 'Part Time', 'Casual/Vacation'],\n",
       "      dtype=object)"
      ]
     },
     "execution_count": 41,
     "metadata": {},
     "output_type": "execute_result"
    }
   ],
   "source": [
    "data['JobType'].unique()"
   ]
  },
  {
   "cell_type": "code",
   "execution_count": 42,
   "metadata": {},
   "outputs": [
    {
     "data": {
      "text/plain": [
       "195819"
      ]
     },
     "execution_count": 42,
     "metadata": {},
     "output_type": "execute_result"
    }
   ],
   "source": [
    "data['Area'].isnull().sum()"
   ]
  },
  {
   "cell_type": "code",
   "execution_count": 43,
   "metadata": {},
   "outputs": [
    {
     "data": {
      "text/plain": [
       "121248"
      ]
     },
     "execution_count": 43,
     "metadata": {},
     "output_type": "execute_result"
    }
   ],
   "source": [
    "data['Location'].isnull().sum()"
   ]
  },
  {
   "cell_type": "code",
   "execution_count": 44,
   "metadata": {},
   "outputs": [
    {
     "data": {
      "text/plain": [
       "121248"
      ]
     },
     "execution_count": 44,
     "metadata": {},
     "output_type": "execute_result"
    }
   ],
   "source": [
    "data['Classification'].isnull().sum()"
   ]
  },
  {
   "cell_type": "code",
   "execution_count": 45,
   "metadata": {},
   "outputs": [
    {
     "data": {
      "text/plain": [
       "121248"
      ]
     },
     "execution_count": 45,
     "metadata": {},
     "output_type": "execute_result"
    }
   ],
   "source": [
    "data['SubClassification'].isnull().sum()"
   ]
  },
  {
   "cell_type": "markdown",
   "metadata": {},
   "source": [
    "We can see that there are a lot of missing values for Location, Area, Classification, and sub-Classification but we are not sure if the analysis need to focus on this part"
   ]
  },
  {
   "cell_type": "markdown",
   "metadata": {},
   "source": [
    "## Clean the data"
   ]
  },
  {
   "cell_type": "markdown",
   "metadata": {},
   "source": [
    "We see that the ID we dont use so we drop that"
   ]
  },
  {
   "cell_type": "code",
   "execution_count": 46,
   "metadata": {},
   "outputs": [],
   "source": [
    "data.drop(['Id'],axis=1,inplace=True)"
   ]
  },
  {
   "cell_type": "markdown",
   "metadata": {},
   "source": [
    "Secondly the jobtype some information is missing so we fill that is no information"
   ]
  },
  {
   "cell_type": "code",
   "execution_count": 47,
   "metadata": {},
   "outputs": [],
   "source": [
    "data['JobType']= data['JobType'].fillna('No information')"
   ]
  },
  {
   "cell_type": "code",
   "execution_count": 48,
   "metadata": {
    "scrolled": true
   },
   "outputs": [
    {
     "data": {
      "text/html": [
       "<div>\n",
       "<style scoped>\n",
       "    .dataframe tbody tr th:only-of-type {\n",
       "        vertical-align: middle;\n",
       "    }\n",
       "\n",
       "    .dataframe tbody tr th {\n",
       "        vertical-align: top;\n",
       "    }\n",
       "\n",
       "    .dataframe thead th {\n",
       "        text-align: right;\n",
       "    }\n",
       "</style>\n",
       "<table border=\"1\" class=\"dataframe\">\n",
       "  <thead>\n",
       "    <tr style=\"text-align: right;\">\n",
       "      <th></th>\n",
       "      <th>Title</th>\n",
       "      <th>Company</th>\n",
       "      <th>Date</th>\n",
       "      <th>Location</th>\n",
       "      <th>Area</th>\n",
       "      <th>Classification</th>\n",
       "      <th>SubClassification</th>\n",
       "      <th>Requirement</th>\n",
       "      <th>FullDescription</th>\n",
       "      <th>LowestSalary</th>\n",
       "      <th>HighestSalary</th>\n",
       "      <th>JobType</th>\n",
       "    </tr>\n",
       "  </thead>\n",
       "  <tbody>\n",
       "    <tr>\n",
       "      <th>318472</th>\n",
       "      <td>Program Manager - Trade Reporting</td>\n",
       "      <td>Talenza</td>\n",
       "      <td>2019-03-13T00:00:00.000Z</td>\n",
       "      <td>NaN</td>\n",
       "      <td>NaN</td>\n",
       "      <td>NaN</td>\n",
       "      <td>NaN</td>\n",
       "      <td>Our client is a large Financial Services firm ...</td>\n",
       "      <td>NaN</td>\n",
       "      <td>200</td>\n",
       "      <td>999</td>\n",
       "      <td>No information</td>\n",
       "    </tr>\n",
       "    <tr>\n",
       "      <th>318473</th>\n",
       "      <td>Web Content Writer - June 2019 contract</td>\n",
       "      <td>Talent – Winner ‘Seek Large Recruitment Agency...</td>\n",
       "      <td>2019-03-13T00:00:00.000Z</td>\n",
       "      <td>NaN</td>\n",
       "      <td>NaN</td>\n",
       "      <td>NaN</td>\n",
       "      <td>NaN</td>\n",
       "      <td>You will be able to write clearly and concisel...</td>\n",
       "      <td>NaN</td>\n",
       "      <td>200</td>\n",
       "      <td>999</td>\n",
       "      <td>No information</td>\n",
       "    </tr>\n",
       "    <tr>\n",
       "      <th>318474</th>\n",
       "      <td>Brand Director - Global Premium Brand</td>\n",
       "      <td>Retail Career Consulting Pty Ltd</td>\n",
       "      <td>2019-03-12T00:00:00.000Z</td>\n",
       "      <td>NaN</td>\n",
       "      <td>NaN</td>\n",
       "      <td>NaN</td>\n",
       "      <td>NaN</td>\n",
       "      <td>Newly created Brand Director AUS. Must be comm...</td>\n",
       "      <td>NaN</td>\n",
       "      <td>200</td>\n",
       "      <td>999</td>\n",
       "      <td>No information</td>\n",
       "    </tr>\n",
       "    <tr>\n",
       "      <th>318475</th>\n",
       "      <td>Head of Financial Planning, Reporting &amp; Strategy</td>\n",
       "      <td>Moir Group</td>\n",
       "      <td>2019-03-08T00:00:00.000Z</td>\n",
       "      <td>NaN</td>\n",
       "      <td>NaN</td>\n",
       "      <td>NaN</td>\n",
       "      <td>NaN</td>\n",
       "      <td>High-quality manufacturing organisation. Excit...</td>\n",
       "      <td>NaN</td>\n",
       "      <td>200</td>\n",
       "      <td>999</td>\n",
       "      <td>No information</td>\n",
       "    </tr>\n",
       "    <tr>\n",
       "      <th>318476</th>\n",
       "      <td>Head of Operations - EOI</td>\n",
       "      <td>Austcorp Executive</td>\n",
       "      <td>2019-03-13T00:00:00.000Z</td>\n",
       "      <td>NaN</td>\n",
       "      <td>NaN</td>\n",
       "      <td>NaN</td>\n",
       "      <td>NaN</td>\n",
       "      <td>Expressions of interest for a leadership role</td>\n",
       "      <td>NaN</td>\n",
       "      <td>200</td>\n",
       "      <td>999</td>\n",
       "      <td>No information</td>\n",
       "    </tr>\n",
       "  </tbody>\n",
       "</table>\n",
       "</div>"
      ],
      "text/plain": [
       "                                                   Title  \\\n",
       "318472                 Program Manager - Trade Reporting   \n",
       "318473           Web Content Writer - June 2019 contract   \n",
       "318474             Brand Director - Global Premium Brand   \n",
       "318475  Head of Financial Planning, Reporting & Strategy   \n",
       "318476                          Head of Operations - EOI   \n",
       "\n",
       "                                                  Company  \\\n",
       "318472                                            Talenza   \n",
       "318473  Talent – Winner ‘Seek Large Recruitment Agency...   \n",
       "318474                   Retail Career Consulting Pty Ltd   \n",
       "318475                                         Moir Group   \n",
       "318476                                 Austcorp Executive   \n",
       "\n",
       "                            Date Location Area Classification  \\\n",
       "318472  2019-03-13T00:00:00.000Z      NaN  NaN            NaN   \n",
       "318473  2019-03-13T00:00:00.000Z      NaN  NaN            NaN   \n",
       "318474  2019-03-12T00:00:00.000Z      NaN  NaN            NaN   \n",
       "318475  2019-03-08T00:00:00.000Z      NaN  NaN            NaN   \n",
       "318476  2019-03-13T00:00:00.000Z      NaN  NaN            NaN   \n",
       "\n",
       "       SubClassification                                        Requirement  \\\n",
       "318472               NaN  Our client is a large Financial Services firm ...   \n",
       "318473               NaN  You will be able to write clearly and concisel...   \n",
       "318474               NaN  Newly created Brand Director AUS. Must be comm...   \n",
       "318475               NaN  High-quality manufacturing organisation. Excit...   \n",
       "318476               NaN      Expressions of interest for a leadership role   \n",
       "\n",
       "       FullDescription  LowestSalary  HighestSalary         JobType  \n",
       "318472             NaN           200            999  No information  \n",
       "318473             NaN           200            999  No information  \n",
       "318474             NaN           200            999  No information  \n",
       "318475             NaN           200            999  No information  \n",
       "318476             NaN           200            999  No information  "
      ]
     },
     "execution_count": 48,
     "metadata": {},
     "output_type": "execute_result"
    }
   ],
   "source": [
    "data.tail()"
   ]
  },
  {
   "cell_type": "markdown",
   "metadata": {},
   "source": [
    "## Hypothesis about the analysis outcome?"
   ]
  },
  {
   "cell_type": "markdown",
   "metadata": {},
   "source": [
    "If we compare average salary per location, we think that bigger cities will have a higher salary (looking at variation of salary within that city)\n",
    "Also we think that there will be mom demans for job in the main citites\n",
    "If there a more demand for a certain type of job classication, salary would be higher"
   ]
  },
  {
   "cell_type": "markdown",
   "metadata": {},
   "source": [
    "## PART 2"
   ]
  },
  {
   "cell_type": "markdown",
   "metadata": {},
   "source": [
    "## 1) Extract the relevant information to describe the job's attributes"
   ]
  },
  {
   "cell_type": "code",
   "execution_count": null,
   "metadata": {},
   "outputs": [],
   "source": []
  },
  {
   "cell_type": "markdown",
   "metadata": {},
   "source": [
    "## 2) Study the market by locations"
   ]
  },
  {
   "cell_type": "code",
   "execution_count": 49,
   "metadata": {},
   "outputs": [
    {
     "data": {
      "text/html": [
       "<div>\n",
       "<style scoped>\n",
       "    .dataframe tbody tr th:only-of-type {\n",
       "        vertical-align: middle;\n",
       "    }\n",
       "\n",
       "    .dataframe tbody tr th {\n",
       "        vertical-align: top;\n",
       "    }\n",
       "\n",
       "    .dataframe thead th {\n",
       "        text-align: right;\n",
       "    }\n",
       "</style>\n",
       "<table border=\"1\" class=\"dataframe\">\n",
       "  <thead>\n",
       "    <tr style=\"text-align: right;\">\n",
       "      <th></th>\n",
       "      <th>Title</th>\n",
       "      <th>Company</th>\n",
       "      <th>Date</th>\n",
       "      <th>Location</th>\n",
       "      <th>Area</th>\n",
       "      <th>Classification</th>\n",
       "      <th>SubClassification</th>\n",
       "      <th>Requirement</th>\n",
       "      <th>FullDescription</th>\n",
       "      <th>LowestSalary</th>\n",
       "      <th>HighestSalary</th>\n",
       "      <th>JobType</th>\n",
       "    </tr>\n",
       "  </thead>\n",
       "  <tbody>\n",
       "    <tr>\n",
       "      <th>0</th>\n",
       "      <td>Casual Stock Replenisher</td>\n",
       "      <td>Aldi Stores</td>\n",
       "      <td>2018-10-07T00:00:00.000Z</td>\n",
       "      <td>Sydney</td>\n",
       "      <td>North West &amp; Hills District</td>\n",
       "      <td>Retail &amp; Consumer Products</td>\n",
       "      <td>Retail Assistants</td>\n",
       "      <td>Our Casual Stock Replenishers pride themselves...</td>\n",
       "      <td>NaN</td>\n",
       "      <td>0</td>\n",
       "      <td>30</td>\n",
       "      <td>No information</td>\n",
       "    </tr>\n",
       "    <tr>\n",
       "      <th>1</th>\n",
       "      <td>Casual Stock Replenisher</td>\n",
       "      <td>Aldi Stores</td>\n",
       "      <td>2018-10-07T00:00:00.000Z</td>\n",
       "      <td>Richmond &amp; Hawkesbury</td>\n",
       "      <td>NaN</td>\n",
       "      <td>Retail &amp; Consumer Products</td>\n",
       "      <td>Retail Assistants</td>\n",
       "      <td>Our Casual Stock Replenishers pride themselves...</td>\n",
       "      <td>NaN</td>\n",
       "      <td>0</td>\n",
       "      <td>30</td>\n",
       "      <td>No information</td>\n",
       "    </tr>\n",
       "    <tr>\n",
       "      <th>2</th>\n",
       "      <td>RETAIL SALES SUPERSTARS and STYLISTS Wanted - ...</td>\n",
       "      <td>LB Creative Pty Ltd</td>\n",
       "      <td>2018-10-07T00:00:00.000Z</td>\n",
       "      <td>Brisbane</td>\n",
       "      <td>CBD &amp; Inner Suburbs</td>\n",
       "      <td>Retail &amp; Consumer Products</td>\n",
       "      <td>Retail Assistants</td>\n",
       "      <td>BRAND NEW FLAGSHIP STORE OPENING - SUNSHINE PLAZA</td>\n",
       "      <td>NaN</td>\n",
       "      <td>0</td>\n",
       "      <td>30</td>\n",
       "      <td>No information</td>\n",
       "    </tr>\n",
       "    <tr>\n",
       "      <th>3</th>\n",
       "      <td>Team member - Belrose</td>\n",
       "      <td>Anaconda Group Pty Ltd</td>\n",
       "      <td>2018-10-07T00:00:00.000Z</td>\n",
       "      <td>Gosford &amp; Central Coast</td>\n",
       "      <td>NaN</td>\n",
       "      <td>Retail &amp; Consumer Products</td>\n",
       "      <td>Retail Assistants</td>\n",
       "      <td>Bring it on - do you love the great outdoors a...</td>\n",
       "      <td>NaN</td>\n",
       "      <td>0</td>\n",
       "      <td>30</td>\n",
       "      <td>No information</td>\n",
       "    </tr>\n",
       "    <tr>\n",
       "      <th>4</th>\n",
       "      <td>Business Banking Contact Centre Specialist, Ni...</td>\n",
       "      <td>Commonwealth Bank - Business &amp; Private Banking</td>\n",
       "      <td>2018-10-07T00:00:00.000Z</td>\n",
       "      <td>Sydney</td>\n",
       "      <td>Ryde &amp; Macquarie Park</td>\n",
       "      <td>Call Centre &amp; Customer Service</td>\n",
       "      <td>Sales - Inbound</td>\n",
       "      <td>We are seeking highly articulate, enthusiastic...</td>\n",
       "      <td>NaN</td>\n",
       "      <td>0</td>\n",
       "      <td>30</td>\n",
       "      <td>No information</td>\n",
       "    </tr>\n",
       "  </tbody>\n",
       "</table>\n",
       "</div>"
      ],
      "text/plain": [
       "                                               Title  \\\n",
       "0                           Casual Stock Replenisher   \n",
       "1                           Casual Stock Replenisher   \n",
       "2  RETAIL SALES SUPERSTARS and STYLISTS Wanted - ...   \n",
       "3                              Team member - Belrose   \n",
       "4  Business Banking Contact Centre Specialist, Ni...   \n",
       "\n",
       "                                          Company                      Date  \\\n",
       "0                                     Aldi Stores  2018-10-07T00:00:00.000Z   \n",
       "1                                     Aldi Stores  2018-10-07T00:00:00.000Z   \n",
       "2                             LB Creative Pty Ltd  2018-10-07T00:00:00.000Z   \n",
       "3                          Anaconda Group Pty Ltd  2018-10-07T00:00:00.000Z   \n",
       "4  Commonwealth Bank - Business & Private Banking  2018-10-07T00:00:00.000Z   \n",
       "\n",
       "                  Location                         Area  \\\n",
       "0                   Sydney  North West & Hills District   \n",
       "1    Richmond & Hawkesbury                          NaN   \n",
       "2                 Brisbane          CBD & Inner Suburbs   \n",
       "3  Gosford & Central Coast                          NaN   \n",
       "4                   Sydney        Ryde & Macquarie Park   \n",
       "\n",
       "                   Classification  SubClassification  \\\n",
       "0      Retail & Consumer Products  Retail Assistants   \n",
       "1      Retail & Consumer Products  Retail Assistants   \n",
       "2      Retail & Consumer Products  Retail Assistants   \n",
       "3      Retail & Consumer Products  Retail Assistants   \n",
       "4  Call Centre & Customer Service    Sales - Inbound   \n",
       "\n",
       "                                         Requirement FullDescription  \\\n",
       "0  Our Casual Stock Replenishers pride themselves...             NaN   \n",
       "1  Our Casual Stock Replenishers pride themselves...             NaN   \n",
       "2  BRAND NEW FLAGSHIP STORE OPENING - SUNSHINE PLAZA             NaN   \n",
       "3  Bring it on - do you love the great outdoors a...             NaN   \n",
       "4  We are seeking highly articulate, enthusiastic...             NaN   \n",
       "\n",
       "   LowestSalary  HighestSalary         JobType  \n",
       "0             0             30  No information  \n",
       "1             0             30  No information  \n",
       "2             0             30  No information  \n",
       "3             0             30  No information  \n",
       "4             0             30  No information  "
      ]
     },
     "execution_count": 49,
     "metadata": {},
     "output_type": "execute_result"
    }
   ],
   "source": [
    "data.head()"
   ]
  },
  {
   "cell_type": "markdown",
   "metadata": {},
   "source": [
    "# Number of different job sectors in each city"
   ]
  },
  {
   "cell_type": "code",
   "execution_count": 50,
   "metadata": {},
   "outputs": [
    {
     "data": {
      "text/plain": [
       "Location\n",
       "ACT                                     277\n",
       "Adelaide                                298\n",
       "Adelaide Hills & Barossa                 67\n",
       "Albany & Great Southern                  63\n",
       "Albury Area                             126\n",
       "Alice Springs & Central Australia        83\n",
       "Bairnsdale & Gippsland                  110\n",
       "Ballarat & Central Highlands            144\n",
       "Bendigo, Goldfields & Macedon Ranges    152\n",
       "Blue Mountains & Central West           169\n",
       "Brisbane                                329\n",
       "Broome & Kimberley                       84\n",
       "Bunbury & South West                    128\n",
       "Bundaberg & Wide Bay Burnett            105\n",
       "Cairns & Far North                      196\n",
       "Central & South East TAS                 32\n",
       "Coffs Harbour & North Coast             117\n",
       "Coober Pedy & Outback SA                 40\n",
       "Darwin                                  195\n",
       "Devonport & North West                   98\n",
       "Dubbo & Central NSW                     134\n",
       "Far West & North Central NSW             64\n",
       "Fleurieu Peninsula & Kangaroo Island     36\n",
       "Geraldton, Gascoyne & Midwest            88\n",
       "Gladstone & Central QLD                 137\n",
       "Gold Coast                              239\n",
       "Gosford & Central Coast                 181\n",
       "Hervey Bay & Fraser Coast                88\n",
       "Hobart                                  199\n",
       "Horsham & Grampians                      70\n",
       "                                       ... \n",
       "Mandurah & Peel                          78\n",
       "Melbourne                               332\n",
       "Mildura & Murray                        101\n",
       "Mornington Peninsula & Bass Coast       121\n",
       "Mt Gambier & Limestone Coast             57\n",
       "Newcastle, Maitland & Hunter            261\n",
       "Northam & Wheatbelt                      58\n",
       "Northern QLD                            199\n",
       "Perth                                   312\n",
       "Port Hedland, Karratha & Pilbara        136\n",
       "Port Macquarie & Mid North Coast        122\n",
       "Richmond & Hawkesbury                    61\n",
       "Riverland & Murray Mallee                61\n",
       "Rockhampton & Capricorn Coast           135\n",
       "Shepparton & Goulburn Valley            134\n",
       "Somerset & Lockyer                       39\n",
       "South West Coast VIC                    215\n",
       "Southern Highlands & Tablelands         119\n",
       "Sunshine Coast                          175\n",
       "Sydney                                  334\n",
       "Tamworth & North West NSW               139\n",
       "Toowoomba & Darling Downs               182\n",
       "Tumut, Snowy & Monaro                    48\n",
       "Wagga Wagga & Riverina                  158\n",
       "West Gippsland & Latrobe Valley         135\n",
       "Western QLD                             117\n",
       "Whyalla & Eyre Peninsula                 73\n",
       "Wollongong, Illawarra & South Coast     216\n",
       "Yarra Valley & High Country             118\n",
       "Yorke Peninsula & Clare Valley           46\n",
       "Name: SubClassification, Length: 65, dtype: int64"
      ]
     },
     "execution_count": 50,
     "metadata": {},
     "output_type": "execute_result"
    }
   ],
   "source": [
    "jobNum = data.groupby('Location')['SubClassification'].nunique()\n",
    "jobNum"
   ]
  },
  {
   "cell_type": "markdown",
   "metadata": {},
   "source": [
    "# Number of jobs (market size) in each city"
   ]
  },
  {
   "cell_type": "code",
   "execution_count": 51,
   "metadata": {},
   "outputs": [
    {
     "data": {
      "text/plain": [
       "Location\n",
       "ACT                                      6250\n",
       "Adelaide                                 6653\n",
       "Adelaide Hills & Barossa                  193\n",
       "Albany & Great Southern                   150\n",
       "Albury Area                               416\n",
       "Alice Springs & Central Australia         301\n",
       "Bairnsdale & Gippsland                    378\n",
       "Ballarat & Central Highlands              603\n",
       "Bendigo, Goldfields & Macedon Ranges      808\n",
       "Blue Mountains & Central West             942\n",
       "Brisbane                                21466\n",
       "Broome & Kimberley                        283\n",
       "Bunbury & South West                      635\n",
       "Bundaberg & Wide Bay Burnett              409\n",
       "Cairns & Far North                       1509\n",
       "Central & South East TAS                   57\n",
       "Coffs Harbour & North Coast               440\n",
       "Coober Pedy & Outback SA                  112\n",
       "Darwin                                   1266\n",
       "Devonport & North West                    256\n",
       "Dubbo & Central NSW                       642\n",
       "Far West & North Central NSW              197\n",
       "Fleurieu Peninsula & Kangaroo Island       64\n",
       "Geraldton, Gascoyne & Midwest             341\n",
       "Gladstone & Central QLD                   712\n",
       "Gold Coast                               3588\n",
       "Gosford & Central Coast                  1343\n",
       "Hervey Bay & Fraser Coast                 285\n",
       "Hobart                                   1051\n",
       "Horsham & Grampians                       209\n",
       "                                        ...  \n",
       "Mandurah & Peel                           250\n",
       "Melbourne                               46690\n",
       "Mildura & Murray                          307\n",
       "Mornington Peninsula & Bass Coast         739\n",
       "Mt Gambier & Limestone Coast              168\n",
       "Newcastle, Maitland & Hunter             3958\n",
       "Northam & Wheatbelt                       160\n",
       "Northern QLD                             1493\n",
       "Perth                                   13198\n",
       "Port Hedland, Karratha & Pilbara         1667\n",
       "Port Macquarie & Mid North Coast          469\n",
       "Richmond & Hawkesbury                     140\n",
       "Riverland & Murray Mallee                 149\n",
       "Rockhampton & Capricorn Coast             728\n",
       "Shepparton & Goulburn Valley              601\n",
       "Somerset & Lockyer                         65\n",
       "South West Coast VIC                     1790\n",
       "Southern Highlands & Tablelands           465\n",
       "Sunshine Coast                           1554\n",
       "Sydney                                  60765\n",
       "Tamworth & North West NSW                 610\n",
       "Toowoomba & Darling Downs                1310\n",
       "Tumut, Snowy & Monaro                      86\n",
       "Wagga Wagga & Riverina                    802\n",
       "West Gippsland & Latrobe Valley           576\n",
       "Western QLD                               514\n",
       "Whyalla & Eyre Peninsula                  201\n",
       "Wollongong, Illawarra & South Coast      1657\n",
       "Yarra Valley & High Country               499\n",
       "Yorke Peninsula & Clare Valley             96\n",
       "Length: 65, dtype: int64"
      ]
     },
     "execution_count": 51,
     "metadata": {},
     "output_type": "execute_result"
    }
   ],
   "source": [
    "marketSize = data.groupby('Location').size()\n",
    "marketSize"
   ]
  },
  {
   "cell_type": "markdown",
   "metadata": {},
   "source": [
    "# Hottest job sectors in each city"
   ]
  },
  {
   "cell_type": "code",
   "execution_count": 52,
   "metadata": {},
   "outputs": [
    {
     "data": {
      "text/plain": [
       "Location\n",
       "ACT                                         Workplace Training & Assessment\n",
       "Adelaide                                    Workplace Training & Assessment\n",
       "Adelaide Hills & Barossa                               Winery & Viticulture\n",
       "Albany & Great Southern                              Welders & Boilermakers\n",
       "Albury Area                                 Workplace Training & Assessment\n",
       "Alice Springs & Central Australia           Workplace Training & Assessment\n",
       "Bairnsdale & Gippsland                               Welders & Boilermakers\n",
       "Ballarat & Central Highlands                Workplace Training & Assessment\n",
       "Bendigo, Goldfields & Macedon Ranges                 Welders & Boilermakers\n",
       "Blue Mountains & Central West                        Welders & Boilermakers\n",
       "Brisbane                                    Workplace Training & Assessment\n",
       "Broome & Kimberley                          Workplace Training & Assessment\n",
       "Bunbury & South West                        Workplace Training & Assessment\n",
       "Bundaberg & Wide Bay Burnett                Workplace Training & Assessment\n",
       "Cairns & Far North                          Workplace Training & Assessment\n",
       "Central & South East TAS                             Welders & Boilermakers\n",
       "Coffs Harbour & North Coast                 Workplace Training & Assessment\n",
       "Coober Pedy & Outback SA                             Welders & Boilermakers\n",
       "Darwin                                      Workplace Training & Assessment\n",
       "Devonport & North West                               Welders & Boilermakers\n",
       "Dubbo & Central NSW                                  Welders & Boilermakers\n",
       "Far West & North Central NSW                                  Waiting Staff\n",
       "Fleurieu Peninsula & Kangaroo Island    Warehousing, Storage & Distribution\n",
       "Geraldton, Gascoyne & Midwest               Workplace Training & Assessment\n",
       "Gladstone & Central QLD                     Workplace Training & Assessment\n",
       "Gold Coast                                  Workplace Training & Assessment\n",
       "Gosford & Central Coast                              Welders & Boilermakers\n",
       "Hervey Bay & Fraser Coast                   Workplace Training & Assessment\n",
       "Hobart                                      Workplace Training & Assessment\n",
       "Horsham & Grampians                               Water & Waste Engineering\n",
       "                                                       ...                 \n",
       "Mandurah & Peel                                      Welders & Boilermakers\n",
       "Melbourne                                   Workplace Training & Assessment\n",
       "Mildura & Murray                                       Winery & Viticulture\n",
       "Mornington Peninsula & Bass Coast       Warehousing, Storage & Distribution\n",
       "Mt Gambier & Limestone Coast                           Winery & Viticulture\n",
       "Newcastle, Maitland & Hunter                Workplace Training & Assessment\n",
       "Northam & Wheatbelt                     Warehousing, Storage & Distribution\n",
       "Northern QLD                                Workplace Training & Assessment\n",
       "Perth                                       Workplace Training & Assessment\n",
       "Port Hedland, Karratha & Pilbara            Workplace Training & Assessment\n",
       "Port Macquarie & Mid North Coast            Workplace Training & Assessment\n",
       "Richmond & Hawkesbury                   Warehousing, Storage & Distribution\n",
       "Riverland & Murray Mallee                              Winery & Viticulture\n",
       "Rockhampton & Capricorn Coast               Workplace Training & Assessment\n",
       "Shepparton & Goulburn Valley                Workplace Training & Assessment\n",
       "Somerset & Lockyer                      Warehousing, Storage & Distribution\n",
       "South West Coast VIC                        Workplace Training & Assessment\n",
       "Southern Highlands & Tablelands             Workplace Training & Assessment\n",
       "Sunshine Coast                              Workplace Training & Assessment\n",
       "Sydney                                      Workplace Training & Assessment\n",
       "Tamworth & North West NSW                            Welders & Boilermakers\n",
       "Toowoomba & Darling Downs                   Workplace Training & Assessment\n",
       "Tumut, Snowy & Monaro                        Teaching Aides & Special Needs\n",
       "Wagga Wagga & Riverina                      Workplace Training & Assessment\n",
       "West Gippsland & Latrobe Valley                      Welders & Boilermakers\n",
       "Western QLD                                 Workplace Training & Assessment\n",
       "Whyalla & Eyre Peninsula                             Welders & Boilermakers\n",
       "Wollongong, Illawarra & South Coast         Workplace Training & Assessment\n",
       "Yarra Valley & High Country                            Winery & Viticulture\n",
       "Yorke Peninsula & Clare Valley                       Welders & Boilermakers\n",
       "Name: SubClassification, Length: 65, dtype: object"
      ]
     },
     "execution_count": 52,
     "metadata": {},
     "output_type": "execute_result"
    }
   ],
   "source": [
    "hottestJob = data.groupby('Location')['SubClassification'].max()\n",
    "hottestJob"
   ]
  },
  {
   "cell_type": "markdown",
   "metadata": {},
   "source": [
    "# The common salary range in each city"
   ]
  },
  {
   "cell_type": "code",
   "execution_count": 53,
   "metadata": {},
   "outputs": [
    {
     "data": {
      "text/html": [
       "<div>\n",
       "<style scoped>\n",
       "    .dataframe tbody tr th:only-of-type {\n",
       "        vertical-align: middle;\n",
       "    }\n",
       "\n",
       "    .dataframe tbody tr th {\n",
       "        vertical-align: top;\n",
       "    }\n",
       "\n",
       "    .dataframe thead th {\n",
       "        text-align: right;\n",
       "    }\n",
       "</style>\n",
       "<table border=\"1\" class=\"dataframe\">\n",
       "  <thead>\n",
       "    <tr style=\"text-align: right;\">\n",
       "      <th></th>\n",
       "      <th>LowestSalary</th>\n",
       "      <th>HighestSalary</th>\n",
       "    </tr>\n",
       "    <tr>\n",
       "      <th>Location</th>\n",
       "      <th></th>\n",
       "      <th></th>\n",
       "    </tr>\n",
       "  </thead>\n",
       "  <tbody>\n",
       "    <tr>\n",
       "      <th>ACT</th>\n",
       "      <td>86.174400</td>\n",
       "      <td>198.718240</td>\n",
       "    </tr>\n",
       "    <tr>\n",
       "      <th>Adelaide</th>\n",
       "      <td>57.991883</td>\n",
       "      <td>97.021494</td>\n",
       "    </tr>\n",
       "    <tr>\n",
       "      <th>Adelaide Hills &amp; Barossa</th>\n",
       "      <td>41.191710</td>\n",
       "      <td>68.948187</td>\n",
       "    </tr>\n",
       "    <tr>\n",
       "      <th>Albany &amp; Great Southern</th>\n",
       "      <td>56.600000</td>\n",
       "      <td>101.233333</td>\n",
       "    </tr>\n",
       "    <tr>\n",
       "      <th>Albury Area</th>\n",
       "      <td>51.201923</td>\n",
       "      <td>75.543269</td>\n",
       "    </tr>\n",
       "    <tr>\n",
       "      <th>Alice Springs &amp; Central Australia</th>\n",
       "      <td>64.186047</td>\n",
       "      <td>113.647841</td>\n",
       "    </tr>\n",
       "    <tr>\n",
       "      <th>Bairnsdale &amp; Gippsland</th>\n",
       "      <td>55.740741</td>\n",
       "      <td>105.328042</td>\n",
       "    </tr>\n",
       "    <tr>\n",
       "      <th>Ballarat &amp; Central Highlands</th>\n",
       "      <td>53.067993</td>\n",
       "      <td>84.243781</td>\n",
       "    </tr>\n",
       "    <tr>\n",
       "      <th>Bendigo, Goldfields &amp; Macedon Ranges</th>\n",
       "      <td>49.504950</td>\n",
       "      <td>70.402228</td>\n",
       "    </tr>\n",
       "    <tr>\n",
       "      <th>Blue Mountains &amp; Central West</th>\n",
       "      <td>60.764331</td>\n",
       "      <td>108.487261</td>\n",
       "    </tr>\n",
       "    <tr>\n",
       "      <th>Brisbane</th>\n",
       "      <td>65.875804</td>\n",
       "      <td>121.621588</td>\n",
       "    </tr>\n",
       "    <tr>\n",
       "      <th>Broome &amp; Kimberley</th>\n",
       "      <td>66.431095</td>\n",
       "      <td>117.628975</td>\n",
       "    </tr>\n",
       "    <tr>\n",
       "      <th>Bunbury &amp; South West</th>\n",
       "      <td>50.866142</td>\n",
       "      <td>79.795276</td>\n",
       "    </tr>\n",
       "    <tr>\n",
       "      <th>Bundaberg &amp; Wide Bay Burnett</th>\n",
       "      <td>61.149144</td>\n",
       "      <td>127.176039</td>\n",
       "    </tr>\n",
       "    <tr>\n",
       "      <th>Cairns &amp; Far North</th>\n",
       "      <td>54.440027</td>\n",
       "      <td>94.074884</td>\n",
       "    </tr>\n",
       "    <tr>\n",
       "      <th>Central &amp; South East TAS</th>\n",
       "      <td>51.754386</td>\n",
       "      <td>68.245614</td>\n",
       "    </tr>\n",
       "    <tr>\n",
       "      <th>Coffs Harbour &amp; North Coast</th>\n",
       "      <td>54.318182</td>\n",
       "      <td>101.870455</td>\n",
       "    </tr>\n",
       "    <tr>\n",
       "      <th>Coober Pedy &amp; Outback SA</th>\n",
       "      <td>73.303571</td>\n",
       "      <td>107.125000</td>\n",
       "    </tr>\n",
       "    <tr>\n",
       "      <th>Darwin</th>\n",
       "      <td>68.467615</td>\n",
       "      <td>120.466035</td>\n",
       "    </tr>\n",
       "    <tr>\n",
       "      <th>Devonport &amp; North West</th>\n",
       "      <td>53.007812</td>\n",
       "      <td>87.750000</td>\n",
       "    </tr>\n",
       "    <tr>\n",
       "      <th>Dubbo &amp; Central NSW</th>\n",
       "      <td>66.915888</td>\n",
       "      <td>116.037383</td>\n",
       "    </tr>\n",
       "    <tr>\n",
       "      <th>Far West &amp; North Central NSW</th>\n",
       "      <td>69.289340</td>\n",
       "      <td>110.888325</td>\n",
       "    </tr>\n",
       "    <tr>\n",
       "      <th>Fleurieu Peninsula &amp; Kangaroo Island</th>\n",
       "      <td>42.968750</td>\n",
       "      <td>58.125000</td>\n",
       "    </tr>\n",
       "    <tr>\n",
       "      <th>Geraldton, Gascoyne &amp; Midwest</th>\n",
       "      <td>73.489736</td>\n",
       "      <td>128.756598</td>\n",
       "    </tr>\n",
       "    <tr>\n",
       "      <th>Gladstone &amp; Central QLD</th>\n",
       "      <td>66.502809</td>\n",
       "      <td>104.528090</td>\n",
       "    </tr>\n",
       "    <tr>\n",
       "      <th>Gold Coast</th>\n",
       "      <td>49.721293</td>\n",
       "      <td>82.994426</td>\n",
       "    </tr>\n",
       "    <tr>\n",
       "      <th>Gosford &amp; Central Coast</th>\n",
       "      <td>54.296351</td>\n",
       "      <td>88.876396</td>\n",
       "    </tr>\n",
       "    <tr>\n",
       "      <th>Hervey Bay &amp; Fraser Coast</th>\n",
       "      <td>53.263158</td>\n",
       "      <td>99.575439</td>\n",
       "    </tr>\n",
       "    <tr>\n",
       "      <th>Hobart</th>\n",
       "      <td>55.480495</td>\n",
       "      <td>94.739296</td>\n",
       "    </tr>\n",
       "    <tr>\n",
       "      <th>Horsham &amp; Grampians</th>\n",
       "      <td>56.937799</td>\n",
       "      <td>91.698565</td>\n",
       "    </tr>\n",
       "    <tr>\n",
       "      <th>...</th>\n",
       "      <td>...</td>\n",
       "      <td>...</td>\n",
       "    </tr>\n",
       "    <tr>\n",
       "      <th>Mandurah &amp; Peel</th>\n",
       "      <td>56.320000</td>\n",
       "      <td>90.140000</td>\n",
       "    </tr>\n",
       "    <tr>\n",
       "      <th>Melbourne</th>\n",
       "      <td>64.252302</td>\n",
       "      <td>113.982716</td>\n",
       "    </tr>\n",
       "    <tr>\n",
       "      <th>Mildura &amp; Murray</th>\n",
       "      <td>60.586319</td>\n",
       "      <td>118.872964</td>\n",
       "    </tr>\n",
       "    <tr>\n",
       "      <th>Mornington Peninsula &amp; Bass Coast</th>\n",
       "      <td>43.951286</td>\n",
       "      <td>73.446549</td>\n",
       "    </tr>\n",
       "    <tr>\n",
       "      <th>Mt Gambier &amp; Limestone Coast</th>\n",
       "      <td>55.178571</td>\n",
       "      <td>104.601190</td>\n",
       "    </tr>\n",
       "    <tr>\n",
       "      <th>Newcastle, Maitland &amp; Hunter</th>\n",
       "      <td>59.044972</td>\n",
       "      <td>102.482062</td>\n",
       "    </tr>\n",
       "    <tr>\n",
       "      <th>Northam &amp; Wheatbelt</th>\n",
       "      <td>50.500000</td>\n",
       "      <td>77.362500</td>\n",
       "    </tr>\n",
       "    <tr>\n",
       "      <th>Northern QLD</th>\n",
       "      <td>59.792364</td>\n",
       "      <td>113.129940</td>\n",
       "    </tr>\n",
       "    <tr>\n",
       "      <th>Perth</th>\n",
       "      <td>66.969238</td>\n",
       "      <td>117.191090</td>\n",
       "    </tr>\n",
       "    <tr>\n",
       "      <th>Port Hedland, Karratha &amp; Pilbara</th>\n",
       "      <td>77.522496</td>\n",
       "      <td>121.421716</td>\n",
       "    </tr>\n",
       "    <tr>\n",
       "      <th>Port Macquarie &amp; Mid North Coast</th>\n",
       "      <td>71.812367</td>\n",
       "      <td>149.605544</td>\n",
       "    </tr>\n",
       "    <tr>\n",
       "      <th>Richmond &amp; Hawkesbury</th>\n",
       "      <td>49.000000</td>\n",
       "      <td>77.842857</td>\n",
       "    </tr>\n",
       "    <tr>\n",
       "      <th>Riverland &amp; Murray Mallee</th>\n",
       "      <td>48.926174</td>\n",
       "      <td>64.697987</td>\n",
       "    </tr>\n",
       "    <tr>\n",
       "      <th>Rockhampton &amp; Capricorn Coast</th>\n",
       "      <td>64.972527</td>\n",
       "      <td>114.673077</td>\n",
       "    </tr>\n",
       "    <tr>\n",
       "      <th>Shepparton &amp; Goulburn Valley</th>\n",
       "      <td>51.547421</td>\n",
       "      <td>85.850250</td>\n",
       "    </tr>\n",
       "    <tr>\n",
       "      <th>Somerset &amp; Lockyer</th>\n",
       "      <td>55.538462</td>\n",
       "      <td>97.353846</td>\n",
       "    </tr>\n",
       "    <tr>\n",
       "      <th>South West Coast VIC</th>\n",
       "      <td>50.726257</td>\n",
       "      <td>79.979888</td>\n",
       "    </tr>\n",
       "    <tr>\n",
       "      <th>Southern Highlands &amp; Tablelands</th>\n",
       "      <td>50.215054</td>\n",
       "      <td>79.918280</td>\n",
       "    </tr>\n",
       "    <tr>\n",
       "      <th>Sunshine Coast</th>\n",
       "      <td>49.864865</td>\n",
       "      <td>86.640283</td>\n",
       "    </tr>\n",
       "    <tr>\n",
       "      <th>Sydney</th>\n",
       "      <td>71.882004</td>\n",
       "      <td>134.751041</td>\n",
       "    </tr>\n",
       "    <tr>\n",
       "      <th>Tamworth &amp; North West NSW</th>\n",
       "      <td>61.278689</td>\n",
       "      <td>110.108197</td>\n",
       "    </tr>\n",
       "    <tr>\n",
       "      <th>Toowoomba &amp; Darling Downs</th>\n",
       "      <td>51.076336</td>\n",
       "      <td>83.141221</td>\n",
       "    </tr>\n",
       "    <tr>\n",
       "      <th>Tumut, Snowy &amp; Monaro</th>\n",
       "      <td>67.558140</td>\n",
       "      <td>133.081395</td>\n",
       "    </tr>\n",
       "    <tr>\n",
       "      <th>Wagga Wagga &amp; Riverina</th>\n",
       "      <td>54.501247</td>\n",
       "      <td>87.087282</td>\n",
       "    </tr>\n",
       "    <tr>\n",
       "      <th>West Gippsland &amp; Latrobe Valley</th>\n",
       "      <td>57.013889</td>\n",
       "      <td>93.586806</td>\n",
       "    </tr>\n",
       "    <tr>\n",
       "      <th>Western QLD</th>\n",
       "      <td>69.357977</td>\n",
       "      <td>134.128405</td>\n",
       "    </tr>\n",
       "    <tr>\n",
       "      <th>Whyalla &amp; Eyre Peninsula</th>\n",
       "      <td>53.980100</td>\n",
       "      <td>86.000000</td>\n",
       "    </tr>\n",
       "    <tr>\n",
       "      <th>Wollongong, Illawarra &amp; South Coast</th>\n",
       "      <td>55.829813</td>\n",
       "      <td>90.895594</td>\n",
       "    </tr>\n",
       "    <tr>\n",
       "      <th>Yarra Valley &amp; High Country</th>\n",
       "      <td>44.168337</td>\n",
       "      <td>68.945892</td>\n",
       "    </tr>\n",
       "    <tr>\n",
       "      <th>Yorke Peninsula &amp; Clare Valley</th>\n",
       "      <td>44.895833</td>\n",
       "      <td>77.791667</td>\n",
       "    </tr>\n",
       "  </tbody>\n",
       "</table>\n",
       "<p>65 rows × 2 columns</p>\n",
       "</div>"
      ],
      "text/plain": [
       "                                      LowestSalary  HighestSalary\n",
       "Location                                                         \n",
       "ACT                                      86.174400     198.718240\n",
       "Adelaide                                 57.991883      97.021494\n",
       "Adelaide Hills & Barossa                 41.191710      68.948187\n",
       "Albany & Great Southern                  56.600000     101.233333\n",
       "Albury Area                              51.201923      75.543269\n",
       "Alice Springs & Central Australia        64.186047     113.647841\n",
       "Bairnsdale & Gippsland                   55.740741     105.328042\n",
       "Ballarat & Central Highlands             53.067993      84.243781\n",
       "Bendigo, Goldfields & Macedon Ranges     49.504950      70.402228\n",
       "Blue Mountains & Central West            60.764331     108.487261\n",
       "Brisbane                                 65.875804     121.621588\n",
       "Broome & Kimberley                       66.431095     117.628975\n",
       "Bunbury & South West                     50.866142      79.795276\n",
       "Bundaberg & Wide Bay Burnett             61.149144     127.176039\n",
       "Cairns & Far North                       54.440027      94.074884\n",
       "Central & South East TAS                 51.754386      68.245614\n",
       "Coffs Harbour & North Coast              54.318182     101.870455\n",
       "Coober Pedy & Outback SA                 73.303571     107.125000\n",
       "Darwin                                   68.467615     120.466035\n",
       "Devonport & North West                   53.007812      87.750000\n",
       "Dubbo & Central NSW                      66.915888     116.037383\n",
       "Far West & North Central NSW             69.289340     110.888325\n",
       "Fleurieu Peninsula & Kangaroo Island     42.968750      58.125000\n",
       "Geraldton, Gascoyne & Midwest            73.489736     128.756598\n",
       "Gladstone & Central QLD                  66.502809     104.528090\n",
       "Gold Coast                               49.721293      82.994426\n",
       "Gosford & Central Coast                  54.296351      88.876396\n",
       "Hervey Bay & Fraser Coast                53.263158      99.575439\n",
       "Hobart                                   55.480495      94.739296\n",
       "Horsham & Grampians                      56.937799      91.698565\n",
       "...                                            ...            ...\n",
       "Mandurah & Peel                          56.320000      90.140000\n",
       "Melbourne                                64.252302     113.982716\n",
       "Mildura & Murray                         60.586319     118.872964\n",
       "Mornington Peninsula & Bass Coast        43.951286      73.446549\n",
       "Mt Gambier & Limestone Coast             55.178571     104.601190\n",
       "Newcastle, Maitland & Hunter             59.044972     102.482062\n",
       "Northam & Wheatbelt                      50.500000      77.362500\n",
       "Northern QLD                             59.792364     113.129940\n",
       "Perth                                    66.969238     117.191090\n",
       "Port Hedland, Karratha & Pilbara         77.522496     121.421716\n",
       "Port Macquarie & Mid North Coast         71.812367     149.605544\n",
       "Richmond & Hawkesbury                    49.000000      77.842857\n",
       "Riverland & Murray Mallee                48.926174      64.697987\n",
       "Rockhampton & Capricorn Coast            64.972527     114.673077\n",
       "Shepparton & Goulburn Valley             51.547421      85.850250\n",
       "Somerset & Lockyer                       55.538462      97.353846\n",
       "South West Coast VIC                     50.726257      79.979888\n",
       "Southern Highlands & Tablelands          50.215054      79.918280\n",
       "Sunshine Coast                           49.864865      86.640283\n",
       "Sydney                                   71.882004     134.751041\n",
       "Tamworth & North West NSW                61.278689     110.108197\n",
       "Toowoomba & Darling Downs                51.076336      83.141221\n",
       "Tumut, Snowy & Monaro                    67.558140     133.081395\n",
       "Wagga Wagga & Riverina                   54.501247      87.087282\n",
       "West Gippsland & Latrobe Valley          57.013889      93.586806\n",
       "Western QLD                              69.357977     134.128405\n",
       "Whyalla & Eyre Peninsula                 53.980100      86.000000\n",
       "Wollongong, Illawarra & South Coast      55.829813      90.895594\n",
       "Yarra Valley & High Country              44.168337      68.945892\n",
       "Yorke Peninsula & Clare Valley           44.895833      77.791667\n",
       "\n",
       "[65 rows x 2 columns]"
      ]
     },
     "execution_count": 53,
     "metadata": {},
     "output_type": "execute_result"
    }
   ],
   "source": [
    "salaryRangeLoc = data.groupby('Location')['LowestSalary', 'HighestSalary'].mean()\n",
    "salaryRangeLoc"
   ]
  },
  {
   "cell_type": "markdown",
   "metadata": {},
   "source": [
    "# Top 5 cities that employees more well-paid (highest average salary)"
   ]
  },
  {
   "cell_type": "code",
   "execution_count": 54,
   "metadata": {},
   "outputs": [
    {
     "data": {
      "text/plain": [
       "Location\n",
       "ACT                                 142.446320\n",
       "Port Macquarie & Mid North Coast    110.708955\n",
       "Sydney                              103.316523\n",
       "Western QLD                         101.743191\n",
       "Geraldton, Gascoyne & Midwest       101.123167\n",
       "Name: avgSalary, dtype: float64"
      ]
     },
     "execution_count": 54,
     "metadata": {},
     "output_type": "execute_result"
    }
   ],
   "source": [
    "salaryRangeLoc['avgSalary'] = (salaryRangeLoc['LowestSalary'] + salaryRangeLoc['HighestSalary'])/2\n",
    "top5 = salaryRangeLoc['avgSalary'].nlargest(5)\n",
    "top5"
   ]
  },
  {
   "cell_type": "code",
   "execution_count": 55,
   "metadata": {},
   "outputs": [
    {
     "data": {
      "text/plain": [
       "Date\n",
       "2018-10-01T00:00:00.000Z     1023\n",
       "2018-10-02T00:00:00.000Z     1980\n",
       "2018-10-03T00:00:00.000Z     4945\n",
       "2018-10-04T00:00:00.000Z     8506\n",
       "2018-10-05T00:00:00.000Z     5711\n",
       "2018-10-06T00:00:00.000Z      471\n",
       "2018-10-07T00:00:00.000Z     1037\n",
       "2018-10-08T00:00:00.000Z     4995\n",
       "2018-10-09T00:00:00.000Z     6329\n",
       "2018-10-10T00:00:00.000Z     8337\n",
       "2018-10-11T00:00:00.000Z     1221\n",
       "2018-10-12T00:00:00.000Z     1324\n",
       "2018-10-13T00:00:00.000Z      196\n",
       "2018-10-14T00:00:00.000Z      239\n",
       "2018-10-15T00:00:00.000Z     5210\n",
       "2018-10-16T00:00:00.000Z     6267\n",
       "2018-10-17T00:00:00.000Z    13059\n",
       "2018-10-18T00:00:00.000Z     8121\n",
       "2018-10-19T00:00:00.000Z     5989\n",
       "2018-10-20T00:00:00.000Z      422\n",
       "2018-10-21T00:00:00.000Z     1145\n",
       "2018-10-22T00:00:00.000Z      688\n",
       "2018-10-23T00:00:00.000Z      827\n",
       "2018-10-24T00:00:00.000Z      835\n",
       "2018-10-25T00:00:00.000Z     1205\n",
       "2018-10-26T00:00:00.000Z     1701\n",
       "2018-10-27T00:00:00.000Z      232\n",
       "2018-10-28T00:00:00.000Z      291\n",
       "2018-10-29T00:00:00.000Z     4656\n",
       "2018-10-30T00:00:00.000Z     8179\n",
       "2018-10-31T00:00:00.000Z     8641\n",
       "2018-11-01T00:00:00.000Z     1316\n",
       "2018-11-02T00:00:00.000Z     2874\n",
       "2018-11-03T00:00:00.000Z      499\n",
       "2018-11-04T00:00:00.000Z      636\n",
       "2018-11-05T00:00:00.000Z     7778\n",
       "2018-11-06T00:00:00.000Z     3654\n",
       "2018-11-07T00:00:00.000Z     6947\n",
       "2018-11-08T00:00:00.000Z     1199\n",
       "2018-11-09T00:00:00.000Z     3377\n",
       "dtype: int64"
      ]
     },
     "execution_count": 55,
     "metadata": {},
     "output_type": "execute_result"
    }
   ],
   "source": [
    "patternPosting = data.groupby('Date').size()\n",
    "patternPosting.head(40)"
   ]
  },
  {
   "cell_type": "markdown",
   "metadata": {},
   "source": [
    "Pattern of posting: The postings are not consistent at a particular time each month and are often posted at the middle of a month"
   ]
  },
  {
   "cell_type": "markdown",
   "metadata": {},
   "source": [
    "## 3) Study the market by sectors "
   ]
  },
  {
   "cell_type": "code",
   "execution_count": 56,
   "metadata": {},
   "outputs": [
    {
     "data": {
      "text/html": [
       "<div>\n",
       "<style scoped>\n",
       "    .dataframe tbody tr th:only-of-type {\n",
       "        vertical-align: middle;\n",
       "    }\n",
       "\n",
       "    .dataframe tbody tr th {\n",
       "        vertical-align: top;\n",
       "    }\n",
       "\n",
       "    .dataframe thead th {\n",
       "        text-align: right;\n",
       "    }\n",
       "</style>\n",
       "<table border=\"1\" class=\"dataframe\">\n",
       "  <thead>\n",
       "    <tr style=\"text-align: right;\">\n",
       "      <th></th>\n",
       "      <th>Title</th>\n",
       "      <th>Company</th>\n",
       "      <th>Date</th>\n",
       "      <th>Location</th>\n",
       "      <th>Area</th>\n",
       "      <th>Classification</th>\n",
       "      <th>SubClassification</th>\n",
       "      <th>Requirement</th>\n",
       "      <th>FullDescription</th>\n",
       "      <th>LowestSalary</th>\n",
       "      <th>HighestSalary</th>\n",
       "      <th>JobType</th>\n",
       "    </tr>\n",
       "  </thead>\n",
       "  <tbody>\n",
       "    <tr>\n",
       "      <th>0</th>\n",
       "      <td>Casual Stock Replenisher</td>\n",
       "      <td>Aldi Stores</td>\n",
       "      <td>2018-10-07T00:00:00.000Z</td>\n",
       "      <td>Sydney</td>\n",
       "      <td>North West &amp; Hills District</td>\n",
       "      <td>Retail &amp; Consumer Products</td>\n",
       "      <td>Retail Assistants</td>\n",
       "      <td>Our Casual Stock Replenishers pride themselves...</td>\n",
       "      <td>NaN</td>\n",
       "      <td>0</td>\n",
       "      <td>30</td>\n",
       "      <td>No information</td>\n",
       "    </tr>\n",
       "    <tr>\n",
       "      <th>1</th>\n",
       "      <td>Casual Stock Replenisher</td>\n",
       "      <td>Aldi Stores</td>\n",
       "      <td>2018-10-07T00:00:00.000Z</td>\n",
       "      <td>Richmond &amp; Hawkesbury</td>\n",
       "      <td>NaN</td>\n",
       "      <td>Retail &amp; Consumer Products</td>\n",
       "      <td>Retail Assistants</td>\n",
       "      <td>Our Casual Stock Replenishers pride themselves...</td>\n",
       "      <td>NaN</td>\n",
       "      <td>0</td>\n",
       "      <td>30</td>\n",
       "      <td>No information</td>\n",
       "    </tr>\n",
       "    <tr>\n",
       "      <th>2</th>\n",
       "      <td>RETAIL SALES SUPERSTARS and STYLISTS Wanted - ...</td>\n",
       "      <td>LB Creative Pty Ltd</td>\n",
       "      <td>2018-10-07T00:00:00.000Z</td>\n",
       "      <td>Brisbane</td>\n",
       "      <td>CBD &amp; Inner Suburbs</td>\n",
       "      <td>Retail &amp; Consumer Products</td>\n",
       "      <td>Retail Assistants</td>\n",
       "      <td>BRAND NEW FLAGSHIP STORE OPENING - SUNSHINE PLAZA</td>\n",
       "      <td>NaN</td>\n",
       "      <td>0</td>\n",
       "      <td>30</td>\n",
       "      <td>No information</td>\n",
       "    </tr>\n",
       "    <tr>\n",
       "      <th>3</th>\n",
       "      <td>Team member - Belrose</td>\n",
       "      <td>Anaconda Group Pty Ltd</td>\n",
       "      <td>2018-10-07T00:00:00.000Z</td>\n",
       "      <td>Gosford &amp; Central Coast</td>\n",
       "      <td>NaN</td>\n",
       "      <td>Retail &amp; Consumer Products</td>\n",
       "      <td>Retail Assistants</td>\n",
       "      <td>Bring it on - do you love the great outdoors a...</td>\n",
       "      <td>NaN</td>\n",
       "      <td>0</td>\n",
       "      <td>30</td>\n",
       "      <td>No information</td>\n",
       "    </tr>\n",
       "    <tr>\n",
       "      <th>4</th>\n",
       "      <td>Business Banking Contact Centre Specialist, Ni...</td>\n",
       "      <td>Commonwealth Bank - Business &amp; Private Banking</td>\n",
       "      <td>2018-10-07T00:00:00.000Z</td>\n",
       "      <td>Sydney</td>\n",
       "      <td>Ryde &amp; Macquarie Park</td>\n",
       "      <td>Call Centre &amp; Customer Service</td>\n",
       "      <td>Sales - Inbound</td>\n",
       "      <td>We are seeking highly articulate, enthusiastic...</td>\n",
       "      <td>NaN</td>\n",
       "      <td>0</td>\n",
       "      <td>30</td>\n",
       "      <td>No information</td>\n",
       "    </tr>\n",
       "  </tbody>\n",
       "</table>\n",
       "</div>"
      ],
      "text/plain": [
       "                                               Title  \\\n",
       "0                           Casual Stock Replenisher   \n",
       "1                           Casual Stock Replenisher   \n",
       "2  RETAIL SALES SUPERSTARS and STYLISTS Wanted - ...   \n",
       "3                              Team member - Belrose   \n",
       "4  Business Banking Contact Centre Specialist, Ni...   \n",
       "\n",
       "                                          Company                      Date  \\\n",
       "0                                     Aldi Stores  2018-10-07T00:00:00.000Z   \n",
       "1                                     Aldi Stores  2018-10-07T00:00:00.000Z   \n",
       "2                             LB Creative Pty Ltd  2018-10-07T00:00:00.000Z   \n",
       "3                          Anaconda Group Pty Ltd  2018-10-07T00:00:00.000Z   \n",
       "4  Commonwealth Bank - Business & Private Banking  2018-10-07T00:00:00.000Z   \n",
       "\n",
       "                  Location                         Area  \\\n",
       "0                   Sydney  North West & Hills District   \n",
       "1    Richmond & Hawkesbury                          NaN   \n",
       "2                 Brisbane          CBD & Inner Suburbs   \n",
       "3  Gosford & Central Coast                          NaN   \n",
       "4                   Sydney        Ryde & Macquarie Park   \n",
       "\n",
       "                   Classification  SubClassification  \\\n",
       "0      Retail & Consumer Products  Retail Assistants   \n",
       "1      Retail & Consumer Products  Retail Assistants   \n",
       "2      Retail & Consumer Products  Retail Assistants   \n",
       "3      Retail & Consumer Products  Retail Assistants   \n",
       "4  Call Centre & Customer Service    Sales - Inbound   \n",
       "\n",
       "                                         Requirement FullDescription  \\\n",
       "0  Our Casual Stock Replenishers pride themselves...             NaN   \n",
       "1  Our Casual Stock Replenishers pride themselves...             NaN   \n",
       "2  BRAND NEW FLAGSHIP STORE OPENING - SUNSHINE PLAZA             NaN   \n",
       "3  Bring it on - do you love the great outdoors a...             NaN   \n",
       "4  We are seeking highly articulate, enthusiastic...             NaN   \n",
       "\n",
       "   LowestSalary  HighestSalary         JobType  \n",
       "0             0             30  No information  \n",
       "1             0             30  No information  \n",
       "2             0             30  No information  \n",
       "3             0             30  No information  \n",
       "4             0             30  No information  "
      ]
     },
     "execution_count": 56,
     "metadata": {},
     "output_type": "execute_result"
    }
   ],
   "source": [
    "data.head()"
   ]
  },
  {
   "cell_type": "markdown",
   "metadata": {},
   "source": [
    "# Sectors with the highest market share"
   ]
  },
  {
   "cell_type": "code",
   "execution_count": 57,
   "metadata": {},
   "outputs": [
    {
     "data": {
      "text/plain": [
       "Classification\n",
       "Accounting                                 9368\n",
       "Administration & Office Support           10020\n",
       "Advertising, Arts & Media                   833\n",
       "Banking & Financial Services               4633\n",
       "CEO & General Management                    844\n",
       "Call Centre & Customer Service             3971\n",
       "Community Services & Development           4485\n",
       "Construction                               8372\n",
       "Consulting & Strategy                      1206\n",
       "Design & Architecture                      1811\n",
       "Education & Training                       9280\n",
       "Engineering                                6458\n",
       "Farming, Animals & Conservation             882\n",
       "Government & Defence                       7443\n",
       "Healthcare & Medical                      17085\n",
       "Hospitality & Tourism                     15523\n",
       "Human Resources & Recruitment              4144\n",
       "Information & Communication Technology    22796\n",
       "Insurance & Superannuation                 1474\n",
       "Legal                                      4237\n",
       "Manufacturing, Transport & Logistics      12376\n",
       "Marketing & Communications                 3968\n",
       "Mining, Resources & Energy                 6288\n",
       "Real Estate & Property                     3614\n",
       "Retail & Consumer Products                 8041\n",
       "Sales                                      8119\n",
       "Science & Technology                        905\n",
       "Self Employment                              93\n",
       "Sport & Recreation                          984\n",
       "Trades & Services                         17976\n",
       "dtype: int64"
      ]
     },
     "execution_count": 57,
     "metadata": {},
     "output_type": "execute_result"
    }
   ],
   "source": [
    "highestMarketShare = data.groupby('Classification').size()\n",
    "highestMarketShare"
   ]
  },
  {
   "cell_type": "markdown",
   "metadata": {},
   "source": [
    "Sector with the highest market share: Information & Communication Technology (22796)"
   ]
  },
  {
   "cell_type": "markdown",
   "metadata": {},
   "source": [
    "# Sub-Sectors which are the main spot-light in each sectors# "
   ]
  },
  {
   "cell_type": "code",
   "execution_count": 58,
   "metadata": {},
   "outputs": [
    {
     "data": {
      "text/plain": [
       "Classification\n",
       "Accounting                                                             Treasury\n",
       "Administration & Office Support           Records Management & Document Control\n",
       "Advertising, Arts & Media                                            Promotions\n",
       "Banking & Financial Services                                           Treasury\n",
       "CEO & General Management                                                  Other\n",
       "Call Centre & Customer Service                         Supervisors/Team Leaders\n",
       "Community Services & Development               Volunteer Coordination & Support\n",
       "Construction                                                          Surveying\n",
       "Consulting & Strategy                                       Strategy & Planning\n",
       "Design & Architecture                                  Web & Interaction Design\n",
       "Education & Training                            Workplace Training & Assessment\n",
       "Engineering                                           Water & Waste Engineering\n",
       "Farming, Animals & Conservation                            Winery & Viticulture\n",
       "Government & Defence                              Policy, Planning & Regulation\n",
       "Healthcare & Medical                                             Speech Therapy\n",
       "Hospitality & Tourism                                             Waiting Staff\n",
       "Human Resources & Recruitment                            Training & Development\n",
       "Information & Communication Technology             Web Development & Production\n",
       "Insurance & Superannuation                                Workers' Compensation\n",
       "Legal                                                                   Tax Law\n",
       "Manufacturing, Transport & Logistics        Warehousing, Storage & Distribution\n",
       "Marketing & Communications                                      Trade Marketing\n",
       "Mining, Resources & Energy                                            Surveying\n",
       "Real Estate & Property                                                Valuation\n",
       "Retail & Consumer Products                                    Retail Assistants\n",
       "Sales                                         Sales Representatives/Consultants\n",
       "Science & Technology                                Quality Assurance & Control\n",
       "Self Employment                                                 Self Employment\n",
       "Sport & Recreation                                                        Other\n",
       "Trades & Services                                        Welders & Boilermakers\n",
       "Name: SubClassification, dtype: object"
      ]
     },
     "execution_count": 58,
     "metadata": {},
     "output_type": "execute_result"
    }
   ],
   "source": [
    "subSec = data.groupby('Classification')['SubClassification'].max()\n",
    "subSec"
   ]
  },
  {
   "cell_type": "markdown",
   "metadata": {},
   "source": [
    "# Salary range for each sector/sub-sector"
   ]
  },
  {
   "cell_type": "code",
   "execution_count": 59,
   "metadata": {},
   "outputs": [
    {
     "data": {
      "text/html": [
       "<div>\n",
       "<style scoped>\n",
       "    .dataframe tbody tr th:only-of-type {\n",
       "        vertical-align: middle;\n",
       "    }\n",
       "\n",
       "    .dataframe tbody tr th {\n",
       "        vertical-align: top;\n",
       "    }\n",
       "\n",
       "    .dataframe thead th {\n",
       "        text-align: right;\n",
       "    }\n",
       "</style>\n",
       "<table border=\"1\" class=\"dataframe\">\n",
       "  <thead>\n",
       "    <tr style=\"text-align: right;\">\n",
       "      <th></th>\n",
       "      <th>LowestSalary</th>\n",
       "      <th>HighestSalary</th>\n",
       "    </tr>\n",
       "    <tr>\n",
       "      <th>Classification</th>\n",
       "      <th></th>\n",
       "      <th></th>\n",
       "    </tr>\n",
       "  </thead>\n",
       "  <tbody>\n",
       "    <tr>\n",
       "      <th>Accounting</th>\n",
       "      <td>67.137062</td>\n",
       "      <td>108.139838</td>\n",
       "    </tr>\n",
       "    <tr>\n",
       "      <th>Administration &amp; Office Support</th>\n",
       "      <td>40.057884</td>\n",
       "      <td>57.147705</td>\n",
       "    </tr>\n",
       "    <tr>\n",
       "      <th>Advertising, Arts &amp; Media</th>\n",
       "      <td>56.062425</td>\n",
       "      <td>84.644658</td>\n",
       "    </tr>\n",
       "    <tr>\n",
       "      <th>Banking &amp; Financial Services</th>\n",
       "      <td>78.508526</td>\n",
       "      <td>143.533779</td>\n",
       "    </tr>\n",
       "    <tr>\n",
       "      <th>CEO &amp; General Management</th>\n",
       "      <td>126.741706</td>\n",
       "      <td>384.127962</td>\n",
       "    </tr>\n",
       "    <tr>\n",
       "      <th>Call Centre &amp; Customer Service</th>\n",
       "      <td>39.790985</td>\n",
       "      <td>57.398136</td>\n",
       "    </tr>\n",
       "    <tr>\n",
       "      <th>Community Services &amp; Development</th>\n",
       "      <td>47.977703</td>\n",
       "      <td>68.732219</td>\n",
       "    </tr>\n",
       "    <tr>\n",
       "      <th>Construction</th>\n",
       "      <td>89.939083</td>\n",
       "      <td>163.196011</td>\n",
       "    </tr>\n",
       "    <tr>\n",
       "      <th>Consulting &amp; Strategy</th>\n",
       "      <td>101.948590</td>\n",
       "      <td>213.184909</td>\n",
       "    </tr>\n",
       "    <tr>\n",
       "      <th>Design &amp; Architecture</th>\n",
       "      <td>67.355052</td>\n",
       "      <td>111.046383</td>\n",
       "    </tr>\n",
       "    <tr>\n",
       "      <th>Education &amp; Training</th>\n",
       "      <td>59.173491</td>\n",
       "      <td>86.236530</td>\n",
       "    </tr>\n",
       "    <tr>\n",
       "      <th>Engineering</th>\n",
       "      <td>90.346857</td>\n",
       "      <td>152.014710</td>\n",
       "    </tr>\n",
       "    <tr>\n",
       "      <th>Farming, Animals &amp; Conservation</th>\n",
       "      <td>46.972789</td>\n",
       "      <td>68.621315</td>\n",
       "    </tr>\n",
       "    <tr>\n",
       "      <th>Government &amp; Defence</th>\n",
       "      <td>75.943840</td>\n",
       "      <td>131.460701</td>\n",
       "    </tr>\n",
       "    <tr>\n",
       "      <th>Healthcare &amp; Medical</th>\n",
       "      <td>72.934738</td>\n",
       "      <td>162.015920</td>\n",
       "    </tr>\n",
       "    <tr>\n",
       "      <th>Hospitality &amp; Tourism</th>\n",
       "      <td>33.081879</td>\n",
       "      <td>47.406558</td>\n",
       "    </tr>\n",
       "    <tr>\n",
       "      <th>Human Resources &amp; Recruitment</th>\n",
       "      <td>69.734556</td>\n",
       "      <td>109.499276</td>\n",
       "    </tr>\n",
       "    <tr>\n",
       "      <th>Information &amp; Communication Technology</th>\n",
       "      <td>108.765573</td>\n",
       "      <td>256.279084</td>\n",
       "    </tr>\n",
       "    <tr>\n",
       "      <th>Insurance &amp; Superannuation</th>\n",
       "      <td>67.876526</td>\n",
       "      <td>105.000000</td>\n",
       "    </tr>\n",
       "    <tr>\n",
       "      <th>Legal</th>\n",
       "      <td>87.481709</td>\n",
       "      <td>156.894501</td>\n",
       "    </tr>\n",
       "    <tr>\n",
       "      <th>Manufacturing, Transport &amp; Logistics</th>\n",
       "      <td>46.964286</td>\n",
       "      <td>70.607708</td>\n",
       "    </tr>\n",
       "    <tr>\n",
       "      <th>Marketing &amp; Communications</th>\n",
       "      <td>67.825101</td>\n",
       "      <td>101.468750</td>\n",
       "    </tr>\n",
       "    <tr>\n",
       "      <th>Mining, Resources &amp; Energy</th>\n",
       "      <td>92.293257</td>\n",
       "      <td>164.978849</td>\n",
       "    </tr>\n",
       "    <tr>\n",
       "      <th>Real Estate &amp; Property</th>\n",
       "      <td>57.927504</td>\n",
       "      <td>100.794687</td>\n",
       "    </tr>\n",
       "    <tr>\n",
       "      <th>Retail &amp; Consumer Products</th>\n",
       "      <td>36.608631</td>\n",
       "      <td>53.476806</td>\n",
       "    </tr>\n",
       "    <tr>\n",
       "      <th>Sales</th>\n",
       "      <td>63.446237</td>\n",
       "      <td>101.293263</td>\n",
       "    </tr>\n",
       "    <tr>\n",
       "      <th>Science &amp; Technology</th>\n",
       "      <td>74.320442</td>\n",
       "      <td>127.893923</td>\n",
       "    </tr>\n",
       "    <tr>\n",
       "      <th>Self Employment</th>\n",
       "      <td>70.967742</td>\n",
       "      <td>111.806452</td>\n",
       "    </tr>\n",
       "    <tr>\n",
       "      <th>Sport &amp; Recreation</th>\n",
       "      <td>45.203252</td>\n",
       "      <td>73.359756</td>\n",
       "    </tr>\n",
       "    <tr>\n",
       "      <th>Trades &amp; Services</th>\n",
       "      <td>44.829217</td>\n",
       "      <td>61.948821</td>\n",
       "    </tr>\n",
       "  </tbody>\n",
       "</table>\n",
       "</div>"
      ],
      "text/plain": [
       "                                        LowestSalary  HighestSalary\n",
       "Classification                                                     \n",
       "Accounting                                 67.137062     108.139838\n",
       "Administration & Office Support            40.057884      57.147705\n",
       "Advertising, Arts & Media                  56.062425      84.644658\n",
       "Banking & Financial Services               78.508526     143.533779\n",
       "CEO & General Management                  126.741706     384.127962\n",
       "Call Centre & Customer Service             39.790985      57.398136\n",
       "Community Services & Development           47.977703      68.732219\n",
       "Construction                               89.939083     163.196011\n",
       "Consulting & Strategy                     101.948590     213.184909\n",
       "Design & Architecture                      67.355052     111.046383\n",
       "Education & Training                       59.173491      86.236530\n",
       "Engineering                                90.346857     152.014710\n",
       "Farming, Animals & Conservation            46.972789      68.621315\n",
       "Government & Defence                       75.943840     131.460701\n",
       "Healthcare & Medical                       72.934738     162.015920\n",
       "Hospitality & Tourism                      33.081879      47.406558\n",
       "Human Resources & Recruitment              69.734556     109.499276\n",
       "Information & Communication Technology    108.765573     256.279084\n",
       "Insurance & Superannuation                 67.876526     105.000000\n",
       "Legal                                      87.481709     156.894501\n",
       "Manufacturing, Transport & Logistics       46.964286      70.607708\n",
       "Marketing & Communications                 67.825101     101.468750\n",
       "Mining, Resources & Energy                 92.293257     164.978849\n",
       "Real Estate & Property                     57.927504     100.794687\n",
       "Retail & Consumer Products                 36.608631      53.476806\n",
       "Sales                                      63.446237     101.293263\n",
       "Science & Technology                       74.320442     127.893923\n",
       "Self Employment                            70.967742     111.806452\n",
       "Sport & Recreation                         45.203252      73.359756\n",
       "Trades & Services                          44.829217      61.948821"
      ]
     },
     "execution_count": 59,
     "metadata": {},
     "output_type": "execute_result"
    }
   ],
   "source": [
    "salaryRangeSec = data.groupby('Classification')['LowestSalary', 'HighestSalary'].mean()\n",
    "salaryRangeSec"
   ]
  },
  {
   "cell_type": "markdown",
   "metadata": {},
   "source": [
    "## Compare salary range betweeen sectors\n"
   ]
  },
  {
   "cell_type": "code",
   "execution_count": 60,
   "metadata": {},
   "outputs": [
    {
     "data": {
      "text/plain": [
       "Classification\n",
       "Accounting                                 87.638450\n",
       "Administration & Office Support            48.602794\n",
       "Advertising, Arts & Media                  70.353541\n",
       "Banking & Financial Services              111.021153\n",
       "CEO & General Management                  255.434834\n",
       "Call Centre & Customer Service             48.594561\n",
       "Community Services & Development           58.354961\n",
       "Construction                              126.567547\n",
       "Consulting & Strategy                     157.566750\n",
       "Design & Architecture                      89.200718\n",
       "Education & Training                       72.705011\n",
       "Engineering                               121.180784\n",
       "Farming, Animals & Conservation            57.797052\n",
       "Government & Defence                      103.702271\n",
       "Healthcare & Medical                      117.475329\n",
       "Hospitality & Tourism                      40.244218\n",
       "Human Resources & Recruitment              89.616916\n",
       "Information & Communication Technology    182.522328\n",
       "Insurance & Superannuation                 86.438263\n",
       "Legal                                     122.188105\n",
       "Manufacturing, Transport & Logistics       58.785997\n",
       "Marketing & Communications                 84.646925\n",
       "Mining, Resources & Energy                128.636053\n",
       "Real Estate & Property                     79.361096\n",
       "Retail & Consumer Products                 45.042719\n",
       "Sales                                      82.369750\n",
       "Science & Technology                      101.107182\n",
       "Self Employment                            91.387097\n",
       "Sport & Recreation                         59.281504\n",
       "Trades & Services                          53.389019\n",
       "Name: AvgSalary, dtype: float64"
      ]
     },
     "execution_count": 60,
     "metadata": {},
     "output_type": "execute_result"
    }
   ],
   "source": [
    "salaryRangeSec['AvgSalary'] = (salaryRangeSec['LowestSalary'] + salaryRangeSec['HighestSalary'])/2\n",
    "salaryRangeSec['AvgSalary']"
   ]
  },
  {
   "cell_type": "code",
   "execution_count": 61,
   "metadata": {},
   "outputs": [
    {
     "name": "stdout",
     "output_type": "stream",
     "text": [
      "Lowest Average Salary:  Hospitality & Tourism : 40.24421825678026\n"
     ]
    }
   ],
   "source": [
    "nameLowSec = salaryRangeSec['AvgSalary'].idxmin()\n",
    "valueLowSec = salaryRangeSec['AvgSalary'].values.min()\n",
    "print(\"Lowest Average Salary: \", nameLowSec, \":\", valueLowSec)"
   ]
  },
  {
   "cell_type": "code",
   "execution_count": 62,
   "metadata": {},
   "outputs": [
    {
     "name": "stdout",
     "output_type": "stream",
     "text": [
      "Highest Average Salary:  CEO & General Management : 255.43483412322274\n"
     ]
    }
   ],
   "source": [
    "nameHighSec = salaryRangeSec['AvgSalary'].idxmax()\n",
    "valueHighSec = salaryRangeSec['AvgSalary'].values.max()\n",
    "print(\"Highest Average Salary: \", nameHighSec, \":\", valueHighSec)"
   ]
  },
  {
   "cell_type": "markdown",
   "metadata": {},
   "source": [
    "Conclusion: As above, between all sectors:\n",
    "    Lowest Salary: Hospitality and Tourism (33.081879),\n",
    "    Highest Salary: CEO & General Management (384.127962).\n",
    "About the average salary:\n",
    "    Lowest Salary: Hospitality & Tourism (40.24421825678026),\n",
    "    Highest Salary: CEO & General Management (255.43483412322274)."
   ]
  },
  {
   "cell_type": "code",
   "execution_count": 63,
   "metadata": {},
   "outputs": [
    {
     "data": {
      "text/html": [
       "<div>\n",
       "<style scoped>\n",
       "    .dataframe tbody tr th:only-of-type {\n",
       "        vertical-align: middle;\n",
       "    }\n",
       "\n",
       "    .dataframe tbody tr th {\n",
       "        vertical-align: top;\n",
       "    }\n",
       "\n",
       "    .dataframe thead th {\n",
       "        text-align: right;\n",
       "    }\n",
       "</style>\n",
       "<table border=\"1\" class=\"dataframe\">\n",
       "  <thead>\n",
       "    <tr style=\"text-align: right;\">\n",
       "      <th></th>\n",
       "      <th>LowestSalary</th>\n",
       "      <th>HighestSalary</th>\n",
       "    </tr>\n",
       "    <tr>\n",
       "      <th>SubClassification</th>\n",
       "      <th></th>\n",
       "      <th></th>\n",
       "    </tr>\n",
       "  </thead>\n",
       "  <tbody>\n",
       "    <tr>\n",
       "      <th>Account &amp; Relationship Management</th>\n",
       "      <td>69.433155</td>\n",
       "      <td>102.520856</td>\n",
       "    </tr>\n",
       "    <tr>\n",
       "      <th>Accounts Officers/Clerks</th>\n",
       "      <td>44.090420</td>\n",
       "      <td>66.009688</td>\n",
       "    </tr>\n",
       "    <tr>\n",
       "      <th>Accounts Payable</th>\n",
       "      <td>42.241055</td>\n",
       "      <td>61.745763</td>\n",
       "    </tr>\n",
       "    <tr>\n",
       "      <th>Accounts Receivable/Credit Control</th>\n",
       "      <td>44.019608</td>\n",
       "      <td>60.374183</td>\n",
       "    </tr>\n",
       "    <tr>\n",
       "      <th>Actuarial</th>\n",
       "      <td>82.857143</td>\n",
       "      <td>108.392857</td>\n",
       "    </tr>\n",
       "    <tr>\n",
       "      <th>Administration</th>\n",
       "      <td>38.216561</td>\n",
       "      <td>53.991507</td>\n",
       "    </tr>\n",
       "    <tr>\n",
       "      <th>Administrative Assistants</th>\n",
       "      <td>36.837270</td>\n",
       "      <td>53.259624</td>\n",
       "    </tr>\n",
       "    <tr>\n",
       "      <th>Aerospace Engineering</th>\n",
       "      <td>98.627451</td>\n",
       "      <td>171.313725</td>\n",
       "    </tr>\n",
       "    <tr>\n",
       "      <th>Aged &amp; Disability Support</th>\n",
       "      <td>41.856562</td>\n",
       "      <td>58.761445</td>\n",
       "    </tr>\n",
       "    <tr>\n",
       "      <th>Agency Account Management</th>\n",
       "      <td>60.952381</td>\n",
       "      <td>85.639456</td>\n",
       "    </tr>\n",
       "    <tr>\n",
       "      <th>Agronomy &amp; Farm Services</th>\n",
       "      <td>51.948052</td>\n",
       "      <td>70.129870</td>\n",
       "    </tr>\n",
       "    <tr>\n",
       "      <th>Air Conditioning &amp; Refrigeration</th>\n",
       "      <td>52.543860</td>\n",
       "      <td>71.524561</td>\n",
       "    </tr>\n",
       "    <tr>\n",
       "      <th>Air Force</th>\n",
       "      <td>85.000000</td>\n",
       "      <td>106.666667</td>\n",
       "    </tr>\n",
       "    <tr>\n",
       "      <th>Airlines</th>\n",
       "      <td>41.896552</td>\n",
       "      <td>55.344828</td>\n",
       "    </tr>\n",
       "    <tr>\n",
       "      <th>Ambulance/Paramedics</th>\n",
       "      <td>68.367347</td>\n",
       "      <td>106.306122</td>\n",
       "    </tr>\n",
       "    <tr>\n",
       "      <th>Analysis &amp; Reporting</th>\n",
       "      <td>86.383648</td>\n",
       "      <td>143.591195</td>\n",
       "    </tr>\n",
       "    <tr>\n",
       "      <th>Analysts</th>\n",
       "      <td>92.270916</td>\n",
       "      <td>163.725100</td>\n",
       "    </tr>\n",
       "    <tr>\n",
       "      <th>Architects</th>\n",
       "      <td>137.596899</td>\n",
       "      <td>427.099483</td>\n",
       "    </tr>\n",
       "    <tr>\n",
       "      <th>Architectural Drafting</th>\n",
       "      <td>53.654822</td>\n",
       "      <td>77.756345</td>\n",
       "    </tr>\n",
       "    <tr>\n",
       "      <th>Architecture</th>\n",
       "      <td>67.591743</td>\n",
       "      <td>104.543578</td>\n",
       "    </tr>\n",
       "    <tr>\n",
       "      <th>Army</th>\n",
       "      <td>84.000000</td>\n",
       "      <td>251.800000</td>\n",
       "    </tr>\n",
       "    <tr>\n",
       "      <th>Art Direction</th>\n",
       "      <td>60.967742</td>\n",
       "      <td>79.354839</td>\n",
       "    </tr>\n",
       "    <tr>\n",
       "      <th>Assembly &amp; Process Work</th>\n",
       "      <td>34.121339</td>\n",
       "      <td>49.057531</td>\n",
       "    </tr>\n",
       "    <tr>\n",
       "      <th>Assessment</th>\n",
       "      <td>54.264706</td>\n",
       "      <td>77.058824</td>\n",
       "    </tr>\n",
       "    <tr>\n",
       "      <th>Assistant Accountants</th>\n",
       "      <td>43.957845</td>\n",
       "      <td>60.653396</td>\n",
       "    </tr>\n",
       "    <tr>\n",
       "      <th>Audit - External</th>\n",
       "      <td>58.171429</td>\n",
       "      <td>80.394286</td>\n",
       "    </tr>\n",
       "    <tr>\n",
       "      <th>Audit - Internal</th>\n",
       "      <td>91.034483</td>\n",
       "      <td>161.896552</td>\n",
       "    </tr>\n",
       "    <tr>\n",
       "      <th>Automotive Engineering</th>\n",
       "      <td>60.250000</td>\n",
       "      <td>100.225000</td>\n",
       "    </tr>\n",
       "    <tr>\n",
       "      <th>Automotive Trades</th>\n",
       "      <td>43.660331</td>\n",
       "      <td>60.151747</td>\n",
       "    </tr>\n",
       "    <tr>\n",
       "      <th>Aviation Services</th>\n",
       "      <td>66.582278</td>\n",
       "      <td>121.854430</td>\n",
       "    </tr>\n",
       "    <tr>\n",
       "      <th>...</th>\n",
       "      <td>...</td>\n",
       "      <td>...</td>\n",
       "    </tr>\n",
       "    <tr>\n",
       "      <th>Teaching - Secondary</th>\n",
       "      <td>61.231672</td>\n",
       "      <td>81.981427</td>\n",
       "    </tr>\n",
       "    <tr>\n",
       "      <th>Teaching - Tertiary</th>\n",
       "      <td>91.414474</td>\n",
       "      <td>136.128289</td>\n",
       "    </tr>\n",
       "    <tr>\n",
       "      <th>Teaching - Vocational</th>\n",
       "      <td>70.404218</td>\n",
       "      <td>96.409490</td>\n",
       "    </tr>\n",
       "    <tr>\n",
       "      <th>Teaching Aides &amp; Special Needs</th>\n",
       "      <td>43.873239</td>\n",
       "      <td>57.183099</td>\n",
       "    </tr>\n",
       "    <tr>\n",
       "      <th>Team Leaders</th>\n",
       "      <td>114.971098</td>\n",
       "      <td>196.872832</td>\n",
       "    </tr>\n",
       "    <tr>\n",
       "      <th>Team Leaders/Supervisors</th>\n",
       "      <td>57.101449</td>\n",
       "      <td>78.515942</td>\n",
       "    </tr>\n",
       "    <tr>\n",
       "      <th>Technical Writing</th>\n",
       "      <td>102.474227</td>\n",
       "      <td>244.185567</td>\n",
       "    </tr>\n",
       "    <tr>\n",
       "      <th>Technicians</th>\n",
       "      <td>45.555556</td>\n",
       "      <td>61.679587</td>\n",
       "    </tr>\n",
       "    <tr>\n",
       "      <th>Telecommunications</th>\n",
       "      <td>78.515406</td>\n",
       "      <td>124.450980</td>\n",
       "    </tr>\n",
       "    <tr>\n",
       "      <th>Testing &amp; Quality Assurance</th>\n",
       "      <td>111.095066</td>\n",
       "      <td>242.819495</td>\n",
       "    </tr>\n",
       "    <tr>\n",
       "      <th>Tour Guides</th>\n",
       "      <td>35.227273</td>\n",
       "      <td>50.000000</td>\n",
       "    </tr>\n",
       "    <tr>\n",
       "      <th>Trade Marketing</th>\n",
       "      <td>59.545455</td>\n",
       "      <td>82.272727</td>\n",
       "    </tr>\n",
       "    <tr>\n",
       "      <th>Training &amp; Development</th>\n",
       "      <td>85.753425</td>\n",
       "      <td>137.500000</td>\n",
       "    </tr>\n",
       "    <tr>\n",
       "      <th>Travel Agents/Consultants</th>\n",
       "      <td>39.946903</td>\n",
       "      <td>53.876106</td>\n",
       "    </tr>\n",
       "    <tr>\n",
       "      <th>Treasury</th>\n",
       "      <td>85.176471</td>\n",
       "      <td>145.835294</td>\n",
       "    </tr>\n",
       "    <tr>\n",
       "      <th>Tutoring</th>\n",
       "      <td>64.000000</td>\n",
       "      <td>99.136842</td>\n",
       "    </tr>\n",
       "    <tr>\n",
       "      <th>Underwriting</th>\n",
       "      <td>80.183486</td>\n",
       "      <td>141.422018</td>\n",
       "    </tr>\n",
       "    <tr>\n",
       "      <th>Urban Design &amp; Planning</th>\n",
       "      <td>79.021739</td>\n",
       "      <td>135.391304</td>\n",
       "    </tr>\n",
       "    <tr>\n",
       "      <th>Valuation</th>\n",
       "      <td>70.952381</td>\n",
       "      <td>112.357143</td>\n",
       "    </tr>\n",
       "    <tr>\n",
       "      <th>Veterinary Services &amp; Animal Welfare</th>\n",
       "      <td>37.577640</td>\n",
       "      <td>53.291925</td>\n",
       "    </tr>\n",
       "    <tr>\n",
       "      <th>Volunteer Coordination &amp; Support</th>\n",
       "      <td>55.000000</td>\n",
       "      <td>109.952381</td>\n",
       "    </tr>\n",
       "    <tr>\n",
       "      <th>Waiting Staff</th>\n",
       "      <td>27.824721</td>\n",
       "      <td>41.560405</td>\n",
       "    </tr>\n",
       "    <tr>\n",
       "      <th>Warehousing, Storage &amp; Distribution</th>\n",
       "      <td>38.261826</td>\n",
       "      <td>55.931518</td>\n",
       "    </tr>\n",
       "    <tr>\n",
       "      <th>Water &amp; Waste Engineering</th>\n",
       "      <td>84.305556</td>\n",
       "      <td>127.409722</td>\n",
       "    </tr>\n",
       "    <tr>\n",
       "      <th>Web &amp; Interaction Design</th>\n",
       "      <td>101.270492</td>\n",
       "      <td>208.258197</td>\n",
       "    </tr>\n",
       "    <tr>\n",
       "      <th>Web Development &amp; Production</th>\n",
       "      <td>89.004425</td>\n",
       "      <td>165.643805</td>\n",
       "    </tr>\n",
       "    <tr>\n",
       "      <th>Welders &amp; Boilermakers</th>\n",
       "      <td>48.017316</td>\n",
       "      <td>64.735931</td>\n",
       "    </tr>\n",
       "    <tr>\n",
       "      <th>Winery &amp; Viticulture</th>\n",
       "      <td>58.333333</td>\n",
       "      <td>105.633333</td>\n",
       "    </tr>\n",
       "    <tr>\n",
       "      <th>Workers' Compensation</th>\n",
       "      <td>59.137931</td>\n",
       "      <td>77.816092</td>\n",
       "    </tr>\n",
       "    <tr>\n",
       "      <th>Workplace Training &amp; Assessment</th>\n",
       "      <td>66.620209</td>\n",
       "      <td>92.083624</td>\n",
       "    </tr>\n",
       "  </tbody>\n",
       "</table>\n",
       "<p>338 rows × 2 columns</p>\n",
       "</div>"
      ],
      "text/plain": [
       "                                      LowestSalary  HighestSalary\n",
       "SubClassification                                                \n",
       "Account & Relationship Management        69.433155     102.520856\n",
       "Accounts Officers/Clerks                 44.090420      66.009688\n",
       "Accounts Payable                         42.241055      61.745763\n",
       "Accounts Receivable/Credit Control       44.019608      60.374183\n",
       "Actuarial                                82.857143     108.392857\n",
       "Administration                           38.216561      53.991507\n",
       "Administrative Assistants                36.837270      53.259624\n",
       "Aerospace Engineering                    98.627451     171.313725\n",
       "Aged & Disability Support                41.856562      58.761445\n",
       "Agency Account Management                60.952381      85.639456\n",
       "Agronomy & Farm Services                 51.948052      70.129870\n",
       "Air Conditioning & Refrigeration         52.543860      71.524561\n",
       "Air Force                                85.000000     106.666667\n",
       "Airlines                                 41.896552      55.344828\n",
       "Ambulance/Paramedics                     68.367347     106.306122\n",
       "Analysis & Reporting                     86.383648     143.591195\n",
       "Analysts                                 92.270916     163.725100\n",
       "Architects                              137.596899     427.099483\n",
       "Architectural Drafting                   53.654822      77.756345\n",
       "Architecture                             67.591743     104.543578\n",
       "Army                                     84.000000     251.800000\n",
       "Art Direction                            60.967742      79.354839\n",
       "Assembly & Process Work                  34.121339      49.057531\n",
       "Assessment                               54.264706      77.058824\n",
       "Assistant Accountants                    43.957845      60.653396\n",
       "Audit - External                         58.171429      80.394286\n",
       "Audit - Internal                         91.034483     161.896552\n",
       "Automotive Engineering                   60.250000     100.225000\n",
       "Automotive Trades                        43.660331      60.151747\n",
       "Aviation Services                        66.582278     121.854430\n",
       "...                                            ...            ...\n",
       "Teaching - Secondary                     61.231672      81.981427\n",
       "Teaching - Tertiary                      91.414474     136.128289\n",
       "Teaching - Vocational                    70.404218      96.409490\n",
       "Teaching Aides & Special Needs           43.873239      57.183099\n",
       "Team Leaders                            114.971098     196.872832\n",
       "Team Leaders/Supervisors                 57.101449      78.515942\n",
       "Technical Writing                       102.474227     244.185567\n",
       "Technicians                              45.555556      61.679587\n",
       "Telecommunications                       78.515406     124.450980\n",
       "Testing & Quality Assurance             111.095066     242.819495\n",
       "Tour Guides                              35.227273      50.000000\n",
       "Trade Marketing                          59.545455      82.272727\n",
       "Training & Development                   85.753425     137.500000\n",
       "Travel Agents/Consultants                39.946903      53.876106\n",
       "Treasury                                 85.176471     145.835294\n",
       "Tutoring                                 64.000000      99.136842\n",
       "Underwriting                             80.183486     141.422018\n",
       "Urban Design & Planning                  79.021739     135.391304\n",
       "Valuation                                70.952381     112.357143\n",
       "Veterinary Services & Animal Welfare     37.577640      53.291925\n",
       "Volunteer Coordination & Support         55.000000     109.952381\n",
       "Waiting Staff                            27.824721      41.560405\n",
       "Warehousing, Storage & Distribution      38.261826      55.931518\n",
       "Water & Waste Engineering                84.305556     127.409722\n",
       "Web & Interaction Design                101.270492     208.258197\n",
       "Web Development & Production             89.004425     165.643805\n",
       "Welders & Boilermakers                   48.017316      64.735931\n",
       "Winery & Viticulture                     58.333333     105.633333\n",
       "Workers' Compensation                    59.137931      77.816092\n",
       "Workplace Training & Assessment          66.620209      92.083624\n",
       "\n",
       "[338 rows x 2 columns]"
      ]
     },
     "execution_count": 63,
     "metadata": {},
     "output_type": "execute_result"
    }
   ],
   "source": [
    "salaryRangeSubSec = data.groupby('SubClassification')['LowestSalary', 'HighestSalary'].mean()\n",
    "salaryRangeSubSec"
   ]
  },
  {
   "cell_type": "markdown",
   "metadata": {},
   "source": [
    "# Compare the salary range between sub-sectors"
   ]
  },
  {
   "cell_type": "code",
   "execution_count": 64,
   "metadata": {},
   "outputs": [
    {
     "data": {
      "text/plain": [
       "SubClassification\n",
       "Account & Relationship Management        85.977005\n",
       "Accounts Officers/Clerks                 55.050054\n",
       "Accounts Payable                         51.993409\n",
       "Accounts Receivable/Credit Control       52.196895\n",
       "Actuarial                                95.625000\n",
       "Administration                           46.104034\n",
       "Administrative Assistants                45.048447\n",
       "Aerospace Engineering                   134.970588\n",
       "Aged & Disability Support                50.309003\n",
       "Agency Account Management                73.295918\n",
       "Agronomy & Farm Services                 61.038961\n",
       "Air Conditioning & Refrigeration         62.034211\n",
       "Air Force                                95.833333\n",
       "Airlines                                 48.620690\n",
       "Ambulance/Paramedics                     87.336735\n",
       "Analysis & Reporting                    114.987421\n",
       "Analysts                                127.998008\n",
       "Architects                              282.348191\n",
       "Architectural Drafting                   65.705584\n",
       "Architecture                             86.067661\n",
       "Army                                    167.900000\n",
       "Art Direction                            70.161290\n",
       "Assembly & Process Work                  41.589435\n",
       "Assessment                               65.661765\n",
       "Assistant Accountants                    52.305621\n",
       "Audit - External                         69.282857\n",
       "Audit - Internal                        126.465517\n",
       "Automotive Engineering                   80.237500\n",
       "Automotive Trades                        51.906039\n",
       "Aviation Services                        94.218354\n",
       "                                           ...    \n",
       "Teaching - Secondary                     71.606549\n",
       "Teaching - Tertiary                     113.771382\n",
       "Teaching - Vocational                    83.406854\n",
       "Teaching Aides & Special Needs           50.528169\n",
       "Team Leaders                            155.921965\n",
       "Team Leaders/Supervisors                 67.808696\n",
       "Technical Writing                       173.329897\n",
       "Technicians                              53.617571\n",
       "Telecommunications                      101.483193\n",
       "Testing & Quality Assurance             176.957280\n",
       "Tour Guides                              42.613636\n",
       "Trade Marketing                          70.909091\n",
       "Training & Development                  111.626712\n",
       "Travel Agents/Consultants                46.911504\n",
       "Treasury                                115.505882\n",
       "Tutoring                                 81.568421\n",
       "Underwriting                            110.802752\n",
       "Urban Design & Planning                 107.206522\n",
       "Valuation                                91.654762\n",
       "Veterinary Services & Animal Welfare     45.434783\n",
       "Volunteer Coordination & Support         82.476190\n",
       "Waiting Staff                            34.692563\n",
       "Warehousing, Storage & Distribution      47.096672\n",
       "Water & Waste Engineering               105.857639\n",
       "Web & Interaction Design                154.764344\n",
       "Web Development & Production            127.324115\n",
       "Welders & Boilermakers                   56.376623\n",
       "Winery & Viticulture                     81.983333\n",
       "Workers' Compensation                    68.477011\n",
       "Workplace Training & Assessment          79.351916\n",
       "Name: AvgSalary, Length: 338, dtype: float64"
      ]
     },
     "execution_count": 64,
     "metadata": {},
     "output_type": "execute_result"
    }
   ],
   "source": [
    "salaryRangeSubSec['AvgSalary'] = (salaryRangeSubSec['LowestSalary'] + salaryRangeSubSec['HighestSalary'])/2\n",
    "salaryRangeSubSec['AvgSalary']"
   ]
  },
  {
   "cell_type": "code",
   "execution_count": 65,
   "metadata": {},
   "outputs": [
    {
     "name": "stdout",
     "output_type": "stream",
     "text": [
      "Lowest Average Salary:  Waiting Staff : 34.69256284916201\n"
     ]
    }
   ],
   "source": [
    "nameLowSubSec = salaryRangeSubSec['AvgSalary'].idxmin()\n",
    "valueLowSubSec = salaryRangeSubSec['AvgSalary'].values.min()\n",
    "print(\"Lowest Average Salary: \", nameLowSubSec, \":\", valueLowSubSec)"
   ]
  },
  {
   "cell_type": "code",
   "execution_count": 66,
   "metadata": {},
   "outputs": [
    {
     "name": "stdout",
     "output_type": "stream",
     "text": [
      "Highest Average Salary:  General Practitioners : 412.2347585114806\n"
     ]
    }
   ],
   "source": [
    "nameHighSubSec = salaryRangeSubSec['AvgSalary'].idxmax()\n",
    "valueHighSubSec = salaryRangeSubSec['AvgSalary'].values.max()\n",
    "print(\"Highest Average Salary: \", nameHighSubSec, \":\", valueHighSubSec)"
   ]
  },
  {
   "cell_type": "markdown",
   "metadata": {},
   "source": [
    "Conclusion: As above, between all sub-sectors:\n",
    "    Lowest Salary: Waiting Staff (27.824721),\n",
    "    Highest Salary: General Practitioners (669.940618).\n",
    "About the average salary:\n",
    "    Lowest Salary: Waiting Staff (34.69256284916201),\n",
    "    Highest Salary: General Practitioners (412.2347585114806)."
   ]
  },
  {
   "cell_type": "markdown",
   "metadata": {},
   "source": [
    "# Trending of market:"
   ]
  },
  {
   "cell_type": "code",
   "execution_count": 67,
   "metadata": {},
   "outputs": [
    {
     "data": {
      "text/plain": [
       "Classification\n",
       "Information & Communication Technology    22796\n",
       "Trades & Services                         17976\n",
       "Healthcare & Medical                      17085\n",
       "Hospitality & Tourism                     15523\n",
       "Manufacturing, Transport & Logistics      12376\n",
       "dtype: int64"
      ]
     },
     "execution_count": 67,
     "metadata": {},
     "output_type": "execute_result"
    }
   ],
   "source": [
    "highestMarketShare.nlargest(5)"
   ]
  },
  {
   "cell_type": "markdown",
   "metadata": {},
   "source": [
    "As above we can see those are the 5 most popular jobs as well as always require a huge amount of human resources.\n",
    "So in order to guarantee a job in the future, I would suggest that student heading on studying IT or economy or both at the same time."
   ]
  },
  {
   "cell_type": "markdown",
   "metadata": {},
   "source": [
    "## 4) Visualize the result on an interactive web page"
   ]
  },
  {
   "cell_type": "code",
   "execution_count": 70,
   "metadata": {},
   "outputs": [
    {
     "data": {
      "text/plain": [
       "<matplotlib.axes._subplots.AxesSubplot at 0x1ded0bb0b00>"
      ]
     },
     "execution_count": 70,
     "metadata": {},
     "output_type": "execute_result"
    },
    {
     "data": {
      "image/png": "[encoded data removed]",
      "text/plain": [
       "<Figure size 720x720 with 1 Axes>"
      ]
     },
     "metadata": {},
     "output_type": "display_data"
    }
   ],
   "source": [
    "# visualize number of job by location\n",
    "vsl = data[['Classification','Location','Date','HighestSalary','Title']]\n",
    "vsl=vsl.dropna()\n",
    "job_by_loc= vsl.groupby('Location')['Title'].count().sort_values(ascending=False).head(20)\n",
    "job_by_loc.plot.bar(figsize=(10,10),title = ('Jobs by the location'))"
   ]
  },
  {
   "cell_type": "code",
   "execution_count": 74,
   "metadata": {},
   "outputs": [
    {
     "data": {
      "text/plain": [
       "<matplotlib.axes._subplots.AxesSubplot at 0x1dde1a7b7f0>"
      ]
     },
     "execution_count": 74,
     "metadata": {},
     "output_type": "execute_result"
    },
    {
     "data": {
      "image/png": "[encoded data removed]",
      "text/plain": [
       "<Figure size 720x720 with 1 Axes>"
      ]
     },
     "metadata": {},
     "output_type": "display_data"
    }
   ],
   "source": [
    "#Visualize number of job by sector\n",
    "job_sector=vsl.groupby('Classification')['Title'].count().sort_values(ascending=False).head(30)\n",
    "job_sector.plot.bar(figsize=(10,10),title=('Jobs by sectors'))"
   ]
  },
  {
   "cell_type": "code",
   "execution_count": 79,
   "metadata": {
    "scrolled": true
   },
   "outputs": [
    {
     "data": {
      "text/plain": [
       "<matplotlib.axes._subplots.AxesSubplot at 0x1dde1ccfd30>"
      ]
     },
     "execution_count": 79,
     "metadata": {},
     "output_type": "execute_result"
    },
    {
     "data": {
      "image/png": "[encoded data removed]",
      "text/plain": [
       "<Figure size 720x720 with 1 Axes>"
      ]
     },
     "metadata": {},
     "output_type": "display_data"
    }
   ],
   "source": [
    "#Avg salary by location\n",
    "avg_sal=vsl.groupby('Location')['HighestSalary'].mean().sort_values(ascending=False).head(20)\n",
    "avg_sal.plot.bar(figsize=(10,10),title=('Average Salary by Location'))"
   ]
  },
  {
   "cell_type": "code",
   "execution_count": null,
   "metadata": {},
   "outputs": [],
   "source": []
  },
  {
   "cell_type": "markdown",
   "metadata": {},
   "source": [
    "## 5) Using PySpark for data analysis"
   ]
  },
  {
   "cell_type": "code",
   "execution_count": null,
   "metadata": {},
   "outputs": [],
   "source": []
  },
  {
   "cell_type": "markdown",
   "metadata": {},
   "source": [
    "## PART 3"
   ]
  },
  {
   "cell_type": "markdown",
   "metadata": {},
   "source": [
    "## 1) The finding of your data analytics (Vu)"
   ]
  },
  {
   "cell_type": "code",
   "execution_count": null,
   "metadata": {},
   "outputs": [],
   "source": []
  },
  {
   "cell_type": "markdown",
   "metadata": {},
   "source": [
    "## 2) Actions for balancing the markets do you suggest based on your finding? (Vu)"
   ]
  },
  {
   "cell_type": "code",
   "execution_count": null,
   "metadata": {},
   "outputs": [],
   "source": []
  },
  {
   "cell_type": "markdown",
   "metadata": {},
   "source": [
    "## 3) Refine the data analytics?(Vu)"
   ]
  },
  {
   "cell_type": "code",
   "execution_count": null,
   "metadata": {},
   "outputs": [],
   "source": []
  },
  {
   "cell_type": "markdown",
   "metadata": {},
   "source": [
    "## 4) Are there any implications for employer and employees base on the finding you obtained? Justify your answer (Vu)"
   ]
  },
  {
   "cell_type": "code",
   "execution_count": null,
   "metadata": {},
   "outputs": [],
   "source": []
  },
  {
   "cell_type": "markdown",
   "metadata": {},
   "source": [
    "## 5) Present and visualize your data story on a online web page[optional]"
   ]
  },
  {
   "cell_type": "code",
   "execution_count": null,
   "metadata": {},
   "outputs": [],
   "source": []
  },
  {
   "cell_type": "markdown",
   "metadata": {},
   "source": [
    "Author:\n",
    "<br>    Tran Hoang Dung - 16521654\n",
    "<br>    Tat Quang Vu - 16521459\n"
   ]
  }
 ],
 "metadata": {
  "kernelspec": {
   "display_name": "Python 3",
   "language": "python",
   "name": "python3"
  },
  "language_info": {
   "codemirror_mode": {
    "name": "ipython",
    "version": 3
   },
   "file_extension": ".py",
   "mimetype": "text/x-python",
   "name": "python",
   "nbconvert_exporter": "python",
   "pygments_lexer": "ipython3",
   "version": "3.6.4"
  }
 },
 "nbformat": 4,
 "nbformat_minor": 2
}
