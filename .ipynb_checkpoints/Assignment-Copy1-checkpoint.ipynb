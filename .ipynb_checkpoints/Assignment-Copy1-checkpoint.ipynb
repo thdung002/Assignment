{
 "cells": [
  {
   "cell_type": "markdown",
   "metadata": {},
   "source": [
    "## Part 1"
   ]
  },
  {
   "cell_type": "markdown",
   "metadata": {},
   "source": [
    "2. Implementation"
   ]
  },
  {
   "cell_type": "code",
   "execution_count": 1,
   "metadata": {},
   "outputs": [],
   "source": [
    "import pandas as pd\n",
    "import numpy as np\n",
    "import sklearn as sk\n",
    "from IPython.display import display\n",
    "from sklearn import preprocessing\n"
   ]
  },
  {
   "cell_type": "code",
   "execution_count": 2,
   "metadata": {},
   "outputs": [
    {
     "name": "stderr",
     "output_type": "stream",
     "text": [
      "D:\\Anaconda\\lib\\site-packages\\IPython\\core\\interactiveshell.py:3058: DtypeWarning: Columns (0,4,5,6,7) have mixed types. Specify dtype option on import or set low_memory=False.\n",
      "  interactivity=interactivity, compiler=compiler, result=result)\n"
     ]
    },
    {
     "data": {
      "text/html": [
       "<div>\n",
       "<style scoped>\n",
       "    .dataframe tbody tr th:only-of-type {\n",
       "        vertical-align: middle;\n",
       "    }\n",
       "\n",
       "    .dataframe tbody tr th {\n",
       "        vertical-align: top;\n",
       "    }\n",
       "\n",
       "    .dataframe thead th {\n",
       "        text-align: right;\n",
       "    }\n",
       "</style>\n",
       "<table border=\"1\" class=\"dataframe\">\n",
       "  <thead>\n",
       "    <tr style=\"text-align: right;\">\n",
       "      <th></th>\n",
       "      <th>Id</th>\n",
       "      <th>Title</th>\n",
       "      <th>Company</th>\n",
       "      <th>Date</th>\n",
       "      <th>Location</th>\n",
       "      <th>Area</th>\n",
       "      <th>Classification</th>\n",
       "      <th>SubClassification</th>\n",
       "      <th>Requirement</th>\n",
       "      <th>FullDescription</th>\n",
       "      <th>LowestSalary</th>\n",
       "      <th>HighestSalary</th>\n",
       "      <th>JobType</th>\n",
       "    </tr>\n",
       "  </thead>\n",
       "  <tbody>\n",
       "    <tr>\n",
       "      <td>0</td>\n",
       "      <td>37404348</td>\n",
       "      <td>Casual Stock Replenisher</td>\n",
       "      <td>Aldi Stores</td>\n",
       "      <td>2018-10-07T00:00:00.000Z</td>\n",
       "      <td>Sydney</td>\n",
       "      <td>North West &amp; Hills District</td>\n",
       "      <td>Retail &amp; Consumer Products</td>\n",
       "      <td>Retail Assistants</td>\n",
       "      <td>Our Casual Stock Replenishers pride themselves...</td>\n",
       "      <td>NaN</td>\n",
       "      <td>0</td>\n",
       "      <td>30</td>\n",
       "      <td>NaN</td>\n",
       "    </tr>\n",
       "    <tr>\n",
       "      <td>1</td>\n",
       "      <td>37404337</td>\n",
       "      <td>Casual Stock Replenisher</td>\n",
       "      <td>Aldi Stores</td>\n",
       "      <td>2018-10-07T00:00:00.000Z</td>\n",
       "      <td>Richmond &amp; Hawkesbury</td>\n",
       "      <td>NaN</td>\n",
       "      <td>Retail &amp; Consumer Products</td>\n",
       "      <td>Retail Assistants</td>\n",
       "      <td>Our Casual Stock Replenishers pride themselves...</td>\n",
       "      <td>NaN</td>\n",
       "      <td>0</td>\n",
       "      <td>30</td>\n",
       "      <td>NaN</td>\n",
       "    </tr>\n",
       "    <tr>\n",
       "      <td>2</td>\n",
       "      <td>37404356</td>\n",
       "      <td>RETAIL SALES SUPERSTARS and STYLISTS Wanted - ...</td>\n",
       "      <td>LB Creative Pty Ltd</td>\n",
       "      <td>2018-10-07T00:00:00.000Z</td>\n",
       "      <td>Brisbane</td>\n",
       "      <td>CBD &amp; Inner Suburbs</td>\n",
       "      <td>Retail &amp; Consumer Products</td>\n",
       "      <td>Retail Assistants</td>\n",
       "      <td>BRAND NEW FLAGSHIP STORE OPENING - SUNSHINE PLAZA</td>\n",
       "      <td>NaN</td>\n",
       "      <td>0</td>\n",
       "      <td>30</td>\n",
       "      <td>NaN</td>\n",
       "    </tr>\n",
       "    <tr>\n",
       "      <td>3</td>\n",
       "      <td>37404330</td>\n",
       "      <td>Team member - Belrose</td>\n",
       "      <td>Anaconda Group Pty Ltd</td>\n",
       "      <td>2018-10-07T00:00:00.000Z</td>\n",
       "      <td>Gosford &amp; Central Coast</td>\n",
       "      <td>NaN</td>\n",
       "      <td>Retail &amp; Consumer Products</td>\n",
       "      <td>Retail Assistants</td>\n",
       "      <td>Bring it on - do you love the great outdoors a...</td>\n",
       "      <td>NaN</td>\n",
       "      <td>0</td>\n",
       "      <td>30</td>\n",
       "      <td>NaN</td>\n",
       "    </tr>\n",
       "    <tr>\n",
       "      <td>4</td>\n",
       "      <td>37404308</td>\n",
       "      <td>Business Banking Contact Centre Specialist, Ni...</td>\n",
       "      <td>Commonwealth Bank - Business &amp; Private Banking</td>\n",
       "      <td>2018-10-07T00:00:00.000Z</td>\n",
       "      <td>Sydney</td>\n",
       "      <td>Ryde &amp; Macquarie Park</td>\n",
       "      <td>Call Centre &amp; Customer Service</td>\n",
       "      <td>Sales - Inbound</td>\n",
       "      <td>We are seeking highly articulate, enthusiastic...</td>\n",
       "      <td>NaN</td>\n",
       "      <td>0</td>\n",
       "      <td>30</td>\n",
       "      <td>NaN</td>\n",
       "    </tr>\n",
       "  </tbody>\n",
       "</table>\n",
       "</div>"
      ],
      "text/plain": [
       "         Id                                              Title  \\\n",
       "0  37404348                           Casual Stock Replenisher   \n",
       "1  37404337                           Casual Stock Replenisher   \n",
       "2  37404356  RETAIL SALES SUPERSTARS and STYLISTS Wanted - ...   \n",
       "3  37404330                              Team member - Belrose   \n",
       "4  37404308  Business Banking Contact Centre Specialist, Ni...   \n",
       "\n",
       "                                          Company                      Date  \\\n",
       "0                                     Aldi Stores  2018-10-07T00:00:00.000Z   \n",
       "1                                     Aldi Stores  2018-10-07T00:00:00.000Z   \n",
       "2                             LB Creative Pty Ltd  2018-10-07T00:00:00.000Z   \n",
       "3                          Anaconda Group Pty Ltd  2018-10-07T00:00:00.000Z   \n",
       "4  Commonwealth Bank - Business & Private Banking  2018-10-07T00:00:00.000Z   \n",
       "\n",
       "                  Location                         Area  \\\n",
       "0                   Sydney  North West & Hills District   \n",
       "1    Richmond & Hawkesbury                          NaN   \n",
       "2                 Brisbane          CBD & Inner Suburbs   \n",
       "3  Gosford & Central Coast                          NaN   \n",
       "4                   Sydney        Ryde & Macquarie Park   \n",
       "\n",
       "                   Classification  SubClassification  \\\n",
       "0      Retail & Consumer Products  Retail Assistants   \n",
       "1      Retail & Consumer Products  Retail Assistants   \n",
       "2      Retail & Consumer Products  Retail Assistants   \n",
       "3      Retail & Consumer Products  Retail Assistants   \n",
       "4  Call Centre & Customer Service    Sales - Inbound   \n",
       "\n",
       "                                         Requirement FullDescription  \\\n",
       "0  Our Casual Stock Replenishers pride themselves...             NaN   \n",
       "1  Our Casual Stock Replenishers pride themselves...             NaN   \n",
       "2  BRAND NEW FLAGSHIP STORE OPENING - SUNSHINE PLAZA             NaN   \n",
       "3  Bring it on - do you love the great outdoors a...             NaN   \n",
       "4  We are seeking highly articulate, enthusiastic...             NaN   \n",
       "\n",
       "   LowestSalary  HighestSalary JobType  \n",
       "0             0             30     NaN  \n",
       "1             0             30     NaN  \n",
       "2             0             30     NaN  \n",
       "3             0             30     NaN  \n",
       "4             0             30     NaN  "
      ]
     },
     "execution_count": 2,
     "metadata": {},
     "output_type": "execute_result"
    }
   ],
   "source": [
    "%matplotlib inline\n",
    "data = pd.read_csv(\"data.csv\")\n",
    "(data.head())"
   ]
  },
  {
   "cell_type": "markdown",
   "metadata": {},
   "source": [
    "## 1. Describe the dataset"
   ]
  },
  {
   "cell_type": "markdown",
   "metadata": {},
   "source": [
    "## Categories/domains"
   ]
  },
  {
   "cell_type": "code",
   "execution_count": null,
   "metadata": {},
   "outputs": [],
   "source": [
    "list(data)"
   ]
  },
  {
   "cell_type": "markdown",
   "metadata": {},
   "source": [
    "## Size of each variation (318477)"
   ]
  },
  {
   "cell_type": "code",
   "execution_count": 81,
   "metadata": {},
   "outputs": [
    {
     "data": {
      "text/plain": [
       "(318477, 13)"
      ]
     },
     "execution_count": 81,
     "metadata": {},
     "output_type": "execute_result"
    }
   ],
   "source": [
    "data.shape"
   ]
  },
  {
   "cell_type": "markdown",
   "metadata": {},
   "source": [
    "## Structure/format"
   ]
  },
  {
   "cell_type": "code",
   "execution_count": 82,
   "metadata": {},
   "outputs": [
    {
     "data": {
      "text/plain": [
       "Id                   object\n",
       "Title                object\n",
       "Company              object\n",
       "Date                 object\n",
       "Location             object\n",
       "Area                 object\n",
       "Classification       object\n",
       "SubClassification    object\n",
       "Requirement          object\n",
       "FullDescription      object\n",
       "LowestSalary          int64\n",
       "HighestSalary         int64\n",
       "JobType              object\n",
       "dtype: object"
      ]
     },
     "execution_count": 82,
     "metadata": {},
     "output_type": "execute_result"
    }
   ],
   "source": [
    "data.dtypes"
   ]
  },
  {
   "cell_type": "code",
   "execution_count": 83,
   "metadata": {},
   "outputs": [
    {
     "name": "stdout",
     "output_type": "stream",
     "text": [
      "<class 'pandas.core.frame.DataFrame'>\n",
      "RangeIndex: 318477 entries, 0 to 318476\n",
      "Data columns (total 13 columns):\n",
      "Id                   318477 non-null object\n",
      "Title                318477 non-null object\n",
      "Company              306473 non-null object\n",
      "Date                 318477 non-null object\n",
      "Location             197229 non-null object\n",
      "Area                 122658 non-null object\n",
      "Classification       197229 non-null object\n",
      "SubClassification    197229 non-null object\n",
      "Requirement          318470 non-null object\n",
      "FullDescription      302302 non-null object\n",
      "LowestSalary         318477 non-null int64\n",
      "HighestSalary        318477 non-null int64\n",
      "JobType              302379 non-null object\n",
      "dtypes: int64(2), object(11)\n",
      "memory usage: 31.6+ MB\n"
     ]
    }
   ],
   "source": [
    "data.info()"
   ]
  },
  {
   "cell_type": "markdown",
   "metadata": {},
   "source": [
    "## attributes/features of review data (Vu)"
   ]
  },
  {
   "cell_type": "code",
   "execution_count": null,
   "metadata": {},
   "outputs": [],
   "source": []
  },
  {
   "cell_type": "code",
   "execution_count": null,
   "metadata": {},
   "outputs": [],
   "source": []
  },
  {
   "cell_type": "code",
   "execution_count": null,
   "metadata": {},
   "outputs": [],
   "source": []
  },
  {
   "cell_type": "code",
   "execution_count": null,
   "metadata": {},
   "outputs": [],
   "source": []
  },
  {
   "cell_type": "markdown",
   "metadata": {},
   "source": [
    "## 2.Steps used for data preparation and preprocessing "
   ]
  },
  {
   "cell_type": "markdown",
   "metadata": {},
   "source": [
    "Load data"
   ]
  },
  {
   "cell_type": "code",
   "execution_count": 84,
   "metadata": {},
   "outputs": [
    {
     "name": "stderr",
     "output_type": "stream",
     "text": [
      "C:\\ProgramData\\Anaconda3\\lib\\site-packages\\IPython\\core\\interactiveshell.py:2728: DtypeWarning: Columns (0,4,5,6,7) have mixed types. Specify dtype option on import or set low_memory=False.\n",
      "  interactivity=interactivity, compiler=compiler, result=result)\n"
     ]
    }
   ],
   "source": [
    "data = pd.read_csv(\"data.csv\")"
   ]
  },
  {
   "cell_type": "markdown",
   "metadata": {},
   "source": [
    "Normalize the data"
   ]
  },
  {
   "cell_type": "code",
   "execution_count": 85,
   "metadata": {},
   "outputs": [
    {
     "data": {
      "text/plain": [
       "0          0.0\n",
       "1          0.0\n",
       "2          0.0\n",
       "3          0.0\n",
       "4          0.0\n",
       "5          0.0\n",
       "6          0.0\n",
       "7          0.0\n",
       "8          0.0\n",
       "9          0.0\n",
       "10         0.0\n",
       "11         0.0\n",
       "12         0.0\n",
       "13         0.0\n",
       "14         0.0\n",
       "15         0.0\n",
       "16         0.0\n",
       "17         0.0\n",
       "18         0.0\n",
       "19         0.0\n",
       "20         0.0\n",
       "21         0.0\n",
       "22         0.0\n",
       "23         0.0\n",
       "24         0.0\n",
       "25         0.0\n",
       "26         0.0\n",
       "27         0.0\n",
       "28         0.0\n",
       "29         0.0\n",
       "          ... \n",
       "318447    12.0\n",
       "318448    12.0\n",
       "318449    12.0\n",
       "318450    12.0\n",
       "318451    12.0\n",
       "318452    12.0\n",
       "318453    12.0\n",
       "318454    12.0\n",
       "318455    12.0\n",
       "318456    12.0\n",
       "318457    12.0\n",
       "318458    15.0\n",
       "318459    15.0\n",
       "318460    15.0\n",
       "318461    15.0\n",
       "318462    15.0\n",
       "318463    15.0\n",
       "318464    15.0\n",
       "318465    15.0\n",
       "318466    15.0\n",
       "318467    15.0\n",
       "318468    15.0\n",
       "318469    20.0\n",
       "318470    20.0\n",
       "318471    20.0\n",
       "318472    20.0\n",
       "318473    20.0\n",
       "318474    20.0\n",
       "318475    20.0\n",
       "318476    20.0\n",
       "Name: LowestSalary, Length: 318477, dtype: float64"
      ]
     },
     "execution_count": 85,
     "metadata": {},
     "output_type": "execute_result"
    }
   ],
   "source": [
    "data_norm = (data[\"LowestSalary\"] - data[\"LowestSalary\"].min()) / (data[\"LowestSalary\"].max() - data[\"LowestSalary\"].min())*20\n",
    "data_norm"
   ]
  },
  {
   "cell_type": "code",
   "execution_count": 86,
   "metadata": {},
   "outputs": [
    {
     "data": {
      "text/plain": [
       "0          0.000000\n",
       "1          0.000000\n",
       "2          0.000000\n",
       "3          0.000000\n",
       "4          0.000000\n",
       "5          0.000000\n",
       "6          0.000000\n",
       "7          0.000000\n",
       "8          0.000000\n",
       "9          0.000000\n",
       "10         0.000000\n",
       "11         0.000000\n",
       "12         0.000000\n",
       "13         0.000000\n",
       "14         0.000000\n",
       "15         0.000000\n",
       "16         0.000000\n",
       "17         0.000000\n",
       "18         0.000000\n",
       "19         0.000000\n",
       "20         0.000000\n",
       "21         0.000000\n",
       "22         0.000000\n",
       "23         0.000000\n",
       "24         0.000000\n",
       "25         0.000000\n",
       "26         0.000000\n",
       "27         0.000000\n",
       "28         0.000000\n",
       "29         0.000000\n",
       "            ...    \n",
       "318447     2.476780\n",
       "318448     2.476780\n",
       "318449     2.476780\n",
       "318450     2.476780\n",
       "318451     2.476780\n",
       "318452     2.476780\n",
       "318453     2.476780\n",
       "318454     2.476780\n",
       "318455     2.476780\n",
       "318456     2.476780\n",
       "318457     2.476780\n",
       "318458     3.508772\n",
       "318459     3.508772\n",
       "318460     3.508772\n",
       "318461     3.508772\n",
       "318462     3.508772\n",
       "318463     3.508772\n",
       "318464     3.508772\n",
       "318465     3.508772\n",
       "318466     3.508772\n",
       "318467     3.508772\n",
       "318468     3.508772\n",
       "318469    20.000000\n",
       "318470    20.000000\n",
       "318471    20.000000\n",
       "318472    20.000000\n",
       "318473    20.000000\n",
       "318474    20.000000\n",
       "318475    20.000000\n",
       "318476    20.000000\n",
       "Name: HighestSalary, Length: 318477, dtype: float64"
      ]
     },
     "execution_count": 86,
     "metadata": {},
     "output_type": "execute_result"
    }
   ],
   "source": [
    "data_norm = (data[\"HighestSalary\"] - data[\"HighestSalary\"].min()) / (data[\"HighestSalary\"].max() - data[\"HighestSalary\"].min())*20\n",
    "data_norm"
   ]
  },
  {
   "cell_type": "code",
   "execution_count": 96,
   "metadata": {},
   "outputs": [
    {
     "data": {
      "text/plain": [
       "array([nan, 'Full Time', 'Contract/Temp', 'Part Time', 'Casual/Vacation'],\n",
       "      dtype=object)"
      ]
     },
     "execution_count": 96,
     "metadata": {},
     "output_type": "execute_result"
    }
   ],
   "source": [
    "data['JobType'].unique()"
   ]
  },
  {
   "cell_type": "code",
   "execution_count": 90,
   "metadata": {},
   "outputs": [
    {
     "data": {
      "text/plain": [
       "195819"
      ]
     },
     "execution_count": 90,
     "metadata": {},
     "output_type": "execute_result"
    }
   ],
   "source": [
    "data['Area'].isnull().sum()"
   ]
  },
  {
   "cell_type": "code",
   "execution_count": 91,
   "metadata": {},
   "outputs": [
    {
     "data": {
      "text/plain": [
       "121248"
      ]
     },
     "execution_count": 91,
     "metadata": {},
     "output_type": "execute_result"
    }
   ],
   "source": [
    "data['Location'].isnull().sum()"
   ]
  },
  {
   "cell_type": "code",
   "execution_count": 93,
   "metadata": {},
   "outputs": [
    {
     "data": {
      "text/plain": [
       "121248"
      ]
     },
     "execution_count": 93,
     "metadata": {},
     "output_type": "execute_result"
    }
   ],
   "source": [
    "data['Classification'].isnull().sum()"
   ]
  },
  {
   "cell_type": "code",
   "execution_count": 95,
   "metadata": {},
   "outputs": [
    {
     "data": {
      "text/plain": [
       "121248"
      ]
     },
     "execution_count": 95,
     "metadata": {},
     "output_type": "execute_result"
    }
   ],
   "source": [
    "data['SubClassification'].isnull().sum()"
   ]
  },
  {
   "cell_type": "markdown",
   "metadata": {},
   "source": [
    "We can see that there are a lot of missing values for Location, Area, Classification, and sub-Classification but we are not sure if the analysis need to focus on this part"
   ]
  },
  {
   "cell_type": "markdown",
   "metadata": {},
   "source": [
    "## Clean the data"
   ]
  },
  {
   "cell_type": "code",
   "execution_count": 97,
   "metadata": {},
   "outputs": [],
   "source": [
    "data.drop(['Id'],axis=1,inplace=True)"
   ]
  },
  {
   "cell_type": "code",
   "execution_count": 98,
   "metadata": {},
   "outputs": [
    {
     "data": {
      "text/html": [
       "<div>\n",
       "<style scoped>\n",
       "    .dataframe tbody tr th:only-of-type {\n",
       "        vertical-align: middle;\n",
       "    }\n",
       "\n",
       "    .dataframe tbody tr th {\n",
       "        vertical-align: top;\n",
       "    }\n",
       "\n",
       "    .dataframe thead th {\n",
       "        text-align: right;\n",
       "    }\n",
       "</style>\n",
       "<table border=\"1\" class=\"dataframe\">\n",
       "  <thead>\n",
       "    <tr style=\"text-align: right;\">\n",
       "      <th></th>\n",
       "      <th>Title</th>\n",
       "      <th>Company</th>\n",
       "      <th>Date</th>\n",
       "      <th>Location</th>\n",
       "      <th>Area</th>\n",
       "      <th>Classification</th>\n",
       "      <th>SubClassification</th>\n",
       "      <th>Requirement</th>\n",
       "      <th>FullDescription</th>\n",
       "      <th>LowestSalary</th>\n",
       "      <th>HighestSalary</th>\n",
       "      <th>JobType</th>\n",
       "    </tr>\n",
       "  </thead>\n",
       "  <tbody>\n",
       "    <tr>\n",
       "      <th>0</th>\n",
       "      <td>Casual Stock Replenisher</td>\n",
       "      <td>Aldi Stores</td>\n",
       "      <td>2018-10-07T00:00:00.000Z</td>\n",
       "      <td>Sydney</td>\n",
       "      <td>North West &amp; Hills District</td>\n",
       "      <td>Retail &amp; Consumer Products</td>\n",
       "      <td>Retail Assistants</td>\n",
       "      <td>Our Casual Stock Replenishers pride themselves...</td>\n",
       "      <td>NaN</td>\n",
       "      <td>0</td>\n",
       "      <td>30</td>\n",
       "      <td>NaN</td>\n",
       "    </tr>\n",
       "    <tr>\n",
       "      <th>1</th>\n",
       "      <td>Casual Stock Replenisher</td>\n",
       "      <td>Aldi Stores</td>\n",
       "      <td>2018-10-07T00:00:00.000Z</td>\n",
       "      <td>Richmond &amp; Hawkesbury</td>\n",
       "      <td>NaN</td>\n",
       "      <td>Retail &amp; Consumer Products</td>\n",
       "      <td>Retail Assistants</td>\n",
       "      <td>Our Casual Stock Replenishers pride themselves...</td>\n",
       "      <td>NaN</td>\n",
       "      <td>0</td>\n",
       "      <td>30</td>\n",
       "      <td>NaN</td>\n",
       "    </tr>\n",
       "    <tr>\n",
       "      <th>2</th>\n",
       "      <td>RETAIL SALES SUPERSTARS and STYLISTS Wanted - ...</td>\n",
       "      <td>LB Creative Pty Ltd</td>\n",
       "      <td>2018-10-07T00:00:00.000Z</td>\n",
       "      <td>Brisbane</td>\n",
       "      <td>CBD &amp; Inner Suburbs</td>\n",
       "      <td>Retail &amp; Consumer Products</td>\n",
       "      <td>Retail Assistants</td>\n",
       "      <td>BRAND NEW FLAGSHIP STORE OPENING - SUNSHINE PLAZA</td>\n",
       "      <td>NaN</td>\n",
       "      <td>0</td>\n",
       "      <td>30</td>\n",
       "      <td>NaN</td>\n",
       "    </tr>\n",
       "    <tr>\n",
       "      <th>3</th>\n",
       "      <td>Team member - Belrose</td>\n",
       "      <td>Anaconda Group Pty Ltd</td>\n",
       "      <td>2018-10-07T00:00:00.000Z</td>\n",
       "      <td>Gosford &amp; Central Coast</td>\n",
       "      <td>NaN</td>\n",
       "      <td>Retail &amp; Consumer Products</td>\n",
       "      <td>Retail Assistants</td>\n",
       "      <td>Bring it on - do you love the great outdoors a...</td>\n",
       "      <td>NaN</td>\n",
       "      <td>0</td>\n",
       "      <td>30</td>\n",
       "      <td>NaN</td>\n",
       "    </tr>\n",
       "    <tr>\n",
       "      <th>4</th>\n",
       "      <td>Business Banking Contact Centre Specialist, Ni...</td>\n",
       "      <td>Commonwealth Bank - Business &amp; Private Banking</td>\n",
       "      <td>2018-10-07T00:00:00.000Z</td>\n",
       "      <td>Sydney</td>\n",
       "      <td>Ryde &amp; Macquarie Park</td>\n",
       "      <td>Call Centre &amp; Customer Service</td>\n",
       "      <td>Sales - Inbound</td>\n",
       "      <td>We are seeking highly articulate, enthusiastic...</td>\n",
       "      <td>NaN</td>\n",
       "      <td>0</td>\n",
       "      <td>30</td>\n",
       "      <td>NaN</td>\n",
       "    </tr>\n",
       "  </tbody>\n",
       "</table>\n",
       "</div>"
      ],
      "text/plain": [
       "                                               Title  \\\n",
       "0                           Casual Stock Replenisher   \n",
       "1                           Casual Stock Replenisher   \n",
       "2  RETAIL SALES SUPERSTARS and STYLISTS Wanted - ...   \n",
       "3                              Team member - Belrose   \n",
       "4  Business Banking Contact Centre Specialist, Ni...   \n",
       "\n",
       "                                          Company                      Date  \\\n",
       "0                                     Aldi Stores  2018-10-07T00:00:00.000Z   \n",
       "1                                     Aldi Stores  2018-10-07T00:00:00.000Z   \n",
       "2                             LB Creative Pty Ltd  2018-10-07T00:00:00.000Z   \n",
       "3                          Anaconda Group Pty Ltd  2018-10-07T00:00:00.000Z   \n",
       "4  Commonwealth Bank - Business & Private Banking  2018-10-07T00:00:00.000Z   \n",
       "\n",
       "                  Location                         Area  \\\n",
       "0                   Sydney  North West & Hills District   \n",
       "1    Richmond & Hawkesbury                          NaN   \n",
       "2                 Brisbane          CBD & Inner Suburbs   \n",
       "3  Gosford & Central Coast                          NaN   \n",
       "4                   Sydney        Ryde & Macquarie Park   \n",
       "\n",
       "                   Classification  SubClassification  \\\n",
       "0      Retail & Consumer Products  Retail Assistants   \n",
       "1      Retail & Consumer Products  Retail Assistants   \n",
       "2      Retail & Consumer Products  Retail Assistants   \n",
       "3      Retail & Consumer Products  Retail Assistants   \n",
       "4  Call Centre & Customer Service    Sales - Inbound   \n",
       "\n",
       "                                         Requirement FullDescription  \\\n",
       "0  Our Casual Stock Replenishers pride themselves...             NaN   \n",
       "1  Our Casual Stock Replenishers pride themselves...             NaN   \n",
       "2  BRAND NEW FLAGSHIP STORE OPENING - SUNSHINE PLAZA             NaN   \n",
       "3  Bring it on - do you love the great outdoors a...             NaN   \n",
       "4  We are seeking highly articulate, enthusiastic...             NaN   \n",
       "\n",
       "   LowestSalary  HighestSalary JobType  \n",
       "0             0             30     NaN  \n",
       "1             0             30     NaN  \n",
       "2             0             30     NaN  \n",
       "3             0             30     NaN  \n",
       "4             0             30     NaN  "
      ]
     },
     "execution_count": 98,
     "metadata": {},
     "output_type": "execute_result"
    }
   ],
   "source": [
    "data.head()"
   ]
  },
  {
   "cell_type": "markdown",
   "metadata": {},
   "source": [
    "## Hypothesis about the analysis outcome?"
   ]
  },
  {
   "cell_type": "markdown",
   "metadata": {},
   "source": [
    "If we compare average salary per location, we think that bigger cities will have a higher salary (looking at variation of salary within that city)\n",
    "Also we think that there will be mom demans for job in the main citites\n",
    "If there a more demand for a certain type of job classication, salary would be higher"
   ]
  },
  {
   "cell_type": "markdown",
   "metadata": {},
   "source": [
    "## PART 2"
   ]
  },
  {
   "cell_type": "markdown",
   "metadata": {},
   "source": [
    "## 1) Extract the relevant information to describe the job's attributes"
   ]
  },
  {
   "cell_type": "code",
   "execution_count": null,
   "metadata": {},
   "outputs": [],
   "source": []
  },
  {
   "cell_type": "markdown",
   "metadata": {},
   "source": [
    "## 2) Study the market by locations(Vu)"
   ]
  },
  {
   "cell_type": "code",
   "execution_count": 3,
   "metadata": {},
   "outputs": [
    {
     "data": {
      "text/html": [
       "<div>\n",
       "<style scoped>\n",
       "    .dataframe tbody tr th:only-of-type {\n",
       "        vertical-align: middle;\n",
       "    }\n",
       "\n",
       "    .dataframe tbody tr th {\n",
       "        vertical-align: top;\n",
       "    }\n",
       "\n",
       "    .dataframe thead th {\n",
       "        text-align: right;\n",
       "    }\n",
       "</style>\n",
       "<table border=\"1\" class=\"dataframe\">\n",
       "  <thead>\n",
       "    <tr style=\"text-align: right;\">\n",
       "      <th></th>\n",
       "      <th>Id</th>\n",
       "      <th>Title</th>\n",
       "      <th>Company</th>\n",
       "      <th>Date</th>\n",
       "      <th>Location</th>\n",
       "      <th>Area</th>\n",
       "      <th>Classification</th>\n",
       "      <th>SubClassification</th>\n",
       "      <th>Requirement</th>\n",
       "      <th>FullDescription</th>\n",
       "      <th>LowestSalary</th>\n",
       "      <th>HighestSalary</th>\n",
       "      <th>JobType</th>\n",
       "    </tr>\n",
       "  </thead>\n",
       "  <tbody>\n",
       "    <tr>\n",
       "      <td>0</td>\n",
       "      <td>37404348</td>\n",
       "      <td>Casual Stock Replenisher</td>\n",
       "      <td>Aldi Stores</td>\n",
       "      <td>2018-10-07T00:00:00.000Z</td>\n",
       "      <td>Sydney</td>\n",
       "      <td>North West &amp; Hills District</td>\n",
       "      <td>Retail &amp; Consumer Products</td>\n",
       "      <td>Retail Assistants</td>\n",
       "      <td>Our Casual Stock Replenishers pride themselves...</td>\n",
       "      <td>NaN</td>\n",
       "      <td>0</td>\n",
       "      <td>30</td>\n",
       "      <td>NaN</td>\n",
       "    </tr>\n",
       "    <tr>\n",
       "      <td>1</td>\n",
       "      <td>37404337</td>\n",
       "      <td>Casual Stock Replenisher</td>\n",
       "      <td>Aldi Stores</td>\n",
       "      <td>2018-10-07T00:00:00.000Z</td>\n",
       "      <td>Richmond &amp; Hawkesbury</td>\n",
       "      <td>NaN</td>\n",
       "      <td>Retail &amp; Consumer Products</td>\n",
       "      <td>Retail Assistants</td>\n",
       "      <td>Our Casual Stock Replenishers pride themselves...</td>\n",
       "      <td>NaN</td>\n",
       "      <td>0</td>\n",
       "      <td>30</td>\n",
       "      <td>NaN</td>\n",
       "    </tr>\n",
       "    <tr>\n",
       "      <td>2</td>\n",
       "      <td>37404356</td>\n",
       "      <td>RETAIL SALES SUPERSTARS and STYLISTS Wanted - ...</td>\n",
       "      <td>LB Creative Pty Ltd</td>\n",
       "      <td>2018-10-07T00:00:00.000Z</td>\n",
       "      <td>Brisbane</td>\n",
       "      <td>CBD &amp; Inner Suburbs</td>\n",
       "      <td>Retail &amp; Consumer Products</td>\n",
       "      <td>Retail Assistants</td>\n",
       "      <td>BRAND NEW FLAGSHIP STORE OPENING - SUNSHINE PLAZA</td>\n",
       "      <td>NaN</td>\n",
       "      <td>0</td>\n",
       "      <td>30</td>\n",
       "      <td>NaN</td>\n",
       "    </tr>\n",
       "    <tr>\n",
       "      <td>3</td>\n",
       "      <td>37404330</td>\n",
       "      <td>Team member - Belrose</td>\n",
       "      <td>Anaconda Group Pty Ltd</td>\n",
       "      <td>2018-10-07T00:00:00.000Z</td>\n",
       "      <td>Gosford &amp; Central Coast</td>\n",
       "      <td>NaN</td>\n",
       "      <td>Retail &amp; Consumer Products</td>\n",
       "      <td>Retail Assistants</td>\n",
       "      <td>Bring it on - do you love the great outdoors a...</td>\n",
       "      <td>NaN</td>\n",
       "      <td>0</td>\n",
       "      <td>30</td>\n",
       "      <td>NaN</td>\n",
       "    </tr>\n",
       "    <tr>\n",
       "      <td>4</td>\n",
       "      <td>37404308</td>\n",
       "      <td>Business Banking Contact Centre Specialist, Ni...</td>\n",
       "      <td>Commonwealth Bank - Business &amp; Private Banking</td>\n",
       "      <td>2018-10-07T00:00:00.000Z</td>\n",
       "      <td>Sydney</td>\n",
       "      <td>Ryde &amp; Macquarie Park</td>\n",
       "      <td>Call Centre &amp; Customer Service</td>\n",
       "      <td>Sales - Inbound</td>\n",
       "      <td>We are seeking highly articulate, enthusiastic...</td>\n",
       "      <td>NaN</td>\n",
       "      <td>0</td>\n",
       "      <td>30</td>\n",
       "      <td>NaN</td>\n",
       "    </tr>\n",
       "  </tbody>\n",
       "</table>\n",
       "</div>"
      ],
      "text/plain": [
       "         Id                                              Title  \\\n",
       "0  37404348                           Casual Stock Replenisher   \n",
       "1  37404337                           Casual Stock Replenisher   \n",
       "2  37404356  RETAIL SALES SUPERSTARS and STYLISTS Wanted - ...   \n",
       "3  37404330                              Team member - Belrose   \n",
       "4  37404308  Business Banking Contact Centre Specialist, Ni...   \n",
       "\n",
       "                                          Company                      Date  \\\n",
       "0                                     Aldi Stores  2018-10-07T00:00:00.000Z   \n",
       "1                                     Aldi Stores  2018-10-07T00:00:00.000Z   \n",
       "2                             LB Creative Pty Ltd  2018-10-07T00:00:00.000Z   \n",
       "3                          Anaconda Group Pty Ltd  2018-10-07T00:00:00.000Z   \n",
       "4  Commonwealth Bank - Business & Private Banking  2018-10-07T00:00:00.000Z   \n",
       "\n",
       "                  Location                         Area  \\\n",
       "0                   Sydney  North West & Hills District   \n",
       "1    Richmond & Hawkesbury                          NaN   \n",
       "2                 Brisbane          CBD & Inner Suburbs   \n",
       "3  Gosford & Central Coast                          NaN   \n",
       "4                   Sydney        Ryde & Macquarie Park   \n",
       "\n",
       "                   Classification  SubClassification  \\\n",
       "0      Retail & Consumer Products  Retail Assistants   \n",
       "1      Retail & Consumer Products  Retail Assistants   \n",
       "2      Retail & Consumer Products  Retail Assistants   \n",
       "3      Retail & Consumer Products  Retail Assistants   \n",
       "4  Call Centre & Customer Service    Sales - Inbound   \n",
       "\n",
       "                                         Requirement FullDescription  \\\n",
       "0  Our Casual Stock Replenishers pride themselves...             NaN   \n",
       "1  Our Casual Stock Replenishers pride themselves...             NaN   \n",
       "2  BRAND NEW FLAGSHIP STORE OPENING - SUNSHINE PLAZA             NaN   \n",
       "3  Bring it on - do you love the great outdoors a...             NaN   \n",
       "4  We are seeking highly articulate, enthusiastic...             NaN   \n",
       "\n",
       "   LowestSalary  HighestSalary JobType  \n",
       "0             0             30     NaN  \n",
       "1             0             30     NaN  \n",
       "2             0             30     NaN  \n",
       "3             0             30     NaN  \n",
       "4             0             30     NaN  "
      ]
     },
     "execution_count": 3,
     "metadata": {},
     "output_type": "execute_result"
    }
   ],
   "source": [
    "data.head()"
   ]
  },
  {
   "cell_type": "markdown",
   "metadata": {},
   "source": [
    "Number of different job sectors in each city"
   ]
  },
  {
   "cell_type": "code",
   "execution_count": 102,
   "metadata": {},
   "outputs": [
    {
     "data": {
      "text/plain": [
       "Location\n",
       "ACT                                    277\n",
       "Adelaide                               298\n",
       "Adelaide Hills & Barossa                67\n",
       "Albany & Great Southern                 63\n",
       "Albury Area                            126\n",
       "                                      ... \n",
       "Western QLD                            117\n",
       "Whyalla & Eyre Peninsula                73\n",
       "Wollongong, Illawarra & South Coast    216\n",
       "Yarra Valley & High Country            118\n",
       "Yorke Peninsula & Clare Valley          46\n",
       "Name: SubClassification, Length: 65, dtype: int64"
      ]
     },
     "execution_count": 102,
     "metadata": {},
     "output_type": "execute_result"
    }
   ],
   "source": [
    "jobNum = data.groupby('Location')['SubClassification'].nunique()\n",
    "jobNum"
   ]
  },
  {
   "cell_type": "markdown",
   "metadata": {},
   "source": [
    "Number of jobs (market size) in each city"
   ]
  },
  {
   "cell_type": "code",
   "execution_count": 95,
   "metadata": {},
   "outputs": [
    {
     "data": {
      "text/plain": [
       "Location\n",
       "ACT                                    6250\n",
       "Adelaide                               6653\n",
       "Adelaide Hills & Barossa                193\n",
       "Albany & Great Southern                 150\n",
       "Albury Area                             416\n",
       "                                       ... \n",
       "Western QLD                             514\n",
       "Whyalla & Eyre Peninsula                201\n",
       "Wollongong, Illawarra & South Coast    1657\n",
       "Yarra Valley & High Country             499\n",
       "Yorke Peninsula & Clare Valley           96\n",
       "Length: 65, dtype: int64"
      ]
     },
     "execution_count": 95,
     "metadata": {},
     "output_type": "execute_result"
    }
   ],
   "source": [
    "marketSize = data.groupby('Location').size()\n",
    "marketSize"
   ]
  },
  {
   "cell_type": "markdown",
   "metadata": {},
   "source": [
    "Hottest job sectors in each city"
   ]
  },
  {
   "cell_type": "code",
   "execution_count": 281,
   "metadata": {},
   "outputs": [
    {
     "data": {
      "text/plain": [
       "Location\n",
       "ACT                                    Workplace Training & Assessment\n",
       "Adelaide                               Workplace Training & Assessment\n",
       "Adelaide Hills & Barossa                          Winery & Viticulture\n",
       "Albany & Great Southern                         Welders & Boilermakers\n",
       "Albury Area                            Workplace Training & Assessment\n",
       "                                                    ...               \n",
       "Western QLD                            Workplace Training & Assessment\n",
       "Whyalla & Eyre Peninsula                        Welders & Boilermakers\n",
       "Wollongong, Illawarra & South Coast    Workplace Training & Assessment\n",
       "Yarra Valley & High Country                       Winery & Viticulture\n",
       "Yorke Peninsula & Clare Valley                  Welders & Boilermakers\n",
       "Name: SubClassification, Length: 65, dtype: object"
      ]
     },
     "execution_count": 281,
     "metadata": {},
     "output_type": "execute_result"
    }
   ],
   "source": [
    "hottestJob = data.groupby('Location')['SubClassification'].max()\n",
    "hottestJob"
   ]
  },
  {
   "cell_type": "code",
   "execution_count": 106,
   "metadata": {},
   "outputs": [
    {
     "data": {
      "text/html": [
       "<div>\n",
       "<style scoped>\n",
       "    .dataframe tbody tr th:only-of-type {\n",
       "        vertical-align: middle;\n",
       "    }\n",
       "\n",
       "    .dataframe tbody tr th {\n",
       "        vertical-align: top;\n",
       "    }\n",
       "\n",
       "    .dataframe thead th {\n",
       "        text-align: right;\n",
       "    }\n",
       "</style>\n",
       "<table border=\"1\" class=\"dataframe\">\n",
       "  <thead>\n",
       "    <tr style=\"text-align: right;\">\n",
       "      <th></th>\n",
       "      <th>Id</th>\n",
       "      <th>Title</th>\n",
       "      <th>Company</th>\n",
       "      <th>Date</th>\n",
       "      <th>Location</th>\n",
       "      <th>Area</th>\n",
       "      <th>Classification</th>\n",
       "      <th>SubClassification</th>\n",
       "      <th>Requirement</th>\n",
       "      <th>FullDescription</th>\n",
       "      <th>LowestSalary</th>\n",
       "      <th>HighestSalary</th>\n",
       "      <th>JobType</th>\n",
       "    </tr>\n",
       "  </thead>\n",
       "  <tbody>\n",
       "    <tr>\n",
       "      <td>0</td>\n",
       "      <td>37404348</td>\n",
       "      <td>Casual Stock Replenisher</td>\n",
       "      <td>Aldi Stores</td>\n",
       "      <td>2018-10-07T00:00:00.000Z</td>\n",
       "      <td>Sydney</td>\n",
       "      <td>North West &amp; Hills District</td>\n",
       "      <td>Retail &amp; Consumer Products</td>\n",
       "      <td>Retail Assistants</td>\n",
       "      <td>Our Casual Stock Replenishers pride themselves...</td>\n",
       "      <td>NaN</td>\n",
       "      <td>0</td>\n",
       "      <td>30</td>\n",
       "      <td>NaN</td>\n",
       "    </tr>\n",
       "    <tr>\n",
       "      <td>1</td>\n",
       "      <td>37404337</td>\n",
       "      <td>Casual Stock Replenisher</td>\n",
       "      <td>Aldi Stores</td>\n",
       "      <td>2018-10-07T00:00:00.000Z</td>\n",
       "      <td>Richmond &amp; Hawkesbury</td>\n",
       "      <td>NaN</td>\n",
       "      <td>Retail &amp; Consumer Products</td>\n",
       "      <td>Retail Assistants</td>\n",
       "      <td>Our Casual Stock Replenishers pride themselves...</td>\n",
       "      <td>NaN</td>\n",
       "      <td>0</td>\n",
       "      <td>30</td>\n",
       "      <td>NaN</td>\n",
       "    </tr>\n",
       "    <tr>\n",
       "      <td>2</td>\n",
       "      <td>37404356</td>\n",
       "      <td>RETAIL SALES SUPERSTARS and STYLISTS Wanted - ...</td>\n",
       "      <td>LB Creative Pty Ltd</td>\n",
       "      <td>2018-10-07T00:00:00.000Z</td>\n",
       "      <td>Brisbane</td>\n",
       "      <td>CBD &amp; Inner Suburbs</td>\n",
       "      <td>Retail &amp; Consumer Products</td>\n",
       "      <td>Retail Assistants</td>\n",
       "      <td>BRAND NEW FLAGSHIP STORE OPENING - SUNSHINE PLAZA</td>\n",
       "      <td>NaN</td>\n",
       "      <td>0</td>\n",
       "      <td>30</td>\n",
       "      <td>NaN</td>\n",
       "    </tr>\n",
       "    <tr>\n",
       "      <td>3</td>\n",
       "      <td>37404330</td>\n",
       "      <td>Team member - Belrose</td>\n",
       "      <td>Anaconda Group Pty Ltd</td>\n",
       "      <td>2018-10-07T00:00:00.000Z</td>\n",
       "      <td>Gosford &amp; Central Coast</td>\n",
       "      <td>NaN</td>\n",
       "      <td>Retail &amp; Consumer Products</td>\n",
       "      <td>Retail Assistants</td>\n",
       "      <td>Bring it on - do you love the great outdoors a...</td>\n",
       "      <td>NaN</td>\n",
       "      <td>0</td>\n",
       "      <td>30</td>\n",
       "      <td>NaN</td>\n",
       "    </tr>\n",
       "    <tr>\n",
       "      <td>4</td>\n",
       "      <td>37404308</td>\n",
       "      <td>Business Banking Contact Centre Specialist, Ni...</td>\n",
       "      <td>Commonwealth Bank - Business &amp; Private Banking</td>\n",
       "      <td>2018-10-07T00:00:00.000Z</td>\n",
       "      <td>Sydney</td>\n",
       "      <td>Ryde &amp; Macquarie Park</td>\n",
       "      <td>Call Centre &amp; Customer Service</td>\n",
       "      <td>Sales - Inbound</td>\n",
       "      <td>We are seeking highly articulate, enthusiastic...</td>\n",
       "      <td>NaN</td>\n",
       "      <td>0</td>\n",
       "      <td>30</td>\n",
       "      <td>NaN</td>\n",
       "    </tr>\n",
       "  </tbody>\n",
       "</table>\n",
       "</div>"
      ],
      "text/plain": [
       "         Id                                              Title  \\\n",
       "0  37404348                           Casual Stock Replenisher   \n",
       "1  37404337                           Casual Stock Replenisher   \n",
       "2  37404356  RETAIL SALES SUPERSTARS and STYLISTS Wanted - ...   \n",
       "3  37404330                              Team member - Belrose   \n",
       "4  37404308  Business Banking Contact Centre Specialist, Ni...   \n",
       "\n",
       "                                          Company                      Date  \\\n",
       "0                                     Aldi Stores  2018-10-07T00:00:00.000Z   \n",
       "1                                     Aldi Stores  2018-10-07T00:00:00.000Z   \n",
       "2                             LB Creative Pty Ltd  2018-10-07T00:00:00.000Z   \n",
       "3                          Anaconda Group Pty Ltd  2018-10-07T00:00:00.000Z   \n",
       "4  Commonwealth Bank - Business & Private Banking  2018-10-07T00:00:00.000Z   \n",
       "\n",
       "                  Location                         Area  \\\n",
       "0                   Sydney  North West & Hills District   \n",
       "1    Richmond & Hawkesbury                          NaN   \n",
       "2                 Brisbane          CBD & Inner Suburbs   \n",
       "3  Gosford & Central Coast                          NaN   \n",
       "4                   Sydney        Ryde & Macquarie Park   \n",
       "\n",
       "                   Classification  SubClassification  \\\n",
       "0      Retail & Consumer Products  Retail Assistants   \n",
       "1      Retail & Consumer Products  Retail Assistants   \n",
       "2      Retail & Consumer Products  Retail Assistants   \n",
       "3      Retail & Consumer Products  Retail Assistants   \n",
       "4  Call Centre & Customer Service    Sales - Inbound   \n",
       "\n",
       "                                         Requirement FullDescription  \\\n",
       "0  Our Casual Stock Replenishers pride themselves...             NaN   \n",
       "1  Our Casual Stock Replenishers pride themselves...             NaN   \n",
       "2  BRAND NEW FLAGSHIP STORE OPENING - SUNSHINE PLAZA             NaN   \n",
       "3  Bring it on - do you love the great outdoors a...             NaN   \n",
       "4  We are seeking highly articulate, enthusiastic...             NaN   \n",
       "\n",
       "   LowestSalary  HighestSalary JobType  \n",
       "0             0             30     NaN  \n",
       "1             0             30     NaN  \n",
       "2             0             30     NaN  \n",
       "3             0             30     NaN  \n",
       "4             0             30     NaN  "
      ]
     },
     "execution_count": 106,
     "metadata": {},
     "output_type": "execute_result"
    }
   ],
   "source": [
    "data.head()"
   ]
  },
  {
   "cell_type": "markdown",
   "metadata": {},
   "source": [
    "# The common salary range in each city"
   ]
  },
  {
   "cell_type": "code",
   "execution_count": 160,
   "metadata": {},
   "outputs": [
    {
     "data": {
      "text/html": [
       "<div>\n",
       "<style scoped>\n",
       "    .dataframe tbody tr th:only-of-type {\n",
       "        vertical-align: middle;\n",
       "    }\n",
       "\n",
       "    .dataframe tbody tr th {\n",
       "        vertical-align: top;\n",
       "    }\n",
       "\n",
       "    .dataframe thead th {\n",
       "        text-align: right;\n",
       "    }\n",
       "</style>\n",
       "<table border=\"1\" class=\"dataframe\">\n",
       "  <thead>\n",
       "    <tr style=\"text-align: right;\">\n",
       "      <th></th>\n",
       "      <th>LowestSalary</th>\n",
       "      <th>HighestSalary</th>\n",
       "    </tr>\n",
       "    <tr>\n",
       "      <th>Location</th>\n",
       "      <th></th>\n",
       "      <th></th>\n",
       "    </tr>\n",
       "  </thead>\n",
       "  <tbody>\n",
       "    <tr>\n",
       "      <td>ACT</td>\n",
       "      <td>86.174400</td>\n",
       "      <td>198.718240</td>\n",
       "    </tr>\n",
       "    <tr>\n",
       "      <td>Adelaide</td>\n",
       "      <td>57.991883</td>\n",
       "      <td>97.021494</td>\n",
       "    </tr>\n",
       "    <tr>\n",
       "      <td>Adelaide Hills &amp; Barossa</td>\n",
       "      <td>41.191710</td>\n",
       "      <td>68.948187</td>\n",
       "    </tr>\n",
       "    <tr>\n",
       "      <td>Albany &amp; Great Southern</td>\n",
       "      <td>56.600000</td>\n",
       "      <td>101.233333</td>\n",
       "    </tr>\n",
       "    <tr>\n",
       "      <td>Albury Area</td>\n",
       "      <td>51.201923</td>\n",
       "      <td>75.543269</td>\n",
       "    </tr>\n",
       "    <tr>\n",
       "      <td>...</td>\n",
       "      <td>...</td>\n",
       "      <td>...</td>\n",
       "    </tr>\n",
       "    <tr>\n",
       "      <td>Western QLD</td>\n",
       "      <td>69.357977</td>\n",
       "      <td>134.128405</td>\n",
       "    </tr>\n",
       "    <tr>\n",
       "      <td>Whyalla &amp; Eyre Peninsula</td>\n",
       "      <td>53.980100</td>\n",
       "      <td>86.000000</td>\n",
       "    </tr>\n",
       "    <tr>\n",
       "      <td>Wollongong, Illawarra &amp; South Coast</td>\n",
       "      <td>55.829813</td>\n",
       "      <td>90.895594</td>\n",
       "    </tr>\n",
       "    <tr>\n",
       "      <td>Yarra Valley &amp; High Country</td>\n",
       "      <td>44.168337</td>\n",
       "      <td>68.945892</td>\n",
       "    </tr>\n",
       "    <tr>\n",
       "      <td>Yorke Peninsula &amp; Clare Valley</td>\n",
       "      <td>44.895833</td>\n",
       "      <td>77.791667</td>\n",
       "    </tr>\n",
       "  </tbody>\n",
       "</table>\n",
       "<p>65 rows × 2 columns</p>\n",
       "</div>"
      ],
      "text/plain": [
       "                                     LowestSalary  HighestSalary\n",
       "Location                                                        \n",
       "ACT                                     86.174400     198.718240\n",
       "Adelaide                                57.991883      97.021494\n",
       "Adelaide Hills & Barossa                41.191710      68.948187\n",
       "Albany & Great Southern                 56.600000     101.233333\n",
       "Albury Area                             51.201923      75.543269\n",
       "...                                           ...            ...\n",
       "Western QLD                             69.357977     134.128405\n",
       "Whyalla & Eyre Peninsula                53.980100      86.000000\n",
       "Wollongong, Illawarra & South Coast     55.829813      90.895594\n",
       "Yarra Valley & High Country             44.168337      68.945892\n",
       "Yorke Peninsula & Clare Valley          44.895833      77.791667\n",
       "\n",
       "[65 rows x 2 columns]"
      ]
     },
     "execution_count": 160,
     "metadata": {},
     "output_type": "execute_result"
    }
   ],
   "source": [
    "salaryRangeLoc = data.groupby('Location')['LowestSalary', 'HighestSalary'].mean()\n",
    "salaryRangeLoc"
   ]
  },
  {
   "cell_type": "markdown",
   "metadata": {},
   "source": [
    "# Top 5 cities that employees more well-paid (highest average salary)"
   ]
  },
  {
   "cell_type": "code",
   "execution_count": 134,
   "metadata": {},
   "outputs": [
    {
     "data": {
      "text/plain": [
       "Location\n",
       "ACT                                 142.446320\n",
       "Port Macquarie & Mid North Coast    110.708955\n",
       "Sydney                              103.316523\n",
       "Western QLD                         101.743191\n",
       "Geraldton, Gascoyne & Midwest       101.123167\n",
       "Name: avgSalary, dtype: float64"
      ]
     },
     "execution_count": 134,
     "metadata": {},
     "output_type": "execute_result"
    }
   ],
   "source": [
    "salaryRange['avgSalary'] = (salaryRange['LowestSalary'] + salaryRange['HighestSalary'])/2\n",
    "top5 = salaryRange['avgSalary'].nlargest(5)\n",
    "top5"
   ]
  },
  {
   "cell_type": "code",
   "execution_count": 292,
   "metadata": {},
   "outputs": [
    {
     "data": {
      "text/plain": [
       "Date\n",
       "2018-10-01T00:00:00.000Z     1023\n",
       "2018-10-02T00:00:00.000Z     1980\n",
       "2018-10-03T00:00:00.000Z     4945\n",
       "2018-10-04T00:00:00.000Z     8506\n",
       "2018-10-05T00:00:00.000Z     5711\n",
       "2018-10-06T00:00:00.000Z      471\n",
       "2018-10-07T00:00:00.000Z     1037\n",
       "2018-10-08T00:00:00.000Z     4995\n",
       "2018-10-09T00:00:00.000Z     6329\n",
       "2018-10-10T00:00:00.000Z     8337\n",
       "2018-10-11T00:00:00.000Z     1221\n",
       "2018-10-12T00:00:00.000Z     1324\n",
       "2018-10-13T00:00:00.000Z      196\n",
       "2018-10-14T00:00:00.000Z      239\n",
       "2018-10-15T00:00:00.000Z     5210\n",
       "2018-10-16T00:00:00.000Z     6267\n",
       "2018-10-17T00:00:00.000Z    13059\n",
       "2018-10-18T00:00:00.000Z     8121\n",
       "2018-10-19T00:00:00.000Z     5989\n",
       "2018-10-20T00:00:00.000Z      422\n",
       "2018-10-21T00:00:00.000Z     1145\n",
       "2018-10-22T00:00:00.000Z      688\n",
       "2018-10-23T00:00:00.000Z      827\n",
       "2018-10-24T00:00:00.000Z      835\n",
       "2018-10-25T00:00:00.000Z     1205\n",
       "2018-10-26T00:00:00.000Z     1701\n",
       "2018-10-27T00:00:00.000Z      232\n",
       "2018-10-28T00:00:00.000Z      291\n",
       "2018-10-29T00:00:00.000Z     4656\n",
       "2018-10-30T00:00:00.000Z     8179\n",
       "2018-10-31T00:00:00.000Z     8641\n",
       "2018-11-01T00:00:00.000Z     1316\n",
       "2018-11-02T00:00:00.000Z     2874\n",
       "2018-11-03T00:00:00.000Z      499\n",
       "2018-11-04T00:00:00.000Z      636\n",
       "2018-11-05T00:00:00.000Z     7778\n",
       "2018-11-06T00:00:00.000Z     3654\n",
       "2018-11-07T00:00:00.000Z     6947\n",
       "2018-11-08T00:00:00.000Z     1199\n",
       "2018-11-09T00:00:00.000Z     3377\n",
       "2018-11-10T00:00:00.000Z      743\n",
       "2018-11-11T00:00:00.000Z      343\n",
       "2018-11-12T00:00:00.000Z     5936\n",
       "2018-11-13T00:00:00.000Z     4044\n",
       "2018-11-14T00:00:00.000Z        2\n",
       "2018-11-15T00:00:00.000Z        9\n",
       "2018-11-16T00:00:00.000Z       28\n",
       "2018-11-17T00:00:00.000Z        4\n",
       "2018-11-18T00:00:00.000Z        5\n",
       "2018-11-19T00:00:00.000Z       71\n",
       "dtype: int64"
      ]
     },
     "execution_count": 292,
     "metadata": {},
     "output_type": "execute_result"
    }
   ],
   "source": [
    "patternPosting = data.groupby('Date').size()\n",
    "patternPosting.head(50)"
   ]
  },
  {
   "cell_type": "markdown",
   "metadata": {},
   "source": [
    "Pattern of posting: The postings are not consistent at a particular time each month and are often posted at the middle of a month"
   ]
  },
  {
   "cell_type": "markdown",
   "metadata": {},
   "source": [
    "## 3) Study the market by sectors (Vu)"
   ]
  },
  {
   "cell_type": "code",
   "execution_count": 141,
   "metadata": {},
   "outputs": [
    {
     "data": {
      "text/html": [
       "<div>\n",
       "<style scoped>\n",
       "    .dataframe tbody tr th:only-of-type {\n",
       "        vertical-align: middle;\n",
       "    }\n",
       "\n",
       "    .dataframe tbody tr th {\n",
       "        vertical-align: top;\n",
       "    }\n",
       "\n",
       "    .dataframe thead th {\n",
       "        text-align: right;\n",
       "    }\n",
       "</style>\n",
       "<table border=\"1\" class=\"dataframe\">\n",
       "  <thead>\n",
       "    <tr style=\"text-align: right;\">\n",
       "      <th></th>\n",
       "      <th>Id</th>\n",
       "      <th>Title</th>\n",
       "      <th>Company</th>\n",
       "      <th>Date</th>\n",
       "      <th>Location</th>\n",
       "      <th>Area</th>\n",
       "      <th>Classification</th>\n",
       "      <th>SubClassification</th>\n",
       "      <th>Requirement</th>\n",
       "      <th>FullDescription</th>\n",
       "      <th>LowestSalary</th>\n",
       "      <th>HighestSalary</th>\n",
       "      <th>JobType</th>\n",
       "    </tr>\n",
       "  </thead>\n",
       "  <tbody>\n",
       "    <tr>\n",
       "      <td>0</td>\n",
       "      <td>37404348</td>\n",
       "      <td>Casual Stock Replenisher</td>\n",
       "      <td>Aldi Stores</td>\n",
       "      <td>2018-10-07T00:00:00.000Z</td>\n",
       "      <td>Sydney</td>\n",
       "      <td>North West &amp; Hills District</td>\n",
       "      <td>Retail &amp; Consumer Products</td>\n",
       "      <td>Retail Assistants</td>\n",
       "      <td>Our Casual Stock Replenishers pride themselves...</td>\n",
       "      <td>NaN</td>\n",
       "      <td>0</td>\n",
       "      <td>30</td>\n",
       "      <td>NaN</td>\n",
       "    </tr>\n",
       "    <tr>\n",
       "      <td>1</td>\n",
       "      <td>37404337</td>\n",
       "      <td>Casual Stock Replenisher</td>\n",
       "      <td>Aldi Stores</td>\n",
       "      <td>2018-10-07T00:00:00.000Z</td>\n",
       "      <td>Richmond &amp; Hawkesbury</td>\n",
       "      <td>NaN</td>\n",
       "      <td>Retail &amp; Consumer Products</td>\n",
       "      <td>Retail Assistants</td>\n",
       "      <td>Our Casual Stock Replenishers pride themselves...</td>\n",
       "      <td>NaN</td>\n",
       "      <td>0</td>\n",
       "      <td>30</td>\n",
       "      <td>NaN</td>\n",
       "    </tr>\n",
       "    <tr>\n",
       "      <td>2</td>\n",
       "      <td>37404356</td>\n",
       "      <td>RETAIL SALES SUPERSTARS and STYLISTS Wanted - ...</td>\n",
       "      <td>LB Creative Pty Ltd</td>\n",
       "      <td>2018-10-07T00:00:00.000Z</td>\n",
       "      <td>Brisbane</td>\n",
       "      <td>CBD &amp; Inner Suburbs</td>\n",
       "      <td>Retail &amp; Consumer Products</td>\n",
       "      <td>Retail Assistants</td>\n",
       "      <td>BRAND NEW FLAGSHIP STORE OPENING - SUNSHINE PLAZA</td>\n",
       "      <td>NaN</td>\n",
       "      <td>0</td>\n",
       "      <td>30</td>\n",
       "      <td>NaN</td>\n",
       "    </tr>\n",
       "    <tr>\n",
       "      <td>3</td>\n",
       "      <td>37404330</td>\n",
       "      <td>Team member - Belrose</td>\n",
       "      <td>Anaconda Group Pty Ltd</td>\n",
       "      <td>2018-10-07T00:00:00.000Z</td>\n",
       "      <td>Gosford &amp; Central Coast</td>\n",
       "      <td>NaN</td>\n",
       "      <td>Retail &amp; Consumer Products</td>\n",
       "      <td>Retail Assistants</td>\n",
       "      <td>Bring it on - do you love the great outdoors a...</td>\n",
       "      <td>NaN</td>\n",
       "      <td>0</td>\n",
       "      <td>30</td>\n",
       "      <td>NaN</td>\n",
       "    </tr>\n",
       "    <tr>\n",
       "      <td>4</td>\n",
       "      <td>37404308</td>\n",
       "      <td>Business Banking Contact Centre Specialist, Ni...</td>\n",
       "      <td>Commonwealth Bank - Business &amp; Private Banking</td>\n",
       "      <td>2018-10-07T00:00:00.000Z</td>\n",
       "      <td>Sydney</td>\n",
       "      <td>Ryde &amp; Macquarie Park</td>\n",
       "      <td>Call Centre &amp; Customer Service</td>\n",
       "      <td>Sales - Inbound</td>\n",
       "      <td>We are seeking highly articulate, enthusiastic...</td>\n",
       "      <td>NaN</td>\n",
       "      <td>0</td>\n",
       "      <td>30</td>\n",
       "      <td>NaN</td>\n",
       "    </tr>\n",
       "  </tbody>\n",
       "</table>\n",
       "</div>"
      ],
      "text/plain": [
       "         Id                                              Title  \\\n",
       "0  37404348                           Casual Stock Replenisher   \n",
       "1  37404337                           Casual Stock Replenisher   \n",
       "2  37404356  RETAIL SALES SUPERSTARS and STYLISTS Wanted - ...   \n",
       "3  37404330                              Team member - Belrose   \n",
       "4  37404308  Business Banking Contact Centre Specialist, Ni...   \n",
       "\n",
       "                                          Company                      Date  \\\n",
       "0                                     Aldi Stores  2018-10-07T00:00:00.000Z   \n",
       "1                                     Aldi Stores  2018-10-07T00:00:00.000Z   \n",
       "2                             LB Creative Pty Ltd  2018-10-07T00:00:00.000Z   \n",
       "3                          Anaconda Group Pty Ltd  2018-10-07T00:00:00.000Z   \n",
       "4  Commonwealth Bank - Business & Private Banking  2018-10-07T00:00:00.000Z   \n",
       "\n",
       "                  Location                         Area  \\\n",
       "0                   Sydney  North West & Hills District   \n",
       "1    Richmond & Hawkesbury                          NaN   \n",
       "2                 Brisbane          CBD & Inner Suburbs   \n",
       "3  Gosford & Central Coast                          NaN   \n",
       "4                   Sydney        Ryde & Macquarie Park   \n",
       "\n",
       "                   Classification  SubClassification  \\\n",
       "0      Retail & Consumer Products  Retail Assistants   \n",
       "1      Retail & Consumer Products  Retail Assistants   \n",
       "2      Retail & Consumer Products  Retail Assistants   \n",
       "3      Retail & Consumer Products  Retail Assistants   \n",
       "4  Call Centre & Customer Service    Sales - Inbound   \n",
       "\n",
       "                                         Requirement FullDescription  \\\n",
       "0  Our Casual Stock Replenishers pride themselves...             NaN   \n",
       "1  Our Casual Stock Replenishers pride themselves...             NaN   \n",
       "2  BRAND NEW FLAGSHIP STORE OPENING - SUNSHINE PLAZA             NaN   \n",
       "3  Bring it on - do you love the great outdoors a...             NaN   \n",
       "4  We are seeking highly articulate, enthusiastic...             NaN   \n",
       "\n",
       "   LowestSalary  HighestSalary JobType  \n",
       "0             0             30     NaN  \n",
       "1             0             30     NaN  \n",
       "2             0             30     NaN  \n",
       "3             0             30     NaN  \n",
       "4             0             30     NaN  "
      ]
     },
     "execution_count": 141,
     "metadata": {},
     "output_type": "execute_result"
    }
   ],
   "source": [
    "data.head()"
   ]
  },
  {
   "cell_type": "code",
   "execution_count": 154,
   "metadata": {},
   "outputs": [
    {
     "data": {
      "text/plain": [
       "Classification\n",
       "Accounting                                 9368\n",
       "Administration & Office Support           10020\n",
       "Advertising, Arts & Media                   833\n",
       "Banking & Financial Services               4633\n",
       "CEO & General Management                    844\n",
       "Call Centre & Customer Service             3971\n",
       "Community Services & Development           4485\n",
       "Construction                               8372\n",
       "Consulting & Strategy                      1206\n",
       "Design & Architecture                      1811\n",
       "Education & Training                       9280\n",
       "Engineering                                6458\n",
       "Farming, Animals & Conservation             882\n",
       "Government & Defence                       7443\n",
       "Healthcare & Medical                      17085\n",
       "Hospitality & Tourism                     15523\n",
       "Human Resources & Recruitment              4144\n",
       "Information & Communication Technology    22796\n",
       "Insurance & Superannuation                 1474\n",
       "Legal                                      4237\n",
       "Manufacturing, Transport & Logistics      12376\n",
       "Marketing & Communications                 3968\n",
       "Mining, Resources & Energy                 6288\n",
       "Real Estate & Property                     3614\n",
       "Retail & Consumer Products                 8041\n",
       "Sales                                      8119\n",
       "Science & Technology                        905\n",
       "Self Employment                              93\n",
       "Sport & Recreation                          984\n",
       "Trades & Services                         17976\n",
       "dtype: int64"
      ]
     },
     "execution_count": 154,
     "metadata": {},
     "output_type": "execute_result"
    }
   ],
   "source": [
    "highestMarketShare = data.groupby('Classification').size()\n",
    "highestMarketShare"
   ]
  },
  {
   "cell_type": "markdown",
   "metadata": {},
   "source": [
    "Sector with the highest market share: Information & Communication Technology (22796)"
   ]
  },
  {
   "cell_type": "markdown",
   "metadata": {},
   "source": [
    "# Sub-Sectors which are the main spot-light in each sectors"
   ]
  },
  {
   "cell_type": "code",
   "execution_count": 159,
   "metadata": {},
   "outputs": [
    {
     "data": {
      "text/plain": [
       "Classification\n",
       "Accounting                                                             Treasury\n",
       "Administration & Office Support           Records Management & Document Control\n",
       "Advertising, Arts & Media                                            Promotions\n",
       "Banking & Financial Services                                           Treasury\n",
       "CEO & General Management                                                  Other\n",
       "Call Centre & Customer Service                         Supervisors/Team Leaders\n",
       "Community Services & Development               Volunteer Coordination & Support\n",
       "Construction                                                          Surveying\n",
       "Consulting & Strategy                                       Strategy & Planning\n",
       "Design & Architecture                                  Web & Interaction Design\n",
       "Education & Training                            Workplace Training & Assessment\n",
       "Engineering                                           Water & Waste Engineering\n",
       "Farming, Animals & Conservation                            Winery & Viticulture\n",
       "Government & Defence                              Policy, Planning & Regulation\n",
       "Healthcare & Medical                                             Speech Therapy\n",
       "Hospitality & Tourism                                             Waiting Staff\n",
       "Human Resources & Recruitment                            Training & Development\n",
       "Information & Communication Technology             Web Development & Production\n",
       "Insurance & Superannuation                                Workers' Compensation\n",
       "Legal                                                                   Tax Law\n",
       "Manufacturing, Transport & Logistics        Warehousing, Storage & Distribution\n",
       "Marketing & Communications                                      Trade Marketing\n",
       "Mining, Resources & Energy                                            Surveying\n",
       "Real Estate & Property                                                Valuation\n",
       "Retail & Consumer Products                                    Retail Assistants\n",
       "Sales                                         Sales Representatives/Consultants\n",
       "Science & Technology                                Quality Assurance & Control\n",
       "Self Employment                                                 Self Employment\n",
       "Sport & Recreation                                                        Other\n",
       "Trades & Services                                        Welders & Boilermakers\n",
       "Name: SubClassification, dtype: object"
      ]
     },
     "execution_count": 159,
     "metadata": {},
     "output_type": "execute_result"
    }
   ],
   "source": [
    "subSec = data.groupby('Classification')['SubClassification'].max()\n",
    "subSec"
   ]
  },
  {
   "cell_type": "markdown",
   "metadata": {},
   "source": [
    "# Salary range for each sector/sub-sector"
   ]
  },
  {
   "cell_type": "code",
   "execution_count": 173,
   "metadata": {},
   "outputs": [
    {
     "data": {
      "text/html": [
       "<div>\n",
       "<style scoped>\n",
       "    .dataframe tbody tr th:only-of-type {\n",
       "        vertical-align: middle;\n",
       "    }\n",
       "\n",
       "    .dataframe tbody tr th {\n",
       "        vertical-align: top;\n",
       "    }\n",
       "\n",
       "    .dataframe thead th {\n",
       "        text-align: right;\n",
       "    }\n",
       "</style>\n",
       "<table border=\"1\" class=\"dataframe\">\n",
       "  <thead>\n",
       "    <tr style=\"text-align: right;\">\n",
       "      <th></th>\n",
       "      <th>LowestSalary</th>\n",
       "      <th>HighestSalary</th>\n",
       "    </tr>\n",
       "    <tr>\n",
       "      <th>Classification</th>\n",
       "      <th></th>\n",
       "      <th></th>\n",
       "    </tr>\n",
       "  </thead>\n",
       "  <tbody>\n",
       "    <tr>\n",
       "      <td>Accounting</td>\n",
       "      <td>67.137062</td>\n",
       "      <td>108.139838</td>\n",
       "    </tr>\n",
       "    <tr>\n",
       "      <td>Administration &amp; Office Support</td>\n",
       "      <td>40.057884</td>\n",
       "      <td>57.147705</td>\n",
       "    </tr>\n",
       "    <tr>\n",
       "      <td>Advertising, Arts &amp; Media</td>\n",
       "      <td>56.062425</td>\n",
       "      <td>84.644658</td>\n",
       "    </tr>\n",
       "    <tr>\n",
       "      <td>Banking &amp; Financial Services</td>\n",
       "      <td>78.508526</td>\n",
       "      <td>143.533779</td>\n",
       "    </tr>\n",
       "    <tr>\n",
       "      <td>CEO &amp; General Management</td>\n",
       "      <td>126.741706</td>\n",
       "      <td>384.127962</td>\n",
       "    </tr>\n",
       "    <tr>\n",
       "      <td>Call Centre &amp; Customer Service</td>\n",
       "      <td>39.790985</td>\n",
       "      <td>57.398136</td>\n",
       "    </tr>\n",
       "    <tr>\n",
       "      <td>Community Services &amp; Development</td>\n",
       "      <td>47.977703</td>\n",
       "      <td>68.732219</td>\n",
       "    </tr>\n",
       "    <tr>\n",
       "      <td>Construction</td>\n",
       "      <td>89.939083</td>\n",
       "      <td>163.196011</td>\n",
       "    </tr>\n",
       "    <tr>\n",
       "      <td>Consulting &amp; Strategy</td>\n",
       "      <td>101.948590</td>\n",
       "      <td>213.184909</td>\n",
       "    </tr>\n",
       "    <tr>\n",
       "      <td>Design &amp; Architecture</td>\n",
       "      <td>67.355052</td>\n",
       "      <td>111.046383</td>\n",
       "    </tr>\n",
       "    <tr>\n",
       "      <td>Education &amp; Training</td>\n",
       "      <td>59.173491</td>\n",
       "      <td>86.236530</td>\n",
       "    </tr>\n",
       "    <tr>\n",
       "      <td>Engineering</td>\n",
       "      <td>90.346857</td>\n",
       "      <td>152.014710</td>\n",
       "    </tr>\n",
       "    <tr>\n",
       "      <td>Farming, Animals &amp; Conservation</td>\n",
       "      <td>46.972789</td>\n",
       "      <td>68.621315</td>\n",
       "    </tr>\n",
       "    <tr>\n",
       "      <td>Government &amp; Defence</td>\n",
       "      <td>75.943840</td>\n",
       "      <td>131.460701</td>\n",
       "    </tr>\n",
       "    <tr>\n",
       "      <td>Healthcare &amp; Medical</td>\n",
       "      <td>72.934738</td>\n",
       "      <td>162.015920</td>\n",
       "    </tr>\n",
       "    <tr>\n",
       "      <td>Hospitality &amp; Tourism</td>\n",
       "      <td>33.081879</td>\n",
       "      <td>47.406558</td>\n",
       "    </tr>\n",
       "    <tr>\n",
       "      <td>Human Resources &amp; Recruitment</td>\n",
       "      <td>69.734556</td>\n",
       "      <td>109.499276</td>\n",
       "    </tr>\n",
       "    <tr>\n",
       "      <td>Information &amp; Communication Technology</td>\n",
       "      <td>108.765573</td>\n",
       "      <td>256.279084</td>\n",
       "    </tr>\n",
       "    <tr>\n",
       "      <td>Insurance &amp; Superannuation</td>\n",
       "      <td>67.876526</td>\n",
       "      <td>105.000000</td>\n",
       "    </tr>\n",
       "    <tr>\n",
       "      <td>Legal</td>\n",
       "      <td>87.481709</td>\n",
       "      <td>156.894501</td>\n",
       "    </tr>\n",
       "    <tr>\n",
       "      <td>Manufacturing, Transport &amp; Logistics</td>\n",
       "      <td>46.964286</td>\n",
       "      <td>70.607708</td>\n",
       "    </tr>\n",
       "    <tr>\n",
       "      <td>Marketing &amp; Communications</td>\n",
       "      <td>67.825101</td>\n",
       "      <td>101.468750</td>\n",
       "    </tr>\n",
       "    <tr>\n",
       "      <td>Mining, Resources &amp; Energy</td>\n",
       "      <td>92.293257</td>\n",
       "      <td>164.978849</td>\n",
       "    </tr>\n",
       "    <tr>\n",
       "      <td>Real Estate &amp; Property</td>\n",
       "      <td>57.927504</td>\n",
       "      <td>100.794687</td>\n",
       "    </tr>\n",
       "    <tr>\n",
       "      <td>Retail &amp; Consumer Products</td>\n",
       "      <td>36.608631</td>\n",
       "      <td>53.476806</td>\n",
       "    </tr>\n",
       "    <tr>\n",
       "      <td>Sales</td>\n",
       "      <td>63.446237</td>\n",
       "      <td>101.293263</td>\n",
       "    </tr>\n",
       "    <tr>\n",
       "      <td>Science &amp; Technology</td>\n",
       "      <td>74.320442</td>\n",
       "      <td>127.893923</td>\n",
       "    </tr>\n",
       "    <tr>\n",
       "      <td>Self Employment</td>\n",
       "      <td>70.967742</td>\n",
       "      <td>111.806452</td>\n",
       "    </tr>\n",
       "    <tr>\n",
       "      <td>Sport &amp; Recreation</td>\n",
       "      <td>45.203252</td>\n",
       "      <td>73.359756</td>\n",
       "    </tr>\n",
       "    <tr>\n",
       "      <td>Trades &amp; Services</td>\n",
       "      <td>44.829217</td>\n",
       "      <td>61.948821</td>\n",
       "    </tr>\n",
       "  </tbody>\n",
       "</table>\n",
       "</div>"
      ],
      "text/plain": [
       "                                        LowestSalary  HighestSalary\n",
       "Classification                                                     \n",
       "Accounting                                 67.137062     108.139838\n",
       "Administration & Office Support            40.057884      57.147705\n",
       "Advertising, Arts & Media                  56.062425      84.644658\n",
       "Banking & Financial Services               78.508526     143.533779\n",
       "CEO & General Management                  126.741706     384.127962\n",
       "Call Centre & Customer Service             39.790985      57.398136\n",
       "Community Services & Development           47.977703      68.732219\n",
       "Construction                               89.939083     163.196011\n",
       "Consulting & Strategy                     101.948590     213.184909\n",
       "Design & Architecture                      67.355052     111.046383\n",
       "Education & Training                       59.173491      86.236530\n",
       "Engineering                                90.346857     152.014710\n",
       "Farming, Animals & Conservation            46.972789      68.621315\n",
       "Government & Defence                       75.943840     131.460701\n",
       "Healthcare & Medical                       72.934738     162.015920\n",
       "Hospitality & Tourism                      33.081879      47.406558\n",
       "Human Resources & Recruitment              69.734556     109.499276\n",
       "Information & Communication Technology    108.765573     256.279084\n",
       "Insurance & Superannuation                 67.876526     105.000000\n",
       "Legal                                      87.481709     156.894501\n",
       "Manufacturing, Transport & Logistics       46.964286      70.607708\n",
       "Marketing & Communications                 67.825101     101.468750\n",
       "Mining, Resources & Energy                 92.293257     164.978849\n",
       "Real Estate & Property                     57.927504     100.794687\n",
       "Retail & Consumer Products                 36.608631      53.476806\n",
       "Sales                                      63.446237     101.293263\n",
       "Science & Technology                       74.320442     127.893923\n",
       "Self Employment                            70.967742     111.806452\n",
       "Sport & Recreation                         45.203252      73.359756\n",
       "Trades & Services                          44.829217      61.948821"
      ]
     },
     "execution_count": 173,
     "metadata": {},
     "output_type": "execute_result"
    }
   ],
   "source": [
    "salaryRangeSec = data.groupby('Classification')['LowestSalary', 'HighestSalary'].mean()\n",
    "salaryRangeSec"
   ]
  },
  {
   "cell_type": "markdown",
   "metadata": {},
   "source": [
    "# Compare salary range betweeen sectors"
   ]
  },
  {
   "cell_type": "code",
   "execution_count": 183,
   "metadata": {},
   "outputs": [
    {
     "data": {
      "text/plain": [
       "Classification\n",
       "Accounting                                 87.638450\n",
       "Administration & Office Support            48.602794\n",
       "Advertising, Arts & Media                  70.353541\n",
       "Banking & Financial Services              111.021153\n",
       "CEO & General Management                  255.434834\n",
       "Call Centre & Customer Service             48.594561\n",
       "Community Services & Development           58.354961\n",
       "Construction                              126.567547\n",
       "Consulting & Strategy                     157.566750\n",
       "Design & Architecture                      89.200718\n",
       "Education & Training                       72.705011\n",
       "Engineering                               121.180784\n",
       "Farming, Animals & Conservation            57.797052\n",
       "Government & Defence                      103.702271\n",
       "Healthcare & Medical                      117.475329\n",
       "Hospitality & Tourism                      40.244218\n",
       "Human Resources & Recruitment              89.616916\n",
       "Information & Communication Technology    182.522328\n",
       "Insurance & Superannuation                 86.438263\n",
       "Legal                                     122.188105\n",
       "Manufacturing, Transport & Logistics       58.785997\n",
       "Marketing & Communications                 84.646925\n",
       "Mining, Resources & Energy                128.636053\n",
       "Real Estate & Property                     79.361096\n",
       "Retail & Consumer Products                 45.042719\n",
       "Sales                                      82.369750\n",
       "Science & Technology                      101.107182\n",
       "Self Employment                            91.387097\n",
       "Sport & Recreation                         59.281504\n",
       "Trades & Services                          53.389019\n",
       "Name: AvgSalary, dtype: float64"
      ]
     },
     "execution_count": 183,
     "metadata": {},
     "output_type": "execute_result"
    }
   ],
   "source": [
    "salaryRangeSec['AvgSalary'] = (salaryRangeSec['LowestSalary'] + salaryRangeSec['HighestSalary'])/2\n",
    "salaryRangeSec['AvgSalary']"
   ]
  },
  {
   "cell_type": "code",
   "execution_count": 238,
   "metadata": {},
   "outputs": [
    {
     "name": "stdout",
     "output_type": "stream",
     "text": [
      "Lowest Average Salary:  Hospitality & Tourism : 40.24421825678026\n"
     ]
    }
   ],
   "source": [
    "nameLowSec = salaryRangeSec['AvgSalary'].idxmin()\n",
    "valueLowSec = salaryRangeSec['AvgSalary'].values.min()\n",
    "print(\"Lowest Average Salary: \", nameLowSec, \":\", valueLowSec)"
   ]
  },
  {
   "cell_type": "code",
   "execution_count": 239,
   "metadata": {},
   "outputs": [
    {
     "name": "stdout",
     "output_type": "stream",
     "text": [
      "Highest Average Salary:  CEO & General Management : 255.43483412322274\n"
     ]
    }
   ],
   "source": [
    "nameHighSec = salaryRangeSec['AvgSalary'].idxmax()\n",
    "valueHighSec = salaryRangeSec['AvgSalary'].values.max()\n",
    "print(\"Highest Average Salary: \", nameHighSec, \":\", valueHighSec)"
   ]
  },
  {
   "cell_type": "markdown",
   "metadata": {},
   "source": [
    "Conclusion: As above, between all sectors:\n",
    "    Lowest Salary: Hospitality and Tourism (33.081879),\n",
    "    Highest Salary: CEO & General Management (384.127962).\n",
    "About the average salary:\n",
    "    Lowest Salary: Hospitality & Tourism (40.24421825678026),\n",
    "    Highest Salary: CEO & General Management (255.43483412322274)."
   ]
  },
  {
   "cell_type": "code",
   "execution_count": 213,
   "metadata": {},
   "outputs": [
    {
     "data": {
      "text/html": [
       "<div>\n",
       "<style scoped>\n",
       "    .dataframe tbody tr th:only-of-type {\n",
       "        vertical-align: middle;\n",
       "    }\n",
       "\n",
       "    .dataframe tbody tr th {\n",
       "        vertical-align: top;\n",
       "    }\n",
       "\n",
       "    .dataframe thead th {\n",
       "        text-align: right;\n",
       "    }\n",
       "</style>\n",
       "<table border=\"1\" class=\"dataframe\">\n",
       "  <thead>\n",
       "    <tr style=\"text-align: right;\">\n",
       "      <th></th>\n",
       "      <th>LowestSalary</th>\n",
       "      <th>HighestSalary</th>\n",
       "    </tr>\n",
       "    <tr>\n",
       "      <th>SubClassification</th>\n",
       "      <th></th>\n",
       "      <th></th>\n",
       "    </tr>\n",
       "  </thead>\n",
       "  <tbody>\n",
       "    <tr>\n",
       "      <td>Account &amp; Relationship Management</td>\n",
       "      <td>69.433155</td>\n",
       "      <td>102.520856</td>\n",
       "    </tr>\n",
       "    <tr>\n",
       "      <td>Accounts Officers/Clerks</td>\n",
       "      <td>44.090420</td>\n",
       "      <td>66.009688</td>\n",
       "    </tr>\n",
       "    <tr>\n",
       "      <td>Accounts Payable</td>\n",
       "      <td>42.241055</td>\n",
       "      <td>61.745763</td>\n",
       "    </tr>\n",
       "    <tr>\n",
       "      <td>Accounts Receivable/Credit Control</td>\n",
       "      <td>44.019608</td>\n",
       "      <td>60.374183</td>\n",
       "    </tr>\n",
       "    <tr>\n",
       "      <td>Actuarial</td>\n",
       "      <td>82.857143</td>\n",
       "      <td>108.392857</td>\n",
       "    </tr>\n",
       "    <tr>\n",
       "      <td>...</td>\n",
       "      <td>...</td>\n",
       "      <td>...</td>\n",
       "    </tr>\n",
       "    <tr>\n",
       "      <td>Web Development &amp; Production</td>\n",
       "      <td>89.004425</td>\n",
       "      <td>165.643805</td>\n",
       "    </tr>\n",
       "    <tr>\n",
       "      <td>Welders &amp; Boilermakers</td>\n",
       "      <td>48.017316</td>\n",
       "      <td>64.735931</td>\n",
       "    </tr>\n",
       "    <tr>\n",
       "      <td>Winery &amp; Viticulture</td>\n",
       "      <td>58.333333</td>\n",
       "      <td>105.633333</td>\n",
       "    </tr>\n",
       "    <tr>\n",
       "      <td>Workers' Compensation</td>\n",
       "      <td>59.137931</td>\n",
       "      <td>77.816092</td>\n",
       "    </tr>\n",
       "    <tr>\n",
       "      <td>Workplace Training &amp; Assessment</td>\n",
       "      <td>66.620209</td>\n",
       "      <td>92.083624</td>\n",
       "    </tr>\n",
       "  </tbody>\n",
       "</table>\n",
       "<p>338 rows × 2 columns</p>\n",
       "</div>"
      ],
      "text/plain": [
       "                                    LowestSalary  HighestSalary\n",
       "SubClassification                                              \n",
       "Account & Relationship Management      69.433155     102.520856\n",
       "Accounts Officers/Clerks               44.090420      66.009688\n",
       "Accounts Payable                       42.241055      61.745763\n",
       "Accounts Receivable/Credit Control     44.019608      60.374183\n",
       "Actuarial                              82.857143     108.392857\n",
       "...                                          ...            ...\n",
       "Web Development & Production           89.004425     165.643805\n",
       "Welders & Boilermakers                 48.017316      64.735931\n",
       "Winery & Viticulture                   58.333333     105.633333\n",
       "Workers' Compensation                  59.137931      77.816092\n",
       "Workplace Training & Assessment        66.620209      92.083624\n",
       "\n",
       "[338 rows x 2 columns]"
      ]
     },
     "execution_count": 213,
     "metadata": {},
     "output_type": "execute_result"
    }
   ],
   "source": [
    "salaryRangeSubSec = data.groupby('SubClassification')['LowestSalary', 'HighestSalary'].mean()\n",
    "salaryRangeSubSec"
   ]
  },
  {
   "cell_type": "code",
   "execution_count": 197,
   "metadata": {},
   "outputs": [
    {
     "data": {
      "text/plain": [
       "'Waiting Staff'"
      ]
     },
     "execution_count": 197,
     "metadata": {},
     "output_type": "execute_result"
    }
   ],
   "source": [
    "salaryRangeSubSec['LowestSalary'].idxmin()"
   ]
  },
  {
   "cell_type": "code",
   "execution_count": 202,
   "metadata": {},
   "outputs": [
    {
     "data": {
      "text/plain": [
       "'General Practitioners'"
      ]
     },
     "execution_count": 202,
     "metadata": {},
     "output_type": "execute_result"
    }
   ],
   "source": [
    "salaryRangeSubSec['HighestSalary'].idxmax()"
   ]
  },
  {
   "cell_type": "markdown",
   "metadata": {},
   "source": [
    "# Compare the salary range between sub-sectors"
   ]
  },
  {
   "cell_type": "code",
   "execution_count": 216,
   "metadata": {},
   "outputs": [
    {
     "data": {
      "text/plain": [
       "SubClassification\n",
       "Account & Relationship Management      85.977005\n",
       "Accounts Officers/Clerks               55.050054\n",
       "Accounts Payable                       51.993409\n",
       "Accounts Receivable/Credit Control     52.196895\n",
       "Actuarial                              95.625000\n",
       "                                         ...    \n",
       "Web Development & Production          127.324115\n",
       "Welders & Boilermakers                 56.376623\n",
       "Winery & Viticulture                   81.983333\n",
       "Workers' Compensation                  68.477011\n",
       "Workplace Training & Assessment        79.351916\n",
       "Name: AvgSalary, Length: 338, dtype: float64"
      ]
     },
     "execution_count": 216,
     "metadata": {},
     "output_type": "execute_result"
    }
   ],
   "source": [
    "salaryRangeSubSec['AvgSalary'] = (salaryRangeSubSec['LowestSalary'] + salaryRangeSubSec['HighestSalary'])/2\n",
    "salaryRangeSubSec['AvgSalary']"
   ]
  },
  {
   "cell_type": "code",
   "execution_count": 235,
   "metadata": {},
   "outputs": [
    {
     "name": "stdout",
     "output_type": "stream",
     "text": [
      "Lowest Average Salary:  Waiting Staff : 34.69256284916201\n"
     ]
    }
   ],
   "source": [
    "nameLowSubSec = salaryRangeSubSec['AvgSalary'].idxmin()\n",
    "valueLowSubSec = salaryRangeSubSec['AvgSalary'].values.min()\n",
    "print(\"Lowest Average Salary: \", nameLowSubSec, \":\", valueLowSubSec)"
   ]
  },
  {
   "cell_type": "code",
   "execution_count": 236,
   "metadata": {},
   "outputs": [
    {
     "name": "stdout",
     "output_type": "stream",
     "text": [
      "Highest Average Salary:  General Practitioners : 412.2347585114806\n"
     ]
    }
   ],
   "source": [
    "nameHighSubSec = salaryRangeSubSec['AvgSalary'].idxmax()\n",
    "valueHighSubSec = salaryRangeSubSec['AvgSalary'].values.max()\n",
    "print(\"Highest Average Salary: \", nameHighSubSec, \":\", valueHighSubSec)"
   ]
  },
  {
   "cell_type": "markdown",
   "metadata": {},
   "source": [
    "Conclusion: As above, between all sub-sectors:\n",
    "    Lowest Salary: Waiting Staff (27.824721),\n",
    "    Highest Salary: General Practitioners (669.940618).\n",
    "About the average salary:\n",
    "    Lowest Salary: Waiting Staff (34.69256284916201),\n",
    "    Highest Salary: General Practitioners (412.2347585114806)."
   ]
  },
  {
   "cell_type": "markdown",
   "metadata": {},
   "source": [
    "# Trending of market:"
   ]
  },
  {
   "cell_type": "code",
   "execution_count": 243,
   "metadata": {},
   "outputs": [
    {
     "data": {
      "text/plain": [
       "Classification\n",
       "Information & Communication Technology    22796\n",
       "Trades & Services                         17976\n",
       "Healthcare & Medical                      17085\n",
       "Hospitality & Tourism                     15523\n",
       "Manufacturing, Transport & Logistics      12376\n",
       "dtype: int64"
      ]
     },
     "execution_count": 243,
     "metadata": {},
     "output_type": "execute_result"
    }
   ],
   "source": [
    "highestMarketShare.nlargest(5)"
   ]
  },
  {
   "cell_type": "markdown",
   "metadata": {},
   "source": [
    "As above we can see those are the 5 most popular jobs as well as always require a huge amount of human resources.\n",
    "So in order to guarantee a job in the future, I would suggest that student heading on studying IT or economy or both at the same time."
   ]
  },
  {
   "cell_type": "markdown",
   "metadata": {},
   "source": [
    "## 4) Visualize the result on an interactive web page"
   ]
  },
  {
   "cell_type": "code",
   "execution_count": null,
   "metadata": {},
   "outputs": [],
   "source": []
  },
  {
   "cell_type": "markdown",
   "metadata": {},
   "source": [
    "## 5) Using PySpark for data analysis"
   ]
  },
  {
   "cell_type": "code",
   "execution_count": null,
   "metadata": {},
   "outputs": [],
   "source": []
  },
  {
   "cell_type": "markdown",
   "metadata": {},
   "source": [
    "## PART 3"
   ]
  },
  {
   "cell_type": "markdown",
   "metadata": {},
   "source": [
    "## 1) The finding of your data analytics (Vu)"
   ]
  },
  {
   "cell_type": "code",
   "execution_count": null,
   "metadata": {},
   "outputs": [],
   "source": []
  },
  {
   "cell_type": "markdown",
   "metadata": {},
   "source": [
    "## 2) Actions for balancing the markets do you suggest based on your finding? (Vu)"
   ]
  },
  {
   "cell_type": "code",
   "execution_count": null,
   "metadata": {},
   "outputs": [],
   "source": []
  },
  {
   "cell_type": "markdown",
   "metadata": {},
   "source": [
    "## 3) Refine the data analytics?(Vu)"
   ]
  },
  {
   "cell_type": "code",
   "execution_count": null,
   "metadata": {},
   "outputs": [],
   "source": []
  },
  {
   "cell_type": "markdown",
   "metadata": {},
   "source": [
    "## 4) Are there any implications for employer and employees base on the finding you obtained? Justify your answer (Vu)"
   ]
  },
  {
   "cell_type": "code",
   "execution_count": null,
   "metadata": {},
   "outputs": [],
   "source": []
  },
  {
   "cell_type": "markdown",
   "metadata": {},
   "source": [
    "## 5) Present and visualize your data story on a online web page[optional]"
   ]
  },
  {
   "cell_type": "code",
   "execution_count": null,
   "metadata": {},
   "outputs": [],
   "source": []
  }
 ],
 "metadata": {
  "kernelspec": {
   "display_name": "Python 3",
   "language": "python",
   "name": "python3"
  },
  "language_info": {
   "codemirror_mode": {
    "name": "ipython",
    "version": 3
   },
   "file_extension": ".py",
   "mimetype": "text/x-python",
   "name": "python",
   "nbconvert_exporter": "python",
   "pygments_lexer": "ipython3",
   "version": "3.7.4"
  }
 },
 "nbformat": 4,
 "nbformat_minor": 2
}
